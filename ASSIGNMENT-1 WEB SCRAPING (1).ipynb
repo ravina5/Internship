{
 "cells": [
  {
   "cell_type": "code",
   "execution_count": 1,
   "id": "9196dce1",
   "metadata": {},
   "outputs": [
    {
     "name": "stdout",
     "output_type": "stream",
     "text": [
      "Requirement already satisfied: bs4 in c:\\users\\dell\\anaconda3\\lib\\site-packages (0.0.1)\n",
      "Requirement already satisfied: beautifulsoup4 in c:\\users\\dell\\anaconda3\\lib\\site-packages (from bs4) (4.11.1)\n",
      "Requirement already satisfied: soupsieve>1.2 in c:\\users\\dell\\anaconda3\\lib\\site-packages (from beautifulsoup4->bs4) (2.3.1)\n",
      "Requirement already satisfied: requests in c:\\users\\dell\\anaconda3\\lib\\site-packages (2.28.1)\n",
      "Requirement already satisfied: idna<4,>=2.5 in c:\\users\\dell\\anaconda3\\lib\\site-packages (from requests) (3.3)\n",
      "Requirement already satisfied: charset-normalizer<3,>=2 in c:\\users\\dell\\anaconda3\\lib\\site-packages (from requests) (2.0.4)\n",
      "Requirement already satisfied: urllib3<1.27,>=1.21.1 in c:\\users\\dell\\anaconda3\\lib\\site-packages (from requests) (1.26.11)\n",
      "Requirement already satisfied: certifi>=2017.4.17 in c:\\users\\dell\\anaconda3\\lib\\site-packages (from requests) (2022.9.14)\n",
      "Requirement already satisfied: html5lib in c:\\users\\dell\\anaconda3\\lib\\site-packages (1.1)\n",
      "Requirement already satisfied: six>=1.9 in c:\\users\\dell\\anaconda3\\lib\\site-packages (from html5lib) (1.16.0)\n",
      "Requirement already satisfied: webencodings in c:\\users\\dell\\anaconda3\\lib\\site-packages (from html5lib) (0.5.1)\n"
     ]
    }
   ],
   "source": [
    "!pip install bs4\n",
    "!pip install requests\n",
    "!pip install html5lib"
   ]
  },
  {
   "cell_type": "code",
   "execution_count": 2,
   "id": "05f426e7",
   "metadata": {},
   "outputs": [],
   "source": [
    "from bs4 import BeautifulSoup\n",
    "import requests"
   ]
  },
  {
   "cell_type": "code",
   "execution_count": 3,
   "id": "56afccc5",
   "metadata": {},
   "outputs": [],
   "source": [
    "import pandas as pd"
   ]
  },
  {
   "cell_type": "markdown",
   "id": "f9e92f5e",
   "metadata": {},
   "source": [
    "# ANS1"
   ]
  },
  {
   "cell_type": "code",
   "execution_count": 4,
   "id": "42c7471e",
   "metadata": {},
   "outputs": [
    {
     "data": {
      "text/plain": [
       "<Response [200]>"
      ]
     },
     "execution_count": 4,
     "metadata": {},
     "output_type": "execute_result"
    }
   ],
   "source": [
    "page = requests.get('https://en.wikipedia.org/wiki/Main_Page') #send request to page \n",
    "page"
   ]
  },
  {
   "cell_type": "code",
   "execution_count": 51,
   "id": "7d607730",
   "metadata": {},
   "outputs": [],
   "source": [
    "soup = BeautifulSoup(page.content)   #download page content\n"
   ]
  },
  {
   "cell_type": "code",
   "execution_count": 6,
   "id": "49f2e558",
   "metadata": {},
   "outputs": [
    {
     "data": {
      "text/plain": [
       "['Welcome to Wikipedia',\n",
       " \"From today's featured article\",\n",
       " 'Did you know\\xa0...',\n",
       " 'In the news',\n",
       " 'On this day',\n",
       " \"Today's featured picture\",\n",
       " 'Other areas of Wikipedia',\n",
       " \"Wikipedia's sister projects\",\n",
       " 'Wikipedia languages']"
      ]
     },
     "execution_count": 6,
     "metadata": {},
     "output_type": "execute_result"
    }
   ],
   "source": [
    "header = [] #empt list\n",
    "for i in soup.find_all('span',class_=\"mw-headline\"):\n",
    "    header.append(i.text)\n",
    "    \n",
    "    \n",
    "header    "
   ]
  },
  {
   "cell_type": "code",
   "execution_count": 7,
   "id": "305113bb",
   "metadata": {},
   "outputs": [
    {
     "data": {
      "text/html": [
       "<div>\n",
       "<style scoped>\n",
       "    .dataframe tbody tr th:only-of-type {\n",
       "        vertical-align: middle;\n",
       "    }\n",
       "\n",
       "    .dataframe tbody tr th {\n",
       "        vertical-align: top;\n",
       "    }\n",
       "\n",
       "    .dataframe thead th {\n",
       "        text-align: right;\n",
       "    }\n",
       "</style>\n",
       "<table border=\"1\" class=\"dataframe\">\n",
       "  <thead>\n",
       "    <tr style=\"text-align: right;\">\n",
       "      <th></th>\n",
       "      <th>Headers</th>\n",
       "    </tr>\n",
       "  </thead>\n",
       "  <tbody>\n",
       "    <tr>\n",
       "      <th>0</th>\n",
       "      <td>Welcome to Wikipedia</td>\n",
       "    </tr>\n",
       "    <tr>\n",
       "      <th>1</th>\n",
       "      <td>From today's featured article</td>\n",
       "    </tr>\n",
       "    <tr>\n",
       "      <th>2</th>\n",
       "      <td>Did you know ...</td>\n",
       "    </tr>\n",
       "    <tr>\n",
       "      <th>3</th>\n",
       "      <td>In the news</td>\n",
       "    </tr>\n",
       "    <tr>\n",
       "      <th>4</th>\n",
       "      <td>On this day</td>\n",
       "    </tr>\n",
       "    <tr>\n",
       "      <th>5</th>\n",
       "      <td>Today's featured picture</td>\n",
       "    </tr>\n",
       "    <tr>\n",
       "      <th>6</th>\n",
       "      <td>Other areas of Wikipedia</td>\n",
       "    </tr>\n",
       "    <tr>\n",
       "      <th>7</th>\n",
       "      <td>Wikipedia's sister projects</td>\n",
       "    </tr>\n",
       "    <tr>\n",
       "      <th>8</th>\n",
       "      <td>Wikipedia languages</td>\n",
       "    </tr>\n",
       "  </tbody>\n",
       "</table>\n",
       "</div>"
      ],
      "text/plain": [
       "                         Headers\n",
       "0           Welcome to Wikipedia\n",
       "1  From today's featured article\n",
       "2               Did you know ...\n",
       "3                    In the news\n",
       "4                    On this day\n",
       "5       Today's featured picture\n",
       "6       Other areas of Wikipedia\n",
       "7    Wikipedia's sister projects\n",
       "8            Wikipedia languages"
      ]
     },
     "execution_count": 7,
     "metadata": {},
     "output_type": "execute_result"
    }
   ],
   "source": [
    "import pandas as pd\n",
    "df = pd.DataFrame({\"Headers\":header})\n",
    "df"
   ]
  },
  {
   "cell_type": "markdown",
   "id": "d153a529",
   "metadata": {},
   "source": [
    "# ANS 2"
   ]
  },
  {
   "cell_type": "code",
   "execution_count": null,
   "id": "e3c0e62f",
   "metadata": {},
   "outputs": [],
   "source": []
  },
  {
   "cell_type": "markdown",
   "id": "9341f0ab",
   "metadata": {},
   "source": [
    "# ANS 3"
   ]
  },
  {
   "cell_type": "code",
   "execution_count": 8,
   "id": "5d35f759",
   "metadata": {},
   "outputs": [
    {
     "data": {
      "text/plain": [
       "[]"
      ]
     },
     "execution_count": 8,
     "metadata": {},
     "output_type": "execute_result"
    }
   ],
   "source": [
    "team = [] \n",
    "for i in soup.find_all('span',class_=\"u-hide-phablet\")[0:10]:\n",
    "    team.append(i.text)\n",
    "    \n",
    "\n",
    "team"
   ]
  },
  {
   "cell_type": "markdown",
   "id": "ce41e413",
   "metadata": {},
   "source": [
    "# a) Top 10 ODI Teams:"
   ]
  },
  {
   "cell_type": "code",
   "execution_count": 9,
   "id": "9c5ad46f",
   "metadata": {},
   "outputs": [],
   "source": [
    "# Define the URL for Men's ODI Team Rankings\n",
    "url = 'https://www.icc-cricket.com/rankings/mens/team-rankings/odi'"
   ]
  },
  {
   "cell_type": "code",
   "execution_count": 10,
   "id": "2150317e",
   "metadata": {},
   "outputs": [],
   "source": [
    "# Send a GET request to fetch the HTML content of the page\n",
    "content = requests.get(url)\n",
    "html_content = content.text\n",
    "#print(html_content)"
   ]
  },
  {
   "cell_type": "markdown",
   "id": "d07d3f94",
   "metadata": {},
   "source": [
    "HTML parser in BeautifulSoup is like a tool that helps read and understand the structure of an HTML document. Imagine you have a recipe (the HTML document), and you want to separate the ingredients (HTML elements like headings, paragraphs, links, etc.) from the instructions (the actual content). An HTML parser is what helps you achieve this separation.\n"
   ]
  },
  {
   "cell_type": "code",
   "execution_count": 11,
   "id": "50b7cb92",
   "metadata": {},
   "outputs": [],
   "source": [
    "# Parse the HTML content using BeautifulSoup\n",
    "soup = BeautifulSoup(html_content, \"html.parser\")"
   ]
  },
  {
   "cell_type": "markdown",
   "id": "4a2806c1",
   "metadata": {},
   "source": [
    "table row (tr),  table column (td), regular cells (th) for header cells"
   ]
  },
  {
   "cell_type": "code",
   "execution_count": 12,
   "id": "9af770c2",
   "metadata": {},
   "outputs": [],
   "source": [
    "# Find the table containing the team rankings\n",
    "table = soup.find(\"table\", {\"class\": \"table\"})\n",
    "rows = table.find_all(\"tr\")[1:11]  # Skip the header row\n"
   ]
  },
  {
   "cell_type": "code",
   "execution_count": 13,
   "id": "07255971",
   "metadata": {},
   "outputs": [
    {
     "name": "stdout",
     "output_type": "stream",
     "text": [
      "5\n",
      "5\n",
      "5\n",
      "5\n",
      "5\n",
      "5\n",
      "5\n",
      "5\n",
      "5\n",
      "5\n",
      "['Australia\\nAUS', 'Pakistan\\nPAK', 'India\\nIND', 'New Zealand\\nNZ', 'England\\nENG', 'South Africa\\nSA', 'Bangladesh\\nBAN', 'Afghanistan\\nAFG', 'Sri Lanka\\nSL', 'West Indies\\nWI']\n",
      "['23', '20', '36', '27', '24', '19', '28', '16', '32', '38']\n",
      "['2,714', '2,316', '4,081', '2,806', '2,426', '1,910', '2,661', '1,404', '2,794', '2,582']\n",
      "['118', '116', '113', '104', '101', '101', '95', '88', '87', '68']\n"
     ]
    }
   ],
   "source": [
    "#  empt lists \n",
    "teams = []\n",
    "matches = []\n",
    "points = []\n",
    "ratings = []\n",
    "\n",
    "# Extract data from each row\n",
    "for row in rows:\n",
    "    columns = row.find_all(\"td\")\n",
    "    print(len(columns))                      #how much columns\n",
    "    team = columns[1].text.strip()\n",
    "    match = columns[2].text.strip()\n",
    "    point = columns[3].text.strip()\n",
    "    rating =columns[4].text.strip()\n",
    "    \n",
    "    teams.append(team)\n",
    "    matches.append(match)\n",
    "    points.append(point)\n",
    "    ratings.append(rating)\n",
    "    \n",
    "print(teams)\n",
    "print(matches)\n",
    "print(points)\n",
    "print(ratings)"
   ]
  },
  {
   "cell_type": "code",
   "execution_count": 14,
   "id": "eba3abd5",
   "metadata": {},
   "outputs": [
    {
     "name": "stdout",
     "output_type": "stream",
     "text": [
      "               Team Matches Points Rating\n",
      "0    Australia\\nAUS      23  2,714    118\n",
      "1     Pakistan\\nPAK      20  2,316    116\n",
      "2        India\\nIND      36  4,081    113\n",
      "3   New Zealand\\nNZ      27  2,806    104\n",
      "4      England\\nENG      24  2,426    101\n",
      "5  South Africa\\nSA      19  1,910    101\n",
      "6   Bangladesh\\nBAN      28  2,661     95\n",
      "7  Afghanistan\\nAFG      16  1,404     88\n",
      "8     Sri Lanka\\nSL      32  2,794     87\n",
      "9   West Indies\\nWI      38  2,582     68\n"
     ]
    }
   ],
   "source": [
    "\n",
    "# Create a DataFrame from the extracted data\n",
    "data = {\"Team\": teams,\"Matches\": matches,\"Points\": points, \"Rating\": ratings}\n",
    "df = pd.DataFrame(data)\n",
    "\n",
    "print(df)\n"
   ]
  },
  {
   "cell_type": "markdown",
   "id": "538c3600",
   "metadata": {},
   "source": [
    "# b) Top 10 ODI Batsmen:\n",
    "\n"
   ]
  },
  {
   "cell_type": "code",
   "execution_count": 15,
   "id": "c3db99f7",
   "metadata": {},
   "outputs": [
    {
     "name": "stdout",
     "output_type": "stream",
     "text": [
      "5\n",
      "5\n",
      "5\n",
      "5\n",
      "5\n",
      "5\n",
      "5\n",
      "5\n",
      "5\n",
      "5\n",
      "['Babar Azam', 'Rassie van der Dussen', 'Fakhar Zaman', 'Imam-ul-Haq', 'Shubman Gill', 'Harry Tector', 'David Warner', 'Quinton de Kock', 'Virat Kohli', 'Steve Smith']\n",
      "['PAK', 'SA', 'PAK', 'PAK', 'IND', 'IRE', 'AUS', 'SA', 'IND', 'AUS']\n",
      "['886', '777', '755', '745', '743', '726', '726', '718', '705', '702']\n"
     ]
    }
   ],
   "source": [
    "url2 = 'https://www.icc-cricket.com/rankings/mens/player-rankings/odi/batting'\n",
    "\n",
    "content2 = requests.get(url2)\n",
    "html_content2 = content2.text\n",
    "\n",
    "soup = BeautifulSoup(html_content2, \"html.parser\")\n",
    "\n",
    "table = soup.find(\"table\", {\"class\": \"table\"})\n",
    "rows = table.find_all(\"tr\")[1:11]\n",
    "\n",
    "\n",
    "players =[]\n",
    "teams   =[]\n",
    "ratings =[]\n",
    "\n",
    "\n",
    "for row in rows:\n",
    "    columns = row.find_all(\"td\")\n",
    "    print(len(columns))                      \n",
    "    player = columns[1].text.strip()\n",
    "    team   = columns[2].text.strip()\n",
    "    rating = columns[3].text.strip()\n",
    "    \n",
    "    players.append(player)\n",
    "    teams.append(team)\n",
    "    ratings.append(rating)\n",
    "\n",
    "    \n",
    "    \n",
    "print(players)\n",
    "print(teams)\n",
    "print(ratings)\n",
    "\n",
    "\n"
   ]
  },
  {
   "cell_type": "code",
   "execution_count": 16,
   "id": "ab97242c",
   "metadata": {},
   "outputs": [
    {
     "name": "stdout",
     "output_type": "stream",
     "text": [
      "                  Player Team Rating\n",
      "0             Babar Azam  PAK    886\n",
      "1  Rassie van der Dussen   SA    777\n",
      "2           Fakhar Zaman  PAK    755\n",
      "3            Imam-ul-Haq  PAK    745\n",
      "4           Shubman Gill  IND    743\n",
      "5           Harry Tector  IRE    726\n",
      "6           David Warner  AUS    726\n",
      "7        Quinton de Kock   SA    718\n",
      "8            Virat Kohli  IND    705\n",
      "9            Steve Smith  AUS    702\n"
     ]
    }
   ],
   "source": [
    "data2 = {\"Player\": players,\"Team\": teams,\"Rating\": ratings}\n",
    "df2 = pd.DataFrame(data2)\n",
    "\n",
    "print(df2)"
   ]
  },
  {
   "cell_type": "markdown",
   "id": "fb7639de",
   "metadata": {},
   "source": [
    "# c) Top 10 ODI Bowlers:"
   ]
  },
  {
   "cell_type": "code",
   "execution_count": 17,
   "id": "f53d9940",
   "metadata": {},
   "outputs": [
    {
     "name": "stdout",
     "output_type": "stream",
     "text": [
      "5\n",
      "5\n",
      "5\n",
      "5\n",
      "5\n",
      "5\n",
      "5\n",
      "5\n",
      "5\n",
      "5\n",
      "['Babar Azam', 'Rassie van der Dussen', 'Fakhar Zaman', 'Imam-ul-Haq', 'Shubman Gill', 'Harry Tector', 'David Warner', 'Quinton de Kock', 'Virat Kohli', 'Steve Smith']\n",
      "['PAK', 'SA', 'PAK', 'PAK', 'IND', 'IRE', 'AUS', 'SA', 'IND', 'AUS']\n",
      "['886', '777', '755', '745', '743', '726', '726', '718', '705', '702']\n"
     ]
    }
   ],
   "source": [
    "\n",
    "url3 = 'https://www.icc-cricket.com/rankings/mens/player-rankings/odi/bowling'\n",
    "\n",
    "content3 = requests.get(url3)\n",
    "html_content3 = content2.text\n",
    "\n",
    "soup = BeautifulSoup(html_content3, \"html.parser\")\n",
    "\n",
    "table = soup.find(\"table\", {\"class\": \"table\"})\n",
    "rows = table.find_all(\"tr\")[1:11]\n",
    "\n",
    "\n",
    "players =[]\n",
    "teams   =[]\n",
    "ratings =[]\n",
    "\n",
    "\n",
    "for row in rows:\n",
    "    columns = row.find_all(\"td\")\n",
    "    print(len(columns))                      \n",
    "    player = columns[1].text.strip()\n",
    "    team   = columns[2].text.strip()\n",
    "    rating = columns[3].text.strip()\n",
    "    \n",
    "    players.append(player)\n",
    "    teams.append(team)\n",
    "    ratings.append(rating)\n",
    "\n",
    "    \n",
    "    \n",
    "print(players)\n",
    "print(teams)\n",
    "print(ratings)\n"
   ]
  },
  {
   "cell_type": "code",
   "execution_count": 18,
   "id": "da3f010d",
   "metadata": {},
   "outputs": [
    {
     "name": "stdout",
     "output_type": "stream",
     "text": [
      "                  Player Team Rating\n",
      "0             Babar Azam  PAK    886\n",
      "1  Rassie van der Dussen   SA    777\n",
      "2           Fakhar Zaman  PAK    755\n",
      "3            Imam-ul-Haq  PAK    745\n",
      "4           Shubman Gill  IND    743\n",
      "5           Harry Tector  IRE    726\n",
      "6           David Warner  AUS    726\n",
      "7        Quinton de Kock   SA    718\n",
      "8            Virat Kohli  IND    705\n",
      "9            Steve Smith  AUS    702\n"
     ]
    }
   ],
   "source": [
    "data3 = {\"Player\": players,\"Team\": teams,\"Rating\": ratings}\n",
    "df3 = pd.DataFrame(data3)\n",
    "\n",
    "print(df3)"
   ]
  },
  {
   "cell_type": "markdown",
   "id": "a3263da3",
   "metadata": {},
   "source": [
    "# ANS.4"
   ]
  },
  {
   "cell_type": "markdown",
   "id": "2f022438",
   "metadata": {},
   "source": [
    "# a) Top 10 ODI teams in women’s cricket"
   ]
  },
  {
   "cell_type": "code",
   "execution_count": 19,
   "id": "7277d7e0",
   "metadata": {},
   "outputs": [
    {
     "name": "stdout",
     "output_type": "stream",
     "text": [
      "5\n",
      "5\n",
      "5\n",
      "5\n",
      "5\n",
      "5\n",
      "5\n",
      "5\n",
      "5\n",
      "5\n",
      "['Australia\\nAUS', 'England\\nENG', 'South Africa\\nSA', 'India\\nIND', 'New Zealand\\nNZ', 'West Indies\\nWI', 'Bangladesh\\nBAN', 'Sri Lanka\\nSL', 'Thailand\\nTHA', 'Pakistan\\nPAK']\n",
      "['26', '31', '26', '30', '28', '29', '17', '12', '13', '27']\n",
      "['4,290', '3,875', '3,098', '3,039', '2,688', '2,743', '1,284', '820', '883', '1,678']\n",
      "['165', '125', '119', '101', '96', '95', '76', '68', '68', '62']\n"
     ]
    }
   ],
   "source": [
    "url1 = 'https://www.icc-cricket.com/rankings/womens/team-rankings/odi'\n",
    "\n",
    "content1 = requests.get(url1)\n",
    "html_content1 = content1.text\n",
    "\n",
    "soup = BeautifulSoup(html_content1, \"html.parser\")\n",
    "\n",
    "table = soup.find(\"table\", {\"class\": \"table\"})\n",
    "rows = table.find_all(\"tr\")[1:11]\n",
    "\n",
    "\n",
    "\n",
    "teams = []\n",
    "matches = []\n",
    "points = []\n",
    "ratings = []\n",
    "\n",
    "\n",
    "for row in rows:\n",
    "    columns = row.find_all(\"td\")\n",
    "    print(len(columns))                      \n",
    "    team = columns[1].text.strip()\n",
    "    match = columns[2].text.strip()\n",
    "    point = columns[3].text.strip()\n",
    "    rating =columns[4].text.strip()\n",
    "    \n",
    "    teams.append(team)\n",
    "    matches.append(match)\n",
    "    points.append(point)\n",
    "    ratings.append(rating)\n",
    "    \n",
    "print(teams)\n",
    "print(matches)\n",
    "print(points)\n",
    "print(ratings)"
   ]
  },
  {
   "cell_type": "code",
   "execution_count": 20,
   "id": "69a80b19",
   "metadata": {},
   "outputs": [
    {
     "name": "stdout",
     "output_type": "stream",
     "text": [
      "               Team Matches Points Rating\n",
      "0    Australia\\nAUS      26  4,290    165\n",
      "1      England\\nENG      31  3,875    125\n",
      "2  South Africa\\nSA      26  3,098    119\n",
      "3        India\\nIND      30  3,039    101\n",
      "4   New Zealand\\nNZ      28  2,688     96\n",
      "5   West Indies\\nWI      29  2,743     95\n",
      "6   Bangladesh\\nBAN      17  1,284     76\n",
      "7     Sri Lanka\\nSL      12    820     68\n",
      "8     Thailand\\nTHA      13    883     68\n",
      "9     Pakistan\\nPAK      27  1,678     62\n"
     ]
    }
   ],
   "source": [
    "data = {\"Team\": teams,\"Matches\": matches,\"Points\": points, \"Rating\": ratings}\n",
    "df = pd.DataFrame(data)\n",
    "\n",
    "print(df)\n"
   ]
  },
  {
   "cell_type": "markdown",
   "id": "d662c87f",
   "metadata": {},
   "source": [
    "# b)Top 10 women’s ODI Batting :"
   ]
  },
  {
   "cell_type": "code",
   "execution_count": 21,
   "id": "71b2fe7b",
   "metadata": {},
   "outputs": [
    {
     "name": "stdout",
     "output_type": "stream",
     "text": [
      "5\n",
      "5\n",
      "5\n",
      "5\n",
      "5\n",
      "5\n",
      "5\n",
      "5\n",
      "5\n",
      "5\n",
      "['Natalie Sciver-Brunt', 'Chamari Athapaththu', 'Beth Mooney', 'Laura Wolvaardt', 'Smriti Mandhana', 'Alyssa Healy', 'Harmanpreet Kaur', 'Ellyse Perry', 'Meg Lanning', 'Stafanie Taylor']\n",
      "['ENG', 'SL', 'AUS', 'SA', 'IND', 'AUS', 'IND', 'AUS', 'AUS', 'WI']\n",
      "['803', '758', '751', '732', '708', '702', '694', '686', '682', '618']\n"
     ]
    }
   ],
   "source": [
    "url2 = 'https://www.icc-cricket.com/rankings/womens/player-rankings/odi/batting'\n",
    "\n",
    "content2 = requests.get(url2)\n",
    "html_content2 = content2.text\n",
    "\n",
    "soup = BeautifulSoup(html_content2, \"html.parser\")\n",
    "\n",
    "table = soup.find(\"table\", {\"class\": \"table\"})\n",
    "rows = table.find_all(\"tr\")[1:11]\n",
    "\n",
    "\n",
    "players =[]\n",
    "teams   =[]\n",
    "ratings =[]\n",
    "\n",
    "\n",
    "for row in rows:\n",
    "    columns = row.find_all(\"td\")\n",
    "    print(len(columns))                      \n",
    "    player = columns[1].text.strip()\n",
    "    team   = columns[2].text.strip()\n",
    "    rating = columns[3].text.strip()\n",
    "    \n",
    "    players.append(player)\n",
    "    teams.append(team)\n",
    "    ratings.append(rating)\n",
    "\n",
    "    \n",
    "    \n",
    "print(players)\n",
    "print(teams)\n",
    "print(ratings)\n",
    "\n",
    "\n"
   ]
  },
  {
   "cell_type": "code",
   "execution_count": 22,
   "id": "ac69d16d",
   "metadata": {},
   "outputs": [
    {
     "name": "stdout",
     "output_type": "stream",
     "text": [
      "                 Player Team Rating\n",
      "0  Natalie Sciver-Brunt  ENG    803\n",
      "1   Chamari Athapaththu   SL    758\n",
      "2           Beth Mooney  AUS    751\n",
      "3       Laura Wolvaardt   SA    732\n",
      "4       Smriti Mandhana  IND    708\n",
      "5          Alyssa Healy  AUS    702\n",
      "6      Harmanpreet Kaur  IND    694\n",
      "7          Ellyse Perry  AUS    686\n",
      "8           Meg Lanning  AUS    682\n",
      "9       Stafanie Taylor   WI    618\n"
     ]
    }
   ],
   "source": [
    "data2 = {\"Player\": players,\"Team\": teams,\"Rating\": ratings}\n",
    "df2 = pd.DataFrame(data2)\n",
    "\n",
    "print(df2)"
   ]
  },
  {
   "cell_type": "markdown",
   "id": "ea34cb94",
   "metadata": {},
   "source": [
    "# c) Top 10 women’s ODI all-rounder"
   ]
  },
  {
   "cell_type": "code",
   "execution_count": 23,
   "id": "14f116b1",
   "metadata": {},
   "outputs": [
    {
     "name": "stdout",
     "output_type": "stream",
     "text": [
      "5\n",
      "5\n",
      "5\n",
      "5\n",
      "5\n",
      "5\n",
      "5\n",
      "5\n",
      "5\n",
      "5\n",
      "['Natalie Sciver-Brunt', 'Chamari Athapaththu', 'Beth Mooney', 'Laura Wolvaardt', 'Smriti Mandhana', 'Alyssa Healy', 'Harmanpreet Kaur', 'Ellyse Perry', 'Meg Lanning', 'Stafanie Taylor']\n",
      "['ENG', 'SL', 'AUS', 'SA', 'IND', 'AUS', 'IND', 'AUS', 'AUS', 'WI']\n",
      "['803', '758', '751', '732', '708', '702', '694', '686', '682', '618']\n"
     ]
    }
   ],
   "source": [
    "url3 = 'https://www.icc-cricket.com/rankings/womens/player-rankings/odi/all-rounder'\n",
    "\n",
    "content3 = requests.get(url3)\n",
    "html_content3 = content2.text\n",
    "\n",
    "soup = BeautifulSoup(html_content3, \"html.parser\")\n",
    "\n",
    "table = soup.find(\"table\", {\"class\": \"table\"})\n",
    "rows = table.find_all(\"tr\")[1:11]\n",
    "\n",
    "\n",
    "players =[]\n",
    "teams   =[]\n",
    "ratings =[]\n",
    "\n",
    "\n",
    "for row in rows:\n",
    "    columns = row.find_all(\"td\")\n",
    "    print(len(columns))                      \n",
    "    player = columns[1].text.strip()\n",
    "    team   = columns[2].text.strip()\n",
    "    rating = columns[3].text.strip()\n",
    "    \n",
    "    players.append(player)\n",
    "    teams.append(team)\n",
    "    ratings.append(rating)\n",
    "\n",
    "    \n",
    "    \n",
    "print(players)\n",
    "print(teams)\n",
    "print(ratings)\n"
   ]
  },
  {
   "cell_type": "code",
   "execution_count": 24,
   "id": "041be11e",
   "metadata": {},
   "outputs": [
    {
     "name": "stdout",
     "output_type": "stream",
     "text": [
      "                 Player Team Rating\n",
      "0  Natalie Sciver-Brunt  ENG    803\n",
      "1   Chamari Athapaththu   SL    758\n",
      "2           Beth Mooney  AUS    751\n",
      "3       Laura Wolvaardt   SA    732\n",
      "4       Smriti Mandhana  IND    708\n",
      "5          Alyssa Healy  AUS    702\n",
      "6      Harmanpreet Kaur  IND    694\n",
      "7          Ellyse Perry  AUS    686\n",
      "8           Meg Lanning  AUS    682\n",
      "9       Stafanie Taylor   WI    618\n"
     ]
    }
   ],
   "source": [
    "data3 = {\"Player\": players,\"Team\": teams,\"Rating\": ratings}\n",
    "df3 = pd.DataFrame(data3)\n",
    "\n",
    "print(df3)"
   ]
  },
  {
   "cell_type": "markdown",
   "id": "046bf23d",
   "metadata": {},
   "source": [
    "# ANS.5"
   ]
  },
  {
   "cell_type": "code",
   "execution_count": 25,
   "id": "e1f57195",
   "metadata": {},
   "outputs": [],
   "source": [
    "url = \"https://www.cnbc.com/world/?region=world\"\n"
   ]
  },
  {
   "cell_type": "code",
   "execution_count": 26,
   "id": "584c02a9",
   "metadata": {},
   "outputs": [],
   "source": [
    "response = requests.get(url)\n",
    "html_content = response.text"
   ]
  },
  {
   "cell_type": "code",
   "execution_count": 27,
   "id": "b0f4a746",
   "metadata": {},
   "outputs": [],
   "source": [
    "soup = BeautifulSoup(html_content, \"html.parser\")"
   ]
  },
  {
   "cell_type": "code",
   "execution_count": 28,
   "id": "8f8a698c",
   "metadata": {},
   "outputs": [
    {
     "data": {
      "text/plain": [
       "[\"12 Hours AgoWhy 'career choices' is the No. 1 conflict among divorced people\",\n",
       " '14 Hours AgoCruise will reduce robotaxi fleet by 50% in San Francisco while California DMV investigates ‘incidents’',\n",
       " '14 Hours AgoCan American-made weapons like F-16s turn the tide in Ukraine?',\n",
       " '16 Hours AgoHarvard gut doctor avoids these 4 foods that cause inflammation—and what she eats instead',\n",
       " '16 Hours AgoThe clash of sustainability and AI is creating a challenge for Dell, IBM and others',\n",
       " '16 Hours AgoOn tap next week: 2 housing reports and 2 Investing Cub earnings releases ',\n",
       " '16 Hours AgoTop 10 best European cities for retirement ',\n",
       " \"17 Hours AgoGoogle's plan to purge inactive accounts isn't sitting well with some users\",\n",
       " \"17 Hours AgoThe No. 1 best state to retire in the U.S.—it's not Florida\",\n",
       " '17 Hours AgoMark Cuban passed on an Uber investment that could be worth $2.3 billion today',\n",
       " '18 Hours AgoBelieving these 5 Social Security myths may reduce your retirement benefits',\n",
       " \"18 Hours AgoHere's why Aldi is looking to the Southern U.S. for growth\",\n",
       " \"18 Hours AgoHere's how the Huy Fong Foods sriracha shortage could have been prevented\",\n",
       " '18 Hours AgoThis ETF is soaring in August as market swoon revives winning trades from 2022',\n",
       " '18 Hours AgoMorgan Stanley is among the most oversold in the S&P 500',\n",
       " '18 Hours AgoBuy these stocks with upside as market fears intensify, Goldman Sachs says',\n",
       " 'August 18, 2023Palo Alto shares rise on earnings beat, after Friday report concerned investors',\n",
       " 'August 18, 2023Wall Street awaits hotly anticipated Nvidia earnings. What the pros say to do',\n",
       " 'August 18, 2023WeWork plunges another 11% after announcing reverse stock split',\n",
       " 'August 18, 2023The iPhone 15 could get one of the biggest upgrades in years: A new charging port',\n",
       " \"August 18, 2023Coral bleaching event in Florida is 'just the tip of the iceberg,' NOAA says\\n\",\n",
       " 'August 18, 2023Bitcoin is giving a bearish signal. Here’s what chart analysts say happens next',\n",
       " 'August 18, 2023Earnings show shoppers will spend money for value, favoring two retail stocks',\n",
       " 'August 18, 2023Nvidia, key Powell speech to take center stage next week in midst of August woe ',\n",
       " 'August 18, 2023My HomePod is now a very expensive doorstop',\n",
       " 'August 18, 20233 trends are dividing restaurant companies into winners and losers',\n",
       " 'August 18, 2023How hurricanes may affect the 2024 Social Security cost-of-living adjustment',\n",
       " 'August 18, 2023Rosenblatt names its top picks to play the ‘age of A.I. gold rush’ ',\n",
       " 'August 18, 2023It may be tough for Apple to outperform from here, says top tech analyst',\n",
       " \"August 18, 2023'Blue Beetle' tries to take down 'Barbie' in a late summer box office showdown\"]"
      ]
     },
     "execution_count": 28,
     "metadata": {},
     "output_type": "execute_result"
    }
   ],
   "source": [
    "header = [] #empt list\n",
    "for i in soup.find_all(\"div\", class_=\"LatestNews-container\"):\n",
    "    header.append(i.text)\n",
    "    \n",
    "    \n",
    "header \n",
    "\n",
    "\n"
   ]
  },
  {
   "cell_type": "code",
   "execution_count": 29,
   "id": "b65cebe9",
   "metadata": {},
   "outputs": [
    {
     "name": "stdout",
     "output_type": "stream",
     "text": [
      "<class 'list'>\n",
      "30\n"
     ]
    }
   ],
   "source": [
    "print(type(header))\n",
    "print(len(header))"
   ]
  },
  {
   "cell_type": "code",
   "execution_count": 30,
   "id": "00f87ca3",
   "metadata": {},
   "outputs": [
    {
     "data": {
      "text/plain": [
       "['12 Hours Ago',\n",
       " '14 Hours Ago',\n",
       " '14 Hours Ago',\n",
       " '16 Hours Ago',\n",
       " '16 Hours Ago',\n",
       " '16 Hours Ago',\n",
       " '16 Hours Ago',\n",
       " '17 Hours Ago',\n",
       " '17 Hours Ago',\n",
       " '17 Hours Ago',\n",
       " '18 Hours Ago',\n",
       " '18 Hours Ago',\n",
       " '18 Hours Ago',\n",
       " '18 Hours Ago',\n",
       " '18 Hours Ago',\n",
       " '18 Hours Ago',\n",
       " 'August 18, 2023',\n",
       " 'August 18, 2023',\n",
       " 'August 18, 2023',\n",
       " 'August 18, 2023',\n",
       " 'August 18, 2023',\n",
       " 'August 18, 2023',\n",
       " 'August 18, 2023',\n",
       " 'August 18, 2023',\n",
       " 'August 18, 2023',\n",
       " 'August 18, 2023',\n",
       " 'August 18, 2023',\n",
       " 'August 18, 2023',\n",
       " 'August 18, 2023',\n",
       " 'August 18, 2023']"
      ]
     },
     "execution_count": 30,
     "metadata": {},
     "output_type": "execute_result"
    }
   ],
   "source": [
    "Time = [] #empt list\n",
    "for i in soup.find_all(\"span\", class_=\"LatestNews-wrapper\"):\n",
    "    Time.append(i.text)\n",
    "    \n",
    "    \n",
    "Time "
   ]
  },
  {
   "cell_type": "code",
   "execution_count": 31,
   "id": "0628b393",
   "metadata": {},
   "outputs": [
    {
     "name": "stdout",
     "output_type": "stream",
     "text": [
      "30\n"
     ]
    }
   ],
   "source": [
    "print(len(Time))"
   ]
  },
  {
   "cell_type": "code",
   "execution_count": 32,
   "id": "eb0ee7b9",
   "metadata": {
    "scrolled": true
   },
   "outputs": [
    {
     "name": "stdout",
     "output_type": "stream",
     "text": [
      "https://www.cnbc.com/2023/08/19/why-career-choices-is-the-no-1-conflict-among-divorced-people.html\n",
      "https://www.cnbc.com/2023/08/19/cruise-will-reduce-robotaxi-fleet-by-50percent-in-san-francisco.html\n",
      "https://www.cnbc.com/2023/08/19/can-expensive-american-made-weapons-like-f-16s-turn-the-tide-in-ukraines-war-against-russia.html\n",
      "https://www.cnbc.com/2023/08/19/harvard-gut-doctor-shares-foods-that-cause-inflammation-and-what-to-eat-instead.html\n",
      "https://www.cnbc.com/2023/08/19/the-clash-of-sustainability-and-ai-is-creating-a-challenge-for-dell-ibm-and-others.html\n",
      "https://www.cnbc.com/2023/08/19/on-tap-next-week-2-housing-reports-and-2-cub-earnings-releases.html\n",
      "https://www.cnbc.com/2023/08/19/best-countries-retire-in-europe-moving-to-spain-report.html\n",
      "https://www.cnbc.com/2023/08/19/google-faces-criticism-of-plan-to-purge-inactive-accounts.html\n",
      "https://www.cnbc.com/2023/08/19/best-us-states-to-retire-in-2023.html\n",
      "https://www.cnbc.com/2023/08/19/mark-cuban-passed-on-uber-stake-that-would-be-worth-2point3-billion-now.html\n",
      "https://www.cnbc.com/2023/08/19/social-security-believing-5-myths-may-slash-your-retirement-benefits.html\n",
      "https://www.cnbc.com/2023/08/19/aldi-winn-dixie-deal-why-the-german-grocer-is-expanding-in-the-us.html\n",
      "https://www.cnbc.com/2023/08/19/how-did-the-huy-fong-foods-sriracha-shortage-happen.html\n",
      "https://www.cnbc.com/2023/08/19/this-etf-is-soaring-thanks-to-a-revival-of-2022s-winning-trades.html\n",
      "https://www.cnbc.com/2023/08/19/morgan-stanley-and-this-packaging-stock-are-among-the-most-oversold-in-the-sp-500.html\n",
      "https://www.cnbc.com/2023/08/19/goldman-picks-stocks-with-the-most-upside-amid-market-jitters.html\n",
      "https://www.cnbc.com/2023/08/18/palo-alto-networks-panw-earnings-report-q4-2023.html\n",
      "https://www.cnbc.com/2023/08/18/wall-street-previews-nvidia-earnings-how-the-pros-are-playing-the-stock.html\n",
      "https://www.cnbc.com/2023/08/18/wework-plunges-another-11percent-after-announcing-1-40-reverse-stock-split.html\n",
      "https://www.cnbc.com/2023/08/18/iphone-15-usb-c-charging-would-be-biggest-upgrade-in-years.html\n",
      "https://www.cnbc.com/2023/08/18/noaa-florida-coral-bleaching-event-could-go-global.html\n",
      "https://www.cnbc.com/2023/08/18/bitcoin-is-giving-a-bearish-signal-heres-what-chart-analysts-say-happens-next.html\n",
      "https://www.cnbc.com/2023/08/18/retail-earnings-show-shoppers-will-spend-money-for-value-favoring-tjx-costco.html\n",
      "https://www.cnbc.com/2023/08/18/nvidia-powell-speech-to-take-center-stage-on-wall-street-next-week.html\n",
      "https://www.cnbc.com/2023/08/18/apple-wont-repair-homepods-according-to-apple-store-employee.html\n",
      "https://www.cnbc.com/2023/08/18/mcdonalds-chipotle-among-restaurant-earnings-winners-and-losers.html\n",
      "https://www.cnbc.com/2023/08/18/social-security-cost-of-living-adjustment-hurricanes-a-factor-in-2024.html\n",
      "https://www.cnbc.com/2023/08/18/rosenblatt-names-its-top-picks-to-play-the-age-of-ai-gold-rush-.html\n",
      "https://www.cnbc.com/2023/08/18/it-may-be-tough-for-apple-to-outperform-from-here-says-top-tech-analyst.html\n",
      "https://www.cnbc.com/2023/08/18/barbie-vs-blue-beetle-box-office-showdown.html\n"
     ]
    }
   ],
   "source": [
    "# all links\n",
    "for links in soup.find_all('a',class_=\"LatestNews-headline\"):         #Get all the anchor tags from the page/web\n",
    "    link = links.get('href')\n",
    "    print(link)\n",
    "    \n",
    "                                                                      #href will not bring the tag with link\n",
    "                                                                      #.get - it is useful to achive to attribute of link"
   ]
  },
  {
   "cell_type": "code",
   "execution_count": 33,
   "id": "06606c45",
   "metadata": {},
   "outputs": [
    {
     "data": {
      "text/plain": [
       "['https://www.cnbc.com/2023/08/19/why-career-choices-is-the-no-1-conflict-among-divorced-people.html',\n",
       " 'https://www.cnbc.com/2023/08/19/cruise-will-reduce-robotaxi-fleet-by-50percent-in-san-francisco.html',\n",
       " 'https://www.cnbc.com/2023/08/19/can-expensive-american-made-weapons-like-f-16s-turn-the-tide-in-ukraines-war-against-russia.html',\n",
       " 'https://www.cnbc.com/2023/08/19/harvard-gut-doctor-shares-foods-that-cause-inflammation-and-what-to-eat-instead.html',\n",
       " 'https://www.cnbc.com/2023/08/19/the-clash-of-sustainability-and-ai-is-creating-a-challenge-for-dell-ibm-and-others.html',\n",
       " 'https://www.cnbc.com/2023/08/19/on-tap-next-week-2-housing-reports-and-2-cub-earnings-releases.html',\n",
       " 'https://www.cnbc.com/2023/08/19/best-countries-retire-in-europe-moving-to-spain-report.html',\n",
       " 'https://www.cnbc.com/2023/08/19/google-faces-criticism-of-plan-to-purge-inactive-accounts.html',\n",
       " 'https://www.cnbc.com/2023/08/19/best-us-states-to-retire-in-2023.html',\n",
       " 'https://www.cnbc.com/2023/08/19/mark-cuban-passed-on-uber-stake-that-would-be-worth-2point3-billion-now.html',\n",
       " 'https://www.cnbc.com/2023/08/19/social-security-believing-5-myths-may-slash-your-retirement-benefits.html',\n",
       " 'https://www.cnbc.com/2023/08/19/aldi-winn-dixie-deal-why-the-german-grocer-is-expanding-in-the-us.html',\n",
       " 'https://www.cnbc.com/2023/08/19/how-did-the-huy-fong-foods-sriracha-shortage-happen.html',\n",
       " 'https://www.cnbc.com/2023/08/19/this-etf-is-soaring-thanks-to-a-revival-of-2022s-winning-trades.html',\n",
       " 'https://www.cnbc.com/2023/08/19/morgan-stanley-and-this-packaging-stock-are-among-the-most-oversold-in-the-sp-500.html',\n",
       " 'https://www.cnbc.com/2023/08/19/goldman-picks-stocks-with-the-most-upside-amid-market-jitters.html',\n",
       " 'https://www.cnbc.com/2023/08/18/palo-alto-networks-panw-earnings-report-q4-2023.html',\n",
       " 'https://www.cnbc.com/2023/08/18/wall-street-previews-nvidia-earnings-how-the-pros-are-playing-the-stock.html',\n",
       " 'https://www.cnbc.com/2023/08/18/wework-plunges-another-11percent-after-announcing-1-40-reverse-stock-split.html',\n",
       " 'https://www.cnbc.com/2023/08/18/iphone-15-usb-c-charging-would-be-biggest-upgrade-in-years.html',\n",
       " 'https://www.cnbc.com/2023/08/18/noaa-florida-coral-bleaching-event-could-go-global.html',\n",
       " 'https://www.cnbc.com/2023/08/18/bitcoin-is-giving-a-bearish-signal-heres-what-chart-analysts-say-happens-next.html',\n",
       " 'https://www.cnbc.com/2023/08/18/retail-earnings-show-shoppers-will-spend-money-for-value-favoring-tjx-costco.html',\n",
       " 'https://www.cnbc.com/2023/08/18/nvidia-powell-speech-to-take-center-stage-on-wall-street-next-week.html',\n",
       " 'https://www.cnbc.com/2023/08/18/apple-wont-repair-homepods-according-to-apple-store-employee.html',\n",
       " 'https://www.cnbc.com/2023/08/18/mcdonalds-chipotle-among-restaurant-earnings-winners-and-losers.html',\n",
       " 'https://www.cnbc.com/2023/08/18/social-security-cost-of-living-adjustment-hurricanes-a-factor-in-2024.html',\n",
       " 'https://www.cnbc.com/2023/08/18/rosenblatt-names-its-top-picks-to-play-the-age-of-ai-gold-rush-.html',\n",
       " 'https://www.cnbc.com/2023/08/18/it-may-be-tough-for-apple-to-outperform-from-here-says-top-tech-analyst.html',\n",
       " 'https://www.cnbc.com/2023/08/18/barbie-vs-blue-beetle-box-office-showdown.html']"
      ]
     },
     "execution_count": 33,
     "metadata": {},
     "output_type": "execute_result"
    }
   ],
   "source": [
    "\n",
    "links_https=[]\n",
    "for links in soup.find_all('a',class_=\"LatestNews-headline\"):         #Get all the anchor tags from the page/web\n",
    "    link = links.get('href')\n",
    "    links_https.append(link)\n",
    "    \n",
    "links_https    "
   ]
  },
  {
   "cell_type": "code",
   "execution_count": 34,
   "id": "9ba1349d",
   "metadata": {},
   "outputs": [
    {
     "name": "stdout",
     "output_type": "stream",
     "text": [
      "<class 'list'>\n",
      "30\n"
     ]
    }
   ],
   "source": [
    "print(type(links_https ))\n",
    "print(len(links_https))"
   ]
  },
  {
   "cell_type": "code",
   "execution_count": 35,
   "id": "efff226c",
   "metadata": {},
   "outputs": [
    {
     "data": {
      "text/html": [
       "<div>\n",
       "<style scoped>\n",
       "    .dataframe tbody tr th:only-of-type {\n",
       "        vertical-align: middle;\n",
       "    }\n",
       "\n",
       "    .dataframe tbody tr th {\n",
       "        vertical-align: top;\n",
       "    }\n",
       "\n",
       "    .dataframe thead th {\n",
       "        text-align: right;\n",
       "    }\n",
       "</style>\n",
       "<table border=\"1\" class=\"dataframe\">\n",
       "  <thead>\n",
       "    <tr style=\"text-align: right;\">\n",
       "      <th></th>\n",
       "      <th>Latest_News_and_time</th>\n",
       "      <th>Time</th>\n",
       "      <th>Latest_News_Link</th>\n",
       "    </tr>\n",
       "  </thead>\n",
       "  <tbody>\n",
       "    <tr>\n",
       "      <th>0</th>\n",
       "      <td>12 Hours AgoWhy 'career choices' is the No. 1 ...</td>\n",
       "      <td>12 Hours Ago</td>\n",
       "      <td>https://www.cnbc.com/2023/08/19/why-career-cho...</td>\n",
       "    </tr>\n",
       "    <tr>\n",
       "      <th>1</th>\n",
       "      <td>14 Hours AgoCruise will reduce robotaxi fleet ...</td>\n",
       "      <td>14 Hours Ago</td>\n",
       "      <td>https://www.cnbc.com/2023/08/19/cruise-will-re...</td>\n",
       "    </tr>\n",
       "    <tr>\n",
       "      <th>2</th>\n",
       "      <td>14 Hours AgoCan American-made weapons like F-1...</td>\n",
       "      <td>14 Hours Ago</td>\n",
       "      <td>https://www.cnbc.com/2023/08/19/can-expensive-...</td>\n",
       "    </tr>\n",
       "    <tr>\n",
       "      <th>3</th>\n",
       "      <td>16 Hours AgoHarvard gut doctor avoids these 4 ...</td>\n",
       "      <td>16 Hours Ago</td>\n",
       "      <td>https://www.cnbc.com/2023/08/19/harvard-gut-do...</td>\n",
       "    </tr>\n",
       "    <tr>\n",
       "      <th>4</th>\n",
       "      <td>16 Hours AgoThe clash of sustainability and AI...</td>\n",
       "      <td>16 Hours Ago</td>\n",
       "      <td>https://www.cnbc.com/2023/08/19/the-clash-of-s...</td>\n",
       "    </tr>\n",
       "    <tr>\n",
       "      <th>5</th>\n",
       "      <td>16 Hours AgoOn tap next week: 2 housing report...</td>\n",
       "      <td>16 Hours Ago</td>\n",
       "      <td>https://www.cnbc.com/2023/08/19/on-tap-next-we...</td>\n",
       "    </tr>\n",
       "    <tr>\n",
       "      <th>6</th>\n",
       "      <td>16 Hours AgoTop 10 best European cities for re...</td>\n",
       "      <td>16 Hours Ago</td>\n",
       "      <td>https://www.cnbc.com/2023/08/19/best-countries...</td>\n",
       "    </tr>\n",
       "    <tr>\n",
       "      <th>7</th>\n",
       "      <td>17 Hours AgoGoogle's plan to purge inactive ac...</td>\n",
       "      <td>17 Hours Ago</td>\n",
       "      <td>https://www.cnbc.com/2023/08/19/google-faces-c...</td>\n",
       "    </tr>\n",
       "    <tr>\n",
       "      <th>8</th>\n",
       "      <td>17 Hours AgoThe No. 1 best state to retire in ...</td>\n",
       "      <td>17 Hours Ago</td>\n",
       "      <td>https://www.cnbc.com/2023/08/19/best-us-states...</td>\n",
       "    </tr>\n",
       "    <tr>\n",
       "      <th>9</th>\n",
       "      <td>17 Hours AgoMark Cuban passed on an Uber inves...</td>\n",
       "      <td>17 Hours Ago</td>\n",
       "      <td>https://www.cnbc.com/2023/08/19/mark-cuban-pas...</td>\n",
       "    </tr>\n",
       "    <tr>\n",
       "      <th>10</th>\n",
       "      <td>18 Hours AgoBelieving these 5 Social Security ...</td>\n",
       "      <td>18 Hours Ago</td>\n",
       "      <td>https://www.cnbc.com/2023/08/19/social-securit...</td>\n",
       "    </tr>\n",
       "    <tr>\n",
       "      <th>11</th>\n",
       "      <td>18 Hours AgoHere's why Aldi is looking to the ...</td>\n",
       "      <td>18 Hours Ago</td>\n",
       "      <td>https://www.cnbc.com/2023/08/19/aldi-winn-dixi...</td>\n",
       "    </tr>\n",
       "    <tr>\n",
       "      <th>12</th>\n",
       "      <td>18 Hours AgoHere's how the Huy Fong Foods srir...</td>\n",
       "      <td>18 Hours Ago</td>\n",
       "      <td>https://www.cnbc.com/2023/08/19/how-did-the-hu...</td>\n",
       "    </tr>\n",
       "    <tr>\n",
       "      <th>13</th>\n",
       "      <td>18 Hours AgoThis ETF is soaring in August as m...</td>\n",
       "      <td>18 Hours Ago</td>\n",
       "      <td>https://www.cnbc.com/2023/08/19/this-etf-is-so...</td>\n",
       "    </tr>\n",
       "    <tr>\n",
       "      <th>14</th>\n",
       "      <td>18 Hours AgoMorgan Stanley is among the most o...</td>\n",
       "      <td>18 Hours Ago</td>\n",
       "      <td>https://www.cnbc.com/2023/08/19/morgan-stanley...</td>\n",
       "    </tr>\n",
       "    <tr>\n",
       "      <th>15</th>\n",
       "      <td>18 Hours AgoBuy these stocks with upside as ma...</td>\n",
       "      <td>18 Hours Ago</td>\n",
       "      <td>https://www.cnbc.com/2023/08/19/goldman-picks-...</td>\n",
       "    </tr>\n",
       "    <tr>\n",
       "      <th>16</th>\n",
       "      <td>August 18, 2023Palo Alto shares rise on earnin...</td>\n",
       "      <td>August 18, 2023</td>\n",
       "      <td>https://www.cnbc.com/2023/08/18/palo-alto-netw...</td>\n",
       "    </tr>\n",
       "    <tr>\n",
       "      <th>17</th>\n",
       "      <td>August 18, 2023Wall Street awaits hotly antici...</td>\n",
       "      <td>August 18, 2023</td>\n",
       "      <td>https://www.cnbc.com/2023/08/18/wall-street-pr...</td>\n",
       "    </tr>\n",
       "    <tr>\n",
       "      <th>18</th>\n",
       "      <td>August 18, 2023WeWork plunges another 11% afte...</td>\n",
       "      <td>August 18, 2023</td>\n",
       "      <td>https://www.cnbc.com/2023/08/18/wework-plunges...</td>\n",
       "    </tr>\n",
       "    <tr>\n",
       "      <th>19</th>\n",
       "      <td>August 18, 2023The iPhone 15 could get one of ...</td>\n",
       "      <td>August 18, 2023</td>\n",
       "      <td>https://www.cnbc.com/2023/08/18/iphone-15-usb-...</td>\n",
       "    </tr>\n",
       "    <tr>\n",
       "      <th>20</th>\n",
       "      <td>August 18, 2023Coral bleaching event in Florid...</td>\n",
       "      <td>August 18, 2023</td>\n",
       "      <td>https://www.cnbc.com/2023/08/18/noaa-florida-c...</td>\n",
       "    </tr>\n",
       "    <tr>\n",
       "      <th>21</th>\n",
       "      <td>August 18, 2023Bitcoin is giving a bearish sig...</td>\n",
       "      <td>August 18, 2023</td>\n",
       "      <td>https://www.cnbc.com/2023/08/18/bitcoin-is-giv...</td>\n",
       "    </tr>\n",
       "    <tr>\n",
       "      <th>22</th>\n",
       "      <td>August 18, 2023Earnings show shoppers will spe...</td>\n",
       "      <td>August 18, 2023</td>\n",
       "      <td>https://www.cnbc.com/2023/08/18/retail-earning...</td>\n",
       "    </tr>\n",
       "    <tr>\n",
       "      <th>23</th>\n",
       "      <td>August 18, 2023Nvidia, key Powell speech to ta...</td>\n",
       "      <td>August 18, 2023</td>\n",
       "      <td>https://www.cnbc.com/2023/08/18/nvidia-powell-...</td>\n",
       "    </tr>\n",
       "    <tr>\n",
       "      <th>24</th>\n",
       "      <td>August 18, 2023My HomePod is now a very expens...</td>\n",
       "      <td>August 18, 2023</td>\n",
       "      <td>https://www.cnbc.com/2023/08/18/apple-wont-rep...</td>\n",
       "    </tr>\n",
       "    <tr>\n",
       "      <th>25</th>\n",
       "      <td>August 18, 20233 trends are dividing restauran...</td>\n",
       "      <td>August 18, 2023</td>\n",
       "      <td>https://www.cnbc.com/2023/08/18/mcdonalds-chip...</td>\n",
       "    </tr>\n",
       "    <tr>\n",
       "      <th>26</th>\n",
       "      <td>August 18, 2023How hurricanes may affect the 2...</td>\n",
       "      <td>August 18, 2023</td>\n",
       "      <td>https://www.cnbc.com/2023/08/18/social-securit...</td>\n",
       "    </tr>\n",
       "    <tr>\n",
       "      <th>27</th>\n",
       "      <td>August 18, 2023Rosenblatt names its top picks ...</td>\n",
       "      <td>August 18, 2023</td>\n",
       "      <td>https://www.cnbc.com/2023/08/18/rosenblatt-nam...</td>\n",
       "    </tr>\n",
       "    <tr>\n",
       "      <th>28</th>\n",
       "      <td>August 18, 2023It may be tough for Apple to ou...</td>\n",
       "      <td>August 18, 2023</td>\n",
       "      <td>https://www.cnbc.com/2023/08/18/it-may-be-toug...</td>\n",
       "    </tr>\n",
       "    <tr>\n",
       "      <th>29</th>\n",
       "      <td>August 18, 2023'Blue Beetle' tries to take dow...</td>\n",
       "      <td>August 18, 2023</td>\n",
       "      <td>https://www.cnbc.com/2023/08/18/barbie-vs-blue...</td>\n",
       "    </tr>\n",
       "  </tbody>\n",
       "</table>\n",
       "</div>"
      ],
      "text/plain": [
       "                                 Latest_News_and_time             Time  \\\n",
       "0   12 Hours AgoWhy 'career choices' is the No. 1 ...     12 Hours Ago   \n",
       "1   14 Hours AgoCruise will reduce robotaxi fleet ...     14 Hours Ago   \n",
       "2   14 Hours AgoCan American-made weapons like F-1...     14 Hours Ago   \n",
       "3   16 Hours AgoHarvard gut doctor avoids these 4 ...     16 Hours Ago   \n",
       "4   16 Hours AgoThe clash of sustainability and AI...     16 Hours Ago   \n",
       "5   16 Hours AgoOn tap next week: 2 housing report...     16 Hours Ago   \n",
       "6   16 Hours AgoTop 10 best European cities for re...     16 Hours Ago   \n",
       "7   17 Hours AgoGoogle's plan to purge inactive ac...     17 Hours Ago   \n",
       "8   17 Hours AgoThe No. 1 best state to retire in ...     17 Hours Ago   \n",
       "9   17 Hours AgoMark Cuban passed on an Uber inves...     17 Hours Ago   \n",
       "10  18 Hours AgoBelieving these 5 Social Security ...     18 Hours Ago   \n",
       "11  18 Hours AgoHere's why Aldi is looking to the ...     18 Hours Ago   \n",
       "12  18 Hours AgoHere's how the Huy Fong Foods srir...     18 Hours Ago   \n",
       "13  18 Hours AgoThis ETF is soaring in August as m...     18 Hours Ago   \n",
       "14  18 Hours AgoMorgan Stanley is among the most o...     18 Hours Ago   \n",
       "15  18 Hours AgoBuy these stocks with upside as ma...     18 Hours Ago   \n",
       "16  August 18, 2023Palo Alto shares rise on earnin...  August 18, 2023   \n",
       "17  August 18, 2023Wall Street awaits hotly antici...  August 18, 2023   \n",
       "18  August 18, 2023WeWork plunges another 11% afte...  August 18, 2023   \n",
       "19  August 18, 2023The iPhone 15 could get one of ...  August 18, 2023   \n",
       "20  August 18, 2023Coral bleaching event in Florid...  August 18, 2023   \n",
       "21  August 18, 2023Bitcoin is giving a bearish sig...  August 18, 2023   \n",
       "22  August 18, 2023Earnings show shoppers will spe...  August 18, 2023   \n",
       "23  August 18, 2023Nvidia, key Powell speech to ta...  August 18, 2023   \n",
       "24  August 18, 2023My HomePod is now a very expens...  August 18, 2023   \n",
       "25  August 18, 20233 trends are dividing restauran...  August 18, 2023   \n",
       "26  August 18, 2023How hurricanes may affect the 2...  August 18, 2023   \n",
       "27  August 18, 2023Rosenblatt names its top picks ...  August 18, 2023   \n",
       "28  August 18, 2023It may be tough for Apple to ou...  August 18, 2023   \n",
       "29  August 18, 2023'Blue Beetle' tries to take dow...  August 18, 2023   \n",
       "\n",
       "                                     Latest_News_Link  \n",
       "0   https://www.cnbc.com/2023/08/19/why-career-cho...  \n",
       "1   https://www.cnbc.com/2023/08/19/cruise-will-re...  \n",
       "2   https://www.cnbc.com/2023/08/19/can-expensive-...  \n",
       "3   https://www.cnbc.com/2023/08/19/harvard-gut-do...  \n",
       "4   https://www.cnbc.com/2023/08/19/the-clash-of-s...  \n",
       "5   https://www.cnbc.com/2023/08/19/on-tap-next-we...  \n",
       "6   https://www.cnbc.com/2023/08/19/best-countries...  \n",
       "7   https://www.cnbc.com/2023/08/19/google-faces-c...  \n",
       "8   https://www.cnbc.com/2023/08/19/best-us-states...  \n",
       "9   https://www.cnbc.com/2023/08/19/mark-cuban-pas...  \n",
       "10  https://www.cnbc.com/2023/08/19/social-securit...  \n",
       "11  https://www.cnbc.com/2023/08/19/aldi-winn-dixi...  \n",
       "12  https://www.cnbc.com/2023/08/19/how-did-the-hu...  \n",
       "13  https://www.cnbc.com/2023/08/19/this-etf-is-so...  \n",
       "14  https://www.cnbc.com/2023/08/19/morgan-stanley...  \n",
       "15  https://www.cnbc.com/2023/08/19/goldman-picks-...  \n",
       "16  https://www.cnbc.com/2023/08/18/palo-alto-netw...  \n",
       "17  https://www.cnbc.com/2023/08/18/wall-street-pr...  \n",
       "18  https://www.cnbc.com/2023/08/18/wework-plunges...  \n",
       "19  https://www.cnbc.com/2023/08/18/iphone-15-usb-...  \n",
       "20  https://www.cnbc.com/2023/08/18/noaa-florida-c...  \n",
       "21  https://www.cnbc.com/2023/08/18/bitcoin-is-giv...  \n",
       "22  https://www.cnbc.com/2023/08/18/retail-earning...  \n",
       "23  https://www.cnbc.com/2023/08/18/nvidia-powell-...  \n",
       "24  https://www.cnbc.com/2023/08/18/apple-wont-rep...  \n",
       "25  https://www.cnbc.com/2023/08/18/mcdonalds-chip...  \n",
       "26  https://www.cnbc.com/2023/08/18/social-securit...  \n",
       "27  https://www.cnbc.com/2023/08/18/rosenblatt-nam...  \n",
       "28  https://www.cnbc.com/2023/08/18/it-may-be-toug...  \n",
       "29  https://www.cnbc.com/2023/08/18/barbie-vs-blue...  "
      ]
     },
     "execution_count": 35,
     "metadata": {},
     "output_type": "execute_result"
    }
   ],
   "source": [
    "\n",
    "df   = pd.DataFrame({'Latest_News_and_time': header,'Time':Time,'Latest_News_Link':links_https,})\n",
    "\n",
    "df"
   ]
  },
  {
   "cell_type": "code",
   "execution_count": 1,
   "id": "f3344acd",
   "metadata": {},
   "outputs": [
    {
     "ename": "NameError",
     "evalue": "name 'pd' is not defined",
     "output_type": "error",
     "traceback": [
      "\u001b[1;31m---------------------------------------------------------------------------\u001b[0m",
      "\u001b[1;31mNameError\u001b[0m                                 Traceback (most recent call last)",
      "\u001b[1;32m~\\AppData\\Local\\Temp\\ipykernel_12228\\3871199277.py\u001b[0m in \u001b[0;36m<module>\u001b[1;34m\u001b[0m\n\u001b[1;32m----> 1\u001b[1;33m \u001b[0mdf\u001b[0m   \u001b[1;33m=\u001b[0m \u001b[0mpd\u001b[0m\u001b[1;33m.\u001b[0m\u001b[0mDataFrame\u001b[0m\u001b[1;33m(\u001b[0m\u001b[1;33m{\u001b[0m\u001b[1;34m'Latest_News_and_time'\u001b[0m\u001b[1;33m:\u001b[0m \u001b[0mheader\u001b[0m\u001b[1;33m}\u001b[0m\u001b[1;33m)\u001b[0m\u001b[1;33m\u001b[0m\u001b[1;33m\u001b[0m\u001b[0m\n\u001b[0m",
      "\u001b[1;31mNameError\u001b[0m: name 'pd' is not defined"
     ]
    }
   ],
   "source": []
  },
  {
   "cell_type": "code",
   "execution_count": null,
   "id": "c4c46cb7",
   "metadata": {},
   "outputs": [],
   "source": []
  },
  {
   "cell_type": "markdown",
   "id": "535f8e60",
   "metadata": {},
   "source": [
    "# ANS.6"
   ]
  },
  {
   "cell_type": "code",
   "execution_count": 36,
   "id": "bd5b6a19",
   "metadata": {},
   "outputs": [],
   "source": [
    "url = \"https://www.journals.elsevier.com/artificial-intelligence/most-downloaded-articles\""
   ]
  },
  {
   "cell_type": "code",
   "execution_count": 37,
   "id": "e33e1aa3",
   "metadata": {},
   "outputs": [],
   "source": [
    "response = requests.get(url)\n",
    "html_content = response.text"
   ]
  },
  {
   "cell_type": "code",
   "execution_count": 38,
   "id": "b2a61e83",
   "metadata": {},
   "outputs": [],
   "source": [
    "soup = BeautifulSoup(html_content, \"html.parser\")"
   ]
  },
  {
   "cell_type": "code",
   "execution_count": 39,
   "id": "b489106a",
   "metadata": {},
   "outputs": [
    {
     "data": {
      "text/plain": [
       "['Reward is enough',\n",
       " 'Explanation in artificial intelligence: Insights from the social sciences',\n",
       " 'Creativity and artificial intelligence',\n",
       " 'Conflict-based search for optimal multi-agent pathfinding',\n",
       " 'Knowledge graphs as tools for explainable machine learning: A survey',\n",
       " 'Law and logic: A review from an argumentation perspective',\n",
       " 'Between MDPs and semi-MDPs: A framework for temporal abstraction in reinforcement learning',\n",
       " 'Explaining individual predictions when features are dependent: More accurate approximations to Shapley values',\n",
       " 'Multiple object tracking: A literature review',\n",
       " 'A survey of inverse reinforcement learning: Challenges, methods and progress',\n",
       " 'Evaluating XAI: A comparison of rule-based and example-based explanations',\n",
       " 'Explainable AI tools for legal reasoning about cases: A study on the European Court of Human Rights',\n",
       " 'Hard choices in artificial intelligence',\n",
       " 'Assessing the communication gap between AI models and healthcare professionals: Explainability, utility and trust in AI-driven clinical decision-making',\n",
       " 'Explaining black-box classifiers using post-hoc explanations-by-example: The effect of explanations and error-rates in XAI user studies',\n",
       " 'The Hanabi challenge: A new frontier for AI research',\n",
       " 'Wrappers for feature subset selection',\n",
       " 'Artificial cognition for social human–robot interaction: An implementation',\n",
       " 'A review of possible effects of cognitive biases on interpretation of rule-based machine learning models',\n",
       " 'The multifaceted impact of Ada Lovelace in the digital age',\n",
       " 'Robot ethics: Mapping the issues for a mechanized world',\n",
       " 'Reward (Mis)design for autonomous driving',\n",
       " 'Planning and acting in partially observable stochastic domains',\n",
       " 'What do we want from Explainable Artificial Intelligence (XAI)? – A stakeholder perspective on XAI and a conceptual model guiding interdisciplinary XAI research']"
      ]
     },
     "execution_count": 39,
     "metadata": {},
     "output_type": "execute_result"
    }
   ],
   "source": [
    "Paper_Title = [] #empt list\n",
    "for i in soup.find_all(\"h2\", class_=\"sc-1qrq3sd-1 gRGSUS sc-1nmom32-0 sc-1nmom32-1 btcbYu goSKRg\"):\n",
    "    Paper_Title.append(i.text)\n",
    "    \n",
    "    \n",
    "Paper_Title "
   ]
  },
  {
   "cell_type": "code",
   "execution_count": 40,
   "id": "a4339d54",
   "metadata": {},
   "outputs": [
    {
     "data": {
      "text/plain": [
       "['David Silver, Satinder Singh, Doina Precup, Richard S. Sutton ',\n",
       " 'Tim Miller ',\n",
       " 'Margaret A. Boden ',\n",
       " 'Guni Sharon, Roni Stern, Ariel Felner, Nathan R. Sturtevant ',\n",
       " 'Ilaria Tiddi, Stefan Schlobach ',\n",
       " 'Henry Prakken, Giovanni Sartor ',\n",
       " 'Richard S. Sutton, Doina Precup, Satinder Singh ',\n",
       " 'Kjersti Aas, Martin Jullum, Anders Løland ',\n",
       " 'Wenhan Luo, Junliang Xing and 4 more',\n",
       " 'Saurabh Arora, Prashant Doshi ',\n",
       " 'Jasper van der Waa, Elisabeth Nieuwburg, Anita Cremers, Mark Neerincx ',\n",
       " 'Joe Collenette, Katie Atkinson, Trevor Bench-Capon ',\n",
       " 'Roel Dobbe, Thomas Krendl Gilbert, Yonatan Mintz ',\n",
       " 'Oskar Wysocki, Jessica Katharine Davies and 5 more',\n",
       " 'Eoin M. Kenny, Courtney Ford, Molly Quinn, Mark T. Keane ',\n",
       " 'Nolan Bard, Jakob N. Foerster and 13 more',\n",
       " 'Ron Kohavi, George H. John ',\n",
       " 'Séverin Lemaignan, Mathieu Warnier and 3 more',\n",
       " 'Tomáš Kliegr, Štěpán Bahník, Johannes Fürnkranz ',\n",
       " 'Luigia Carlucci Aiello ',\n",
       " 'Patrick Lin, Keith Abney, George Bekey ',\n",
       " 'W. Bradley Knox, Alessandro Allievi and 3 more',\n",
       " 'Leslie Pack Kaelbling, Michael L. Littman, Anthony R. Cassandra ',\n",
       " 'Markus Langer, Daniel Oster and 6 more']"
      ]
     },
     "execution_count": 40,
     "metadata": {},
     "output_type": "execute_result"
    }
   ],
   "source": [
    "Authors = [] #empt list\n",
    "for i in soup.find_all(\"span\", class_=\"sc-1w3fpd7-0 dnCnAO\"):\n",
    "    Authors.append(i.text)\n",
    "    \n",
    "    \n",
    "Authors"
   ]
  },
  {
   "cell_type": "code",
   "execution_count": 41,
   "id": "595f5f5e",
   "metadata": {},
   "outputs": [
    {
     "data": {
      "text/plain": [
       "['October 2021',\n",
       " 'February 2019',\n",
       " 'August 1998',\n",
       " 'February 2015',\n",
       " 'January 2022',\n",
       " 'October 2015',\n",
       " 'August 1999',\n",
       " 'September 2021',\n",
       " 'April 2021',\n",
       " 'August 2021',\n",
       " 'February 2021',\n",
       " 'April 2023',\n",
       " 'November 2021',\n",
       " 'March 2023',\n",
       " 'May 2021',\n",
       " 'March 2020',\n",
       " 'December 1997',\n",
       " 'June 2017',\n",
       " 'June 2021',\n",
       " 'June 2016',\n",
       " 'April 2011',\n",
       " 'March 2023',\n",
       " 'May 1998',\n",
       " 'July 2021']"
      ]
     },
     "execution_count": 41,
     "metadata": {},
     "output_type": "execute_result"
    }
   ],
   "source": [
    "Published_Date = [] #empt list\n",
    "for i in soup.find_all(\"span\", class_=\"sc-1thf9ly-2 dvggWt\"):\n",
    "    Published_Date.append(i.text)\n",
    "    \n",
    "    \n",
    "Published_Date"
   ]
  },
  {
   "cell_type": "code",
   "execution_count": 42,
   "id": "52c634ea",
   "metadata": {},
   "outputs": [
    {
     "data": {
      "text/plain": [
       "['https://www.sciencedirect.com/science/article/pii/S0004370221000862',\n",
       " 'https://www.sciencedirect.com/science/article/pii/S0004370218305988',\n",
       " 'https://www.sciencedirect.com/science/article/pii/S0004370298000551',\n",
       " 'https://www.sciencedirect.com/science/article/pii/S0004370214001386',\n",
       " 'https://www.sciencedirect.com/science/article/pii/S0004370221001788',\n",
       " 'https://www.sciencedirect.com/science/article/pii/S0004370215000910',\n",
       " 'https://www.sciencedirect.com/science/article/pii/S0004370299000521',\n",
       " 'https://www.sciencedirect.com/science/article/pii/S0004370221000539',\n",
       " 'https://www.sciencedirect.com/science/article/pii/S0004370220301958',\n",
       " 'https://www.sciencedirect.com/science/article/pii/S0004370221000515',\n",
       " 'https://www.sciencedirect.com/science/article/pii/S0004370220301533',\n",
       " 'https://www.sciencedirect.com/science/article/pii/S0004370223000073',\n",
       " 'https://www.sciencedirect.com/science/article/pii/S0004370221001065',\n",
       " 'https://www.sciencedirect.com/science/article/pii/S0004370222001795',\n",
       " 'https://www.sciencedirect.com/science/article/pii/S0004370221000102',\n",
       " 'https://www.sciencedirect.com/science/article/pii/S0004370219300116',\n",
       " 'https://www.sciencedirect.com/science/article/pii/S000437029700043X',\n",
       " 'https://www.sciencedirect.com/science/article/pii/S0004370216300790',\n",
       " 'https://www.sciencedirect.com/science/article/pii/S0004370221000096',\n",
       " 'https://www.sciencedirect.com/science/article/pii/S0004370216300224',\n",
       " 'https://www.sciencedirect.com/science/article/pii/S0004370211000178',\n",
       " 'https://www.sciencedirect.com/science/article/pii/S0004370222001692',\n",
       " 'https://www.sciencedirect.com/science/article/pii/S000437029800023X',\n",
       " 'https://www.sciencedirect.com/science/article/pii/S0004370221000242']"
      ]
     },
     "execution_count": 42,
     "metadata": {},
     "output_type": "execute_result"
    }
   ],
   "source": [
    "Paper_URL=[]\n",
    "for links in soup.find_all('a',class_=\"sc-5smygv-0 fIXTHm\"):         #Get all the anchor tags from the page/web\n",
    "    link = links.get('href')\n",
    "    Paper_URL.append(link)\n",
    "    \n",
    "Paper_URL"
   ]
  },
  {
   "cell_type": "code",
   "execution_count": 43,
   "id": "9819413b",
   "metadata": {},
   "outputs": [
    {
     "data": {
      "text/html": [
       "<div>\n",
       "<style scoped>\n",
       "    .dataframe tbody tr th:only-of-type {\n",
       "        vertical-align: middle;\n",
       "    }\n",
       "\n",
       "    .dataframe tbody tr th {\n",
       "        vertical-align: top;\n",
       "    }\n",
       "\n",
       "    .dataframe thead th {\n",
       "        text-align: right;\n",
       "    }\n",
       "</style>\n",
       "<table border=\"1\" class=\"dataframe\">\n",
       "  <thead>\n",
       "    <tr style=\"text-align: right;\">\n",
       "      <th></th>\n",
       "      <th>Paper_Title</th>\n",
       "      <th>Authors</th>\n",
       "      <th>Published_Date</th>\n",
       "      <th>Paper_URL</th>\n",
       "    </tr>\n",
       "  </thead>\n",
       "  <tbody>\n",
       "    <tr>\n",
       "      <th>0</th>\n",
       "      <td>Reward is enough</td>\n",
       "      <td>David Silver, Satinder Singh, Doina Precup, Ri...</td>\n",
       "      <td>October 2021</td>\n",
       "      <td>https://www.sciencedirect.com/science/article/...</td>\n",
       "    </tr>\n",
       "    <tr>\n",
       "      <th>1</th>\n",
       "      <td>Explanation in artificial intelligence: Insigh...</td>\n",
       "      <td>Tim Miller</td>\n",
       "      <td>February 2019</td>\n",
       "      <td>https://www.sciencedirect.com/science/article/...</td>\n",
       "    </tr>\n",
       "    <tr>\n",
       "      <th>2</th>\n",
       "      <td>Creativity and artificial intelligence</td>\n",
       "      <td>Margaret A. Boden</td>\n",
       "      <td>August 1998</td>\n",
       "      <td>https://www.sciencedirect.com/science/article/...</td>\n",
       "    </tr>\n",
       "    <tr>\n",
       "      <th>3</th>\n",
       "      <td>Conflict-based search for optimal multi-agent ...</td>\n",
       "      <td>Guni Sharon, Roni Stern, Ariel Felner, Nathan ...</td>\n",
       "      <td>February 2015</td>\n",
       "      <td>https://www.sciencedirect.com/science/article/...</td>\n",
       "    </tr>\n",
       "    <tr>\n",
       "      <th>4</th>\n",
       "      <td>Knowledge graphs as tools for explainable mach...</td>\n",
       "      <td>Ilaria Tiddi, Stefan Schlobach</td>\n",
       "      <td>January 2022</td>\n",
       "      <td>https://www.sciencedirect.com/science/article/...</td>\n",
       "    </tr>\n",
       "    <tr>\n",
       "      <th>5</th>\n",
       "      <td>Law and logic: A review from an argumentation ...</td>\n",
       "      <td>Henry Prakken, Giovanni Sartor</td>\n",
       "      <td>October 2015</td>\n",
       "      <td>https://www.sciencedirect.com/science/article/...</td>\n",
       "    </tr>\n",
       "    <tr>\n",
       "      <th>6</th>\n",
       "      <td>Between MDPs and semi-MDPs: A framework for te...</td>\n",
       "      <td>Richard S. Sutton, Doina Precup, Satinder Singh</td>\n",
       "      <td>August 1999</td>\n",
       "      <td>https://www.sciencedirect.com/science/article/...</td>\n",
       "    </tr>\n",
       "    <tr>\n",
       "      <th>7</th>\n",
       "      <td>Explaining individual predictions when feature...</td>\n",
       "      <td>Kjersti Aas, Martin Jullum, Anders Løland</td>\n",
       "      <td>September 2021</td>\n",
       "      <td>https://www.sciencedirect.com/science/article/...</td>\n",
       "    </tr>\n",
       "    <tr>\n",
       "      <th>8</th>\n",
       "      <td>Multiple object tracking: A literature review</td>\n",
       "      <td>Wenhan Luo, Junliang Xing and 4 more</td>\n",
       "      <td>April 2021</td>\n",
       "      <td>https://www.sciencedirect.com/science/article/...</td>\n",
       "    </tr>\n",
       "    <tr>\n",
       "      <th>9</th>\n",
       "      <td>A survey of inverse reinforcement learning: Ch...</td>\n",
       "      <td>Saurabh Arora, Prashant Doshi</td>\n",
       "      <td>August 2021</td>\n",
       "      <td>https://www.sciencedirect.com/science/article/...</td>\n",
       "    </tr>\n",
       "    <tr>\n",
       "      <th>10</th>\n",
       "      <td>Evaluating XAI: A comparison of rule-based and...</td>\n",
       "      <td>Jasper van der Waa, Elisabeth Nieuwburg, Anita...</td>\n",
       "      <td>February 2021</td>\n",
       "      <td>https://www.sciencedirect.com/science/article/...</td>\n",
       "    </tr>\n",
       "    <tr>\n",
       "      <th>11</th>\n",
       "      <td>Explainable AI tools for legal reasoning about...</td>\n",
       "      <td>Joe Collenette, Katie Atkinson, Trevor Bench-C...</td>\n",
       "      <td>April 2023</td>\n",
       "      <td>https://www.sciencedirect.com/science/article/...</td>\n",
       "    </tr>\n",
       "    <tr>\n",
       "      <th>12</th>\n",
       "      <td>Hard choices in artificial intelligence</td>\n",
       "      <td>Roel Dobbe, Thomas Krendl Gilbert, Yonatan Mintz</td>\n",
       "      <td>November 2021</td>\n",
       "      <td>https://www.sciencedirect.com/science/article/...</td>\n",
       "    </tr>\n",
       "    <tr>\n",
       "      <th>13</th>\n",
       "      <td>Assessing the communication gap between AI mod...</td>\n",
       "      <td>Oskar Wysocki, Jessica Katharine Davies and 5 ...</td>\n",
       "      <td>March 2023</td>\n",
       "      <td>https://www.sciencedirect.com/science/article/...</td>\n",
       "    </tr>\n",
       "    <tr>\n",
       "      <th>14</th>\n",
       "      <td>Explaining black-box classifiers using post-ho...</td>\n",
       "      <td>Eoin M. Kenny, Courtney Ford, Molly Quinn, Mar...</td>\n",
       "      <td>May 2021</td>\n",
       "      <td>https://www.sciencedirect.com/science/article/...</td>\n",
       "    </tr>\n",
       "    <tr>\n",
       "      <th>15</th>\n",
       "      <td>The Hanabi challenge: A new frontier for AI re...</td>\n",
       "      <td>Nolan Bard, Jakob N. Foerster and 13 more</td>\n",
       "      <td>March 2020</td>\n",
       "      <td>https://www.sciencedirect.com/science/article/...</td>\n",
       "    </tr>\n",
       "    <tr>\n",
       "      <th>16</th>\n",
       "      <td>Wrappers for feature subset selection</td>\n",
       "      <td>Ron Kohavi, George H. John</td>\n",
       "      <td>December 1997</td>\n",
       "      <td>https://www.sciencedirect.com/science/article/...</td>\n",
       "    </tr>\n",
       "    <tr>\n",
       "      <th>17</th>\n",
       "      <td>Artificial cognition for social human–robot in...</td>\n",
       "      <td>Séverin Lemaignan, Mathieu Warnier and 3 more</td>\n",
       "      <td>June 2017</td>\n",
       "      <td>https://www.sciencedirect.com/science/article/...</td>\n",
       "    </tr>\n",
       "    <tr>\n",
       "      <th>18</th>\n",
       "      <td>A review of possible effects of cognitive bias...</td>\n",
       "      <td>Tomáš Kliegr, Štěpán Bahník, Johannes Fürnkranz</td>\n",
       "      <td>June 2021</td>\n",
       "      <td>https://www.sciencedirect.com/science/article/...</td>\n",
       "    </tr>\n",
       "    <tr>\n",
       "      <th>19</th>\n",
       "      <td>The multifaceted impact of Ada Lovelace in the...</td>\n",
       "      <td>Luigia Carlucci Aiello</td>\n",
       "      <td>June 2016</td>\n",
       "      <td>https://www.sciencedirect.com/science/article/...</td>\n",
       "    </tr>\n",
       "    <tr>\n",
       "      <th>20</th>\n",
       "      <td>Robot ethics: Mapping the issues for a mechani...</td>\n",
       "      <td>Patrick Lin, Keith Abney, George Bekey</td>\n",
       "      <td>April 2011</td>\n",
       "      <td>https://www.sciencedirect.com/science/article/...</td>\n",
       "    </tr>\n",
       "    <tr>\n",
       "      <th>21</th>\n",
       "      <td>Reward (Mis)design for autonomous driving</td>\n",
       "      <td>W. Bradley Knox, Alessandro Allievi and 3 more</td>\n",
       "      <td>March 2023</td>\n",
       "      <td>https://www.sciencedirect.com/science/article/...</td>\n",
       "    </tr>\n",
       "    <tr>\n",
       "      <th>22</th>\n",
       "      <td>Planning and acting in partially observable st...</td>\n",
       "      <td>Leslie Pack Kaelbling, Michael L. Littman, Ant...</td>\n",
       "      <td>May 1998</td>\n",
       "      <td>https://www.sciencedirect.com/science/article/...</td>\n",
       "    </tr>\n",
       "    <tr>\n",
       "      <th>23</th>\n",
       "      <td>What do we want from Explainable Artificial In...</td>\n",
       "      <td>Markus Langer, Daniel Oster and 6 more</td>\n",
       "      <td>July 2021</td>\n",
       "      <td>https://www.sciencedirect.com/science/article/...</td>\n",
       "    </tr>\n",
       "  </tbody>\n",
       "</table>\n",
       "</div>"
      ],
      "text/plain": [
       "                                          Paper_Title  \\\n",
       "0                                    Reward is enough   \n",
       "1   Explanation in artificial intelligence: Insigh...   \n",
       "2              Creativity and artificial intelligence   \n",
       "3   Conflict-based search for optimal multi-agent ...   \n",
       "4   Knowledge graphs as tools for explainable mach...   \n",
       "5   Law and logic: A review from an argumentation ...   \n",
       "6   Between MDPs and semi-MDPs: A framework for te...   \n",
       "7   Explaining individual predictions when feature...   \n",
       "8       Multiple object tracking: A literature review   \n",
       "9   A survey of inverse reinforcement learning: Ch...   \n",
       "10  Evaluating XAI: A comparison of rule-based and...   \n",
       "11  Explainable AI tools for legal reasoning about...   \n",
       "12            Hard choices in artificial intelligence   \n",
       "13  Assessing the communication gap between AI mod...   \n",
       "14  Explaining black-box classifiers using post-ho...   \n",
       "15  The Hanabi challenge: A new frontier for AI re...   \n",
       "16              Wrappers for feature subset selection   \n",
       "17  Artificial cognition for social human–robot in...   \n",
       "18  A review of possible effects of cognitive bias...   \n",
       "19  The multifaceted impact of Ada Lovelace in the...   \n",
       "20  Robot ethics: Mapping the issues for a mechani...   \n",
       "21          Reward (Mis)design for autonomous driving   \n",
       "22  Planning and acting in partially observable st...   \n",
       "23  What do we want from Explainable Artificial In...   \n",
       "\n",
       "                                              Authors  Published_Date  \\\n",
       "0   David Silver, Satinder Singh, Doina Precup, Ri...    October 2021   \n",
       "1                                         Tim Miller    February 2019   \n",
       "2                                  Margaret A. Boden      August 1998   \n",
       "3   Guni Sharon, Roni Stern, Ariel Felner, Nathan ...   February 2015   \n",
       "4                     Ilaria Tiddi, Stefan Schlobach     January 2022   \n",
       "5                     Henry Prakken, Giovanni Sartor     October 2015   \n",
       "6    Richard S. Sutton, Doina Precup, Satinder Singh      August 1999   \n",
       "7          Kjersti Aas, Martin Jullum, Anders Løland   September 2021   \n",
       "8                Wenhan Luo, Junliang Xing and 4 more      April 2021   \n",
       "9                      Saurabh Arora, Prashant Doshi      August 2021   \n",
       "10  Jasper van der Waa, Elisabeth Nieuwburg, Anita...   February 2021   \n",
       "11  Joe Collenette, Katie Atkinson, Trevor Bench-C...      April 2023   \n",
       "12  Roel Dobbe, Thomas Krendl Gilbert, Yonatan Mintz    November 2021   \n",
       "13  Oskar Wysocki, Jessica Katharine Davies and 5 ...      March 2023   \n",
       "14  Eoin M. Kenny, Courtney Ford, Molly Quinn, Mar...        May 2021   \n",
       "15          Nolan Bard, Jakob N. Foerster and 13 more      March 2020   \n",
       "16                        Ron Kohavi, George H. John    December 1997   \n",
       "17      Séverin Lemaignan, Mathieu Warnier and 3 more       June 2017   \n",
       "18   Tomáš Kliegr, Štěpán Bahník, Johannes Fürnkranz        June 2021   \n",
       "19                            Luigia Carlucci Aiello        June 2016   \n",
       "20            Patrick Lin, Keith Abney, George Bekey       April 2011   \n",
       "21     W. Bradley Knox, Alessandro Allievi and 3 more      March 2023   \n",
       "22  Leslie Pack Kaelbling, Michael L. Littman, Ant...        May 1998   \n",
       "23             Markus Langer, Daniel Oster and 6 more       July 2021   \n",
       "\n",
       "                                            Paper_URL  \n",
       "0   https://www.sciencedirect.com/science/article/...  \n",
       "1   https://www.sciencedirect.com/science/article/...  \n",
       "2   https://www.sciencedirect.com/science/article/...  \n",
       "3   https://www.sciencedirect.com/science/article/...  \n",
       "4   https://www.sciencedirect.com/science/article/...  \n",
       "5   https://www.sciencedirect.com/science/article/...  \n",
       "6   https://www.sciencedirect.com/science/article/...  \n",
       "7   https://www.sciencedirect.com/science/article/...  \n",
       "8   https://www.sciencedirect.com/science/article/...  \n",
       "9   https://www.sciencedirect.com/science/article/...  \n",
       "10  https://www.sciencedirect.com/science/article/...  \n",
       "11  https://www.sciencedirect.com/science/article/...  \n",
       "12  https://www.sciencedirect.com/science/article/...  \n",
       "13  https://www.sciencedirect.com/science/article/...  \n",
       "14  https://www.sciencedirect.com/science/article/...  \n",
       "15  https://www.sciencedirect.com/science/article/...  \n",
       "16  https://www.sciencedirect.com/science/article/...  \n",
       "17  https://www.sciencedirect.com/science/article/...  \n",
       "18  https://www.sciencedirect.com/science/article/...  \n",
       "19  https://www.sciencedirect.com/science/article/...  \n",
       "20  https://www.sciencedirect.com/science/article/...  \n",
       "21  https://www.sciencedirect.com/science/article/...  \n",
       "22  https://www.sciencedirect.com/science/article/...  \n",
       "23  https://www.sciencedirect.com/science/article/...  "
      ]
     },
     "execution_count": 43,
     "metadata": {},
     "output_type": "execute_result"
    }
   ],
   "source": [
    "df = pd.DataFrame({'Paper_Title':Paper_Title,'Authors':Authors,'Published_Date':Published_Date,'Paper_URL':Paper_URL})\n",
    "df"
   ]
  },
  {
   "cell_type": "markdown",
   "id": "5eb0135b",
   "metadata": {},
   "source": [
    "# ANS.7"
   ]
  },
  {
   "cell_type": "code",
   "execution_count": 44,
   "id": "2870efa4",
   "metadata": {},
   "outputs": [],
   "source": [
    "url = 'https://www.dineout.co.in/delhi-restaurants/buffet-special'\n",
    "\n",
    "response = requests.get(url)\n",
    "html_content = response.text\n",
    "\n",
    "soup = BeautifulSoup(html_content, \"html.parser\")"
   ]
  },
  {
   "cell_type": "code",
   "execution_count": 45,
   "id": "28c4d585",
   "metadata": {},
   "outputs": [
    {
     "data": {
      "text/plain": [
       "['Castle BarbequeConnaught Place, Central Delhi',\n",
       " 'Cafe KnoshThe Leela Ambience Convention Hotel,Shahdara, East Delhi',\n",
       " \"Castle's BarbequePacific Mall,Tagore Garden, West Delhi\",\n",
       " 'India GrillHilton Garden Inn,Saket, South Delhi',\n",
       " 'The Barbeque CompanyGardens Galleria,Sector 38A, Noida',\n",
       " 'Delhi BarbequeTaurus Sarovar Portico,Mahipalpur, South Delhi',\n",
       " 'The Monarch - Bar Be Que VillageIndirapuram Habitat Centre,Indirapuram, Ghaziabad',\n",
       " 'The Barbeque TimesM2K Corporate Park,Sector 51, Gurgaon',\n",
       " 'Indian Grill RoomSuncity Business Tower,Golf Course Road, Gurgaon']"
      ]
     },
     "execution_count": 45,
     "metadata": {},
     "output_type": "execute_result"
    }
   ],
   "source": [
    "Restaurant_name =[]\n",
    "\n",
    "for i in soup.find_all('div',class_=\"restnt-info cursor\"):\n",
    "    Restaurant_name.append(i.text)\n",
    "    \n",
    "    \n",
    "Restaurant_name    "
   ]
  },
  {
   "cell_type": "code",
   "execution_count": 46,
   "id": "54924e12",
   "metadata": {},
   "outputs": [
    {
     "data": {
      "text/plain": [
       "['₹ 2,000 for 2 (approx) | Chinese, North Indian',\n",
       " '₹ 3,000 for 2 (approx) | Italian, Continental',\n",
       " '₹ 2,000 for 2 (approx) | Chinese, North Indian',\n",
       " '₹ 2,400 for 2 (approx) | North Indian, Italian',\n",
       " '₹ 1,700 for 2 (approx) | North Indian, Chinese',\n",
       " '₹ 1,800 for 2 (approx) | North Indian',\n",
       " '₹ 1,900 for 2 (approx) | North Indian',\n",
       " '₹ 1,500 for 2 (approx) | North Indian, Continental, Chinese, South Indian',\n",
       " '₹ 2,200 for 2 (approx) | North Indian, Mughlai']"
      ]
     },
     "execution_count": 46,
     "metadata": {},
     "output_type": "execute_result"
    }
   ],
   "source": [
    "Cuisine =[]\n",
    "for i in soup.find_all('span',class_=\"double-line-ellipsis\"):\n",
    "    Cuisine.append(i.text)\n",
    "    \n",
    "Cuisine  "
   ]
  },
  {
   "cell_type": "code",
   "execution_count": 47,
   "id": "f7478f6d",
   "metadata": {},
   "outputs": [
    {
     "data": {
      "text/plain": [
       "['Connaught Place, Central Delhi',\n",
       " 'The Leela Ambience Convention Hotel,Shahdara, East Delhi',\n",
       " 'Pacific Mall,Tagore Garden, West Delhi',\n",
       " 'Hilton Garden Inn,Saket, South Delhi',\n",
       " 'Gardens Galleria,Sector 38A, Noida',\n",
       " 'Taurus Sarovar Portico,Mahipalpur, South Delhi',\n",
       " 'Indirapuram Habitat Centre,Indirapuram, Ghaziabad',\n",
       " 'M2K Corporate Park,Sector 51, Gurgaon',\n",
       " 'Suncity Business Tower,Golf Course Road, Gurgaon']"
      ]
     },
     "execution_count": 47,
     "metadata": {},
     "output_type": "execute_result"
    }
   ],
   "source": [
    "Location =[]\n",
    "for i in soup.find_all(\"div\",class_=\"restnt-loc ellipsis\"):\n",
    "    Location.append(i.text)\n",
    "    \n",
    "Location    "
   ]
  },
  {
   "cell_type": "code",
   "execution_count": 48,
   "id": "497799ef",
   "metadata": {},
   "outputs": [
    {
     "data": {
      "text/plain": [
       "['4', '4.3', '3.9', '3.9', '3.9', '3.7', '3.8', '4.1', '4.3']"
      ]
     },
     "execution_count": 48,
     "metadata": {},
     "output_type": "execute_result"
    }
   ],
   "source": [
    "Ratings =[]\n",
    "for i in soup.find_all('div',class_=\"restnt-rating rating-4\"):\n",
    "    Ratings.append(i.text)\n",
    "    \n",
    "Ratings   "
   ]
  },
  {
   "cell_type": "code",
   "execution_count": 49,
   "id": "c328e213",
   "metadata": {},
   "outputs": [
    {
     "data": {
      "text/plain": [
       "['https://im1.dineout.co.in/images/uploads/restaurant/sharpen/8/k/b/p86792-16062953735fbe1f4d3fb7e.jpg?tr=tr:n-medium',\n",
       " 'https://im1.dineout.co.in/images/uploads/restaurant/sharpen/4/p/m/p406-15438184745c04ccea491bc.jpg?tr=tr:n-medium',\n",
       " 'https://im1.dineout.co.in/images/uploads/restaurant/sharpen/3/j/o/p38113-15959192065f1fcb666130c.jpg?tr=tr:n-medium',\n",
       " 'https://im1.dineout.co.in/images/uploads/restaurant/sharpen/2/v/t/p2687-1482477169585cce712b90f.jpg?tr=tr:n-medium',\n",
       " 'https://im1.dineout.co.in/images/uploads/restaurant/sharpen/7/p/k/p79307-16051787755fad1597f2bf9.jpg?tr=tr:n-medium',\n",
       " 'https://im1.dineout.co.in/images/uploads/restaurant/sharpen/5/d/i/p52501-1661855212630de5eceb6d2.jpg?tr=tr:n-medium',\n",
       " 'https://im1.dineout.co.in/images/uploads/restaurant/sharpen/3/n/o/p34822-15599107305cfa594a13c24.jpg?tr=tr:n-medium',\n",
       " 'https://im1.dineout.co.in/images/uploads/restaurant/sharpen/1/u/r/p106428-166073786162fcd945925a9.jpg?tr=tr:n-medium',\n",
       " 'https://im1.dineout.co.in/images/uploads/restaurant/sharpen/5/y/f/p549-165000147262590640c0afc.jpg?tr=tr:n-medium']"
      ]
     },
     "execution_count": 49,
     "metadata": {},
     "output_type": "execute_result"
    }
   ],
   "source": [
    "Image_URL =[]\n",
    "for i in soup.find_all(\"img\",class_=\"no-img\"):\n",
    "    Image_URL.append(i['data-src'])\n",
    "    \n",
    "Image_URL   "
   ]
  },
  {
   "cell_type": "code",
   "execution_count": 50,
   "id": "ca8d43a9",
   "metadata": {},
   "outputs": [
    {
     "data": {
      "text/html": [
       "<div>\n",
       "<style scoped>\n",
       "    .dataframe tbody tr th:only-of-type {\n",
       "        vertical-align: middle;\n",
       "    }\n",
       "\n",
       "    .dataframe tbody tr th {\n",
       "        vertical-align: top;\n",
       "    }\n",
       "\n",
       "    .dataframe thead th {\n",
       "        text-align: right;\n",
       "    }\n",
       "</style>\n",
       "<table border=\"1\" class=\"dataframe\">\n",
       "  <thead>\n",
       "    <tr style=\"text-align: right;\">\n",
       "      <th></th>\n",
       "      <th>Restaurant_name</th>\n",
       "      <th>Cuisines</th>\n",
       "      <th>Location</th>\n",
       "      <th>Rating</th>\n",
       "      <th>Image_URL</th>\n",
       "    </tr>\n",
       "  </thead>\n",
       "  <tbody>\n",
       "    <tr>\n",
       "      <th>0</th>\n",
       "      <td>Castle BarbequeConnaught Place, Central Delhi</td>\n",
       "      <td>₹ 2,000 for 2 (approx) | Chinese, North Indian</td>\n",
       "      <td>Connaught Place, Central Delhi</td>\n",
       "      <td>4</td>\n",
       "      <td>https://im1.dineout.co.in/images/uploads/resta...</td>\n",
       "    </tr>\n",
       "    <tr>\n",
       "      <th>1</th>\n",
       "      <td>Cafe KnoshThe Leela Ambience Convention Hotel,...</td>\n",
       "      <td>₹ 3,000 for 2 (approx) | Italian, Continental</td>\n",
       "      <td>The Leela Ambience Convention Hotel,Shahdara, ...</td>\n",
       "      <td>4.3</td>\n",
       "      <td>https://im1.dineout.co.in/images/uploads/resta...</td>\n",
       "    </tr>\n",
       "    <tr>\n",
       "      <th>2</th>\n",
       "      <td>Castle's BarbequePacific Mall,Tagore Garden, W...</td>\n",
       "      <td>₹ 2,000 for 2 (approx) | Chinese, North Indian</td>\n",
       "      <td>Pacific Mall,Tagore Garden, West Delhi</td>\n",
       "      <td>3.9</td>\n",
       "      <td>https://im1.dineout.co.in/images/uploads/resta...</td>\n",
       "    </tr>\n",
       "    <tr>\n",
       "      <th>3</th>\n",
       "      <td>India GrillHilton Garden Inn,Saket, South Delhi</td>\n",
       "      <td>₹ 2,400 for 2 (approx) | North Indian, Italian</td>\n",
       "      <td>Hilton Garden Inn,Saket, South Delhi</td>\n",
       "      <td>3.9</td>\n",
       "      <td>https://im1.dineout.co.in/images/uploads/resta...</td>\n",
       "    </tr>\n",
       "    <tr>\n",
       "      <th>4</th>\n",
       "      <td>The Barbeque CompanyGardens Galleria,Sector 38...</td>\n",
       "      <td>₹ 1,700 for 2 (approx) | North Indian, Chinese</td>\n",
       "      <td>Gardens Galleria,Sector 38A, Noida</td>\n",
       "      <td>3.9</td>\n",
       "      <td>https://im1.dineout.co.in/images/uploads/resta...</td>\n",
       "    </tr>\n",
       "    <tr>\n",
       "      <th>5</th>\n",
       "      <td>Delhi BarbequeTaurus Sarovar Portico,Mahipalpu...</td>\n",
       "      <td>₹ 1,800 for 2 (approx) | North Indian</td>\n",
       "      <td>Taurus Sarovar Portico,Mahipalpur, South Delhi</td>\n",
       "      <td>3.7</td>\n",
       "      <td>https://im1.dineout.co.in/images/uploads/resta...</td>\n",
       "    </tr>\n",
       "    <tr>\n",
       "      <th>6</th>\n",
       "      <td>The Monarch - Bar Be Que VillageIndirapuram Ha...</td>\n",
       "      <td>₹ 1,900 for 2 (approx) | North Indian</td>\n",
       "      <td>Indirapuram Habitat Centre,Indirapuram, Ghaziabad</td>\n",
       "      <td>3.8</td>\n",
       "      <td>https://im1.dineout.co.in/images/uploads/resta...</td>\n",
       "    </tr>\n",
       "    <tr>\n",
       "      <th>7</th>\n",
       "      <td>The Barbeque TimesM2K Corporate Park,Sector 51...</td>\n",
       "      <td>₹ 1,500 for 2 (approx) | North Indian, Contine...</td>\n",
       "      <td>M2K Corporate Park,Sector 51, Gurgaon</td>\n",
       "      <td>4.1</td>\n",
       "      <td>https://im1.dineout.co.in/images/uploads/resta...</td>\n",
       "    </tr>\n",
       "    <tr>\n",
       "      <th>8</th>\n",
       "      <td>Indian Grill RoomSuncity Business Tower,Golf C...</td>\n",
       "      <td>₹ 2,200 for 2 (approx) | North Indian, Mughlai</td>\n",
       "      <td>Suncity Business Tower,Golf Course Road, Gurgaon</td>\n",
       "      <td>4.3</td>\n",
       "      <td>https://im1.dineout.co.in/images/uploads/resta...</td>\n",
       "    </tr>\n",
       "  </tbody>\n",
       "</table>\n",
       "</div>"
      ],
      "text/plain": [
       "                                     Restaurant_name  \\\n",
       "0      Castle BarbequeConnaught Place, Central Delhi   \n",
       "1  Cafe KnoshThe Leela Ambience Convention Hotel,...   \n",
       "2  Castle's BarbequePacific Mall,Tagore Garden, W...   \n",
       "3    India GrillHilton Garden Inn,Saket, South Delhi   \n",
       "4  The Barbeque CompanyGardens Galleria,Sector 38...   \n",
       "5  Delhi BarbequeTaurus Sarovar Portico,Mahipalpu...   \n",
       "6  The Monarch - Bar Be Que VillageIndirapuram Ha...   \n",
       "7  The Barbeque TimesM2K Corporate Park,Sector 51...   \n",
       "8  Indian Grill RoomSuncity Business Tower,Golf C...   \n",
       "\n",
       "                                            Cuisines  \\\n",
       "0     ₹ 2,000 for 2 (approx) | Chinese, North Indian   \n",
       "1      ₹ 3,000 for 2 (approx) | Italian, Continental   \n",
       "2     ₹ 2,000 for 2 (approx) | Chinese, North Indian   \n",
       "3     ₹ 2,400 for 2 (approx) | North Indian, Italian   \n",
       "4     ₹ 1,700 for 2 (approx) | North Indian, Chinese   \n",
       "5              ₹ 1,800 for 2 (approx) | North Indian   \n",
       "6              ₹ 1,900 for 2 (approx) | North Indian   \n",
       "7  ₹ 1,500 for 2 (approx) | North Indian, Contine...   \n",
       "8     ₹ 2,200 for 2 (approx) | North Indian, Mughlai   \n",
       "\n",
       "                                            Location Rating  \\\n",
       "0                     Connaught Place, Central Delhi      4   \n",
       "1  The Leela Ambience Convention Hotel,Shahdara, ...    4.3   \n",
       "2             Pacific Mall,Tagore Garden, West Delhi    3.9   \n",
       "3               Hilton Garden Inn,Saket, South Delhi    3.9   \n",
       "4                 Gardens Galleria,Sector 38A, Noida    3.9   \n",
       "5     Taurus Sarovar Portico,Mahipalpur, South Delhi    3.7   \n",
       "6  Indirapuram Habitat Centre,Indirapuram, Ghaziabad    3.8   \n",
       "7              M2K Corporate Park,Sector 51, Gurgaon    4.1   \n",
       "8   Suncity Business Tower,Golf Course Road, Gurgaon    4.3   \n",
       "\n",
       "                                           Image_URL  \n",
       "0  https://im1.dineout.co.in/images/uploads/resta...  \n",
       "1  https://im1.dineout.co.in/images/uploads/resta...  \n",
       "2  https://im1.dineout.co.in/images/uploads/resta...  \n",
       "3  https://im1.dineout.co.in/images/uploads/resta...  \n",
       "4  https://im1.dineout.co.in/images/uploads/resta...  \n",
       "5  https://im1.dineout.co.in/images/uploads/resta...  \n",
       "6  https://im1.dineout.co.in/images/uploads/resta...  \n",
       "7  https://im1.dineout.co.in/images/uploads/resta...  \n",
       "8  https://im1.dineout.co.in/images/uploads/resta...  "
      ]
     },
     "execution_count": 50,
     "metadata": {},
     "output_type": "execute_result"
    }
   ],
   "source": [
    "df   = pd.DataFrame({'Restaurant_name': Restaurant_name,'Cuisines':Cuisine,'Location':Location,'Rating':Ratings,'Image_URL':Image_URL })\n",
    "\n",
    "df"
   ]
  },
  {
   "cell_type": "code",
   "execution_count": null,
   "id": "dd4ada65",
   "metadata": {},
   "outputs": [],
   "source": []
  },
  {
   "cell_type": "code",
   "execution_count": null,
   "id": "5ac7dce8",
   "metadata": {},
   "outputs": [],
   "source": []
  }
 ],
 "metadata": {
  "kernelspec": {
   "display_name": "Python 3 (ipykernel)",
   "language": "python",
   "name": "python3"
  },
  "language_info": {
   "codemirror_mode": {
    "name": "ipython",
    "version": 3
   },
   "file_extension": ".py",
   "mimetype": "text/x-python",
   "name": "python",
   "nbconvert_exporter": "python",
   "pygments_lexer": "ipython3",
   "version": "3.9.13"
  }
 },
 "nbformat": 4,
 "nbformat_minor": 5
}
