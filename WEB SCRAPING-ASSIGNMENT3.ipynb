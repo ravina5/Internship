{
 "cells": [
  {
   "cell_type": "code",
   "execution_count": 564,
   "id": "70304567",
   "metadata": {},
   "outputs": [],
   "source": [
    "import selenium \n",
    "from selenium import webdriver\n",
    "import pandas as pd \n",
    "from selenium.webdriver.common.by import By \n",
    "import warnings \n",
    "warnings.filterwarnings(\"ignore\")\n",
    "import time"
   ]
  },
  {
   "cell_type": "code",
   "execution_count": 565,
   "id": "7100304d",
   "metadata": {},
   "outputs": [],
   "source": [
    "from bs4 import BeautifulSoup\n",
    "import requests"
   ]
  },
  {
   "cell_type": "markdown",
   "id": "3b69d918",
   "metadata": {},
   "source": [
    "# ANS.1"
   ]
  },
  {
   "cell_type": "code",
   "execution_count": 283,
   "id": "af012944",
   "metadata": {},
   "outputs": [],
   "source": [
    "driver = webdriver.Chrome()\n",
    "driver.get(\"https://www.amazon.in\")"
   ]
  },
  {
   "cell_type": "code",
   "execution_count": 284,
   "id": "325ce432",
   "metadata": {},
   "outputs": [],
   "source": [
    "location=driver.find_element(By.XPATH,\"/html/body/div[1]/header/div/div[1]/div[2]/div/form/div[2]/div[1]/input\")\n",
    "location.send_keys('Bangles')"
   ]
  },
  {
   "cell_type": "code",
   "execution_count": 285,
   "id": "a8051bbe",
   "metadata": {},
   "outputs": [],
   "source": [
    "search=driver.find_element(By.XPATH,\"/html/body/div[1]/header/div/div[1]/div[2]/div/form/div[3]/div/span/input\")\n",
    "search.click()"
   ]
  },
  {
   "cell_type": "markdown",
   "id": "79854f3e",
   "metadata": {},
   "source": [
    "# ANS.2"
   ]
  },
  {
   "cell_type": "code",
   "execution_count": 286,
   "id": "c7ece273",
   "metadata": {},
   "outputs": [],
   "source": [
    "bangles_url =[]\n",
    "start = 0\n",
    "end = 3\n",
    "for page in range (start,end):\n",
    "    url = driver.find_elements(By.XPATH,'//a[@class=\"a-link-normal s-underline-text s-underline-link-text s-link-style a-text-normal\"]')\n",
    "    for i in url:\n",
    "        bangles_url.append(i.get_attribute('href'))\n",
    "    next_button=driver.find_elements(By.XPATH,\"/html/body/div[1]/div[2]/div[1]/div[1]/div/span[1]/div[1]/div[69]/div/div/span/a[3]\")    \n"
   ]
  },
  {
   "cell_type": "code",
   "execution_count": 287,
   "id": "e6b02475",
   "metadata": {},
   "outputs": [
    {
     "data": {
      "text/plain": [
       "198"
      ]
     },
     "execution_count": 287,
     "metadata": {},
     "output_type": "execute_result"
    }
   ],
   "source": [
    "len(bangles_url)"
   ]
  },
  {
   "cell_type": "code",
   "execution_count": 280,
   "id": "fed5e0f9",
   "metadata": {},
   "outputs": [],
   "source": [
    "from selenium.common.exceptions import StaleElementReferenceException, NoSuchElementException"
   ]
  },
  {
   "cell_type": "code",
   "execution_count": 289,
   "id": "793aab89",
   "metadata": {},
   "outputs": [],
   "source": [
    "Brand = []\n",
    "p = []\n",
    "A = []\n",
    "M = []\n",
    "D = []\n",
    "for i in bangles_url:\n",
    "    driver.get(i)\n",
    "    time.sleep(2)\n",
    "    try:\n",
    "        Brand_Name =driver.find_element(By.XPATH,'/html/body/div[2]/div[2]/div[5]/div[1]/div[1]/div[2]/div[2]/div/div/div[1]/div[34]/div/table/tbody/tr[3]')\n",
    "        Brand.append(Brand_Name.text)\n",
    "    except NoSuchElementException:\n",
    "        Brand.append('Not present')\n",
    "        \n",
    "\n",
    "\n",
    "    try:\n",
    "        Price =driver.find_element(By.XPATH,'/html/body/div[2]/div[2]/div[5]/div[1]/div[1]/div[2]/div[2]/div/div/div[1]/div[3]/div[3]/div[1]/span[2]/span[2]/span[2]')\n",
    "        p.append(Price.text)\n",
    "    except NoSuchElementException:\n",
    "        p.append('Not present')\n",
    "        \n",
    "        \n",
    "        \n",
    "\n",
    "    try:\n",
    "        Availability =driver.find_element(By.XPATH,'/html/body/div[2]/div[2]/div[5]/div[1]/div[1]/div[2]/div[2]/div/div/div[2]/div[3]/div/div[1]/div/div/div/form/div/div/div/div/div[3]/div/div[4]/div/div[1]/span')\n",
    "        A.append(Availability.text)\n",
    "    except NoSuchElementException:\n",
    "        A.append('Not present')    \n",
    "        \n",
    "        \n",
    "        \n",
    "\n",
    "\n",
    "    try:\n",
    "        Material =driver.find_element(By.XPATH,'/html/body/div[2]/div[2]/div[5]/div[1]/div[1]/div[2]/div[2]/div/div/div[1]/div[34]/div/table/tbody/tr[1]/td[2]/span')\n",
    "        M.append(Material.text)\n",
    "    except NoSuchElementException:\n",
    "        M.append('Not present')       \n",
    "        \n",
    "        \n",
    "        \n",
    "        \n",
    "\n",
    "\n",
    "    try:\n",
    "        Description =driver.find_element(By.XPATH,'/html/body/div[2]/div[2]/div[5]/div[1]/div[1]/div[2]/div[2]/div/div/div[1]/div[34]/div/table/tbody/tr[1]/td[2]/span')\n",
    "        D.append(Description.text)\n",
    "    except NoSuchElementException:\n",
    "        D.append('Not present')        "
   ]
  },
  {
   "cell_type": "code",
   "execution_count": 290,
   "id": "ba54ec76",
   "metadata": {},
   "outputs": [
    {
     "data": {
      "text/plain": [
       "198"
      ]
     },
     "execution_count": 290,
     "metadata": {},
     "output_type": "execute_result"
    }
   ],
   "source": [
    "len(Brand)"
   ]
  },
  {
   "cell_type": "code",
   "execution_count": 291,
   "id": "4146331e",
   "metadata": {},
   "outputs": [
    {
     "data": {
      "text/plain": [
       "198"
      ]
     },
     "execution_count": 291,
     "metadata": {},
     "output_type": "execute_result"
    }
   ],
   "source": [
    "len(p)"
   ]
  },
  {
   "cell_type": "code",
   "execution_count": 292,
   "id": "4768c69d",
   "metadata": {},
   "outputs": [
    {
     "data": {
      "text/plain": [
       "198"
      ]
     },
     "execution_count": 292,
     "metadata": {},
     "output_type": "execute_result"
    }
   ],
   "source": [
    "len(A)"
   ]
  },
  {
   "cell_type": "code",
   "execution_count": 293,
   "id": "cb64b5f6",
   "metadata": {},
   "outputs": [
    {
     "data": {
      "text/plain": [
       "198"
      ]
     },
     "execution_count": 293,
     "metadata": {},
     "output_type": "execute_result"
    }
   ],
   "source": [
    "len(M)"
   ]
  },
  {
   "cell_type": "code",
   "execution_count": 294,
   "id": "cfb915db",
   "metadata": {},
   "outputs": [
    {
     "data": {
      "text/plain": [
       "198"
      ]
     },
     "execution_count": 294,
     "metadata": {},
     "output_type": "execute_result"
    }
   ],
   "source": [
    "len(D)"
   ]
  },
  {
   "cell_type": "code",
   "execution_count": 295,
   "id": "ade53961",
   "metadata": {},
   "outputs": [
    {
     "data": {
      "text/html": [
       "<div>\n",
       "<style scoped>\n",
       "    .dataframe tbody tr th:only-of-type {\n",
       "        vertical-align: middle;\n",
       "    }\n",
       "\n",
       "    .dataframe tbody tr th {\n",
       "        vertical-align: top;\n",
       "    }\n",
       "\n",
       "    .dataframe thead th {\n",
       "        text-align: right;\n",
       "    }\n",
       "</style>\n",
       "<table border=\"1\" class=\"dataframe\">\n",
       "  <thead>\n",
       "    <tr style=\"text-align: right;\">\n",
       "      <th></th>\n",
       "      <th>Brand</th>\n",
       "      <th>Price</th>\n",
       "      <th>Availability</th>\n",
       "      <th>Material</th>\n",
       "      <th>Description</th>\n",
       "    </tr>\n",
       "  </thead>\n",
       "  <tbody>\n",
       "    <tr>\n",
       "      <th>0</th>\n",
       "      <td>Brand VENI</td>\n",
       "      <td>499</td>\n",
       "      <td>In stock</td>\n",
       "      <td>Brass</td>\n",
       "      <td>Brass</td>\n",
       "    </tr>\n",
       "    <tr>\n",
       "      <th>1</th>\n",
       "      <td>Brand Ratnavali Jewels</td>\n",
       "      <td>1,199</td>\n",
       "      <td>Only 4 left in stock</td>\n",
       "      <td>Gold Plated</td>\n",
       "      <td>Gold Plated</td>\n",
       "    </tr>\n",
       "    <tr>\n",
       "      <th>2</th>\n",
       "      <td>Brand VENI</td>\n",
       "      <td>799</td>\n",
       "      <td>Only 4 left in stock</td>\n",
       "      <td>Brass</td>\n",
       "      <td>Brass</td>\n",
       "    </tr>\n",
       "    <tr>\n",
       "      <th>3</th>\n",
       "      <td>Brand I Jewels</td>\n",
       "      <td>299</td>\n",
       "      <td>Only 4 left in stock</td>\n",
       "      <td>Silver</td>\n",
       "      <td>Silver</td>\n",
       "    </tr>\n",
       "    <tr>\n",
       "      <th>4</th>\n",
       "      <td>Brand NMII</td>\n",
       "      <td>500</td>\n",
       "      <td>In stock</td>\n",
       "      <td>Metal</td>\n",
       "      <td>Metal</td>\n",
       "    </tr>\n",
       "    <tr>\n",
       "      <th>...</th>\n",
       "      <td>...</td>\n",
       "      <td>...</td>\n",
       "      <td>...</td>\n",
       "      <td>...</td>\n",
       "      <td>...</td>\n",
       "    </tr>\n",
       "    <tr>\n",
       "      <th>193</th>\n",
       "      <td>Brand ZULKA</td>\n",
       "      <td>400</td>\n",
       "      <td>In stock</td>\n",
       "      <td>Metal</td>\n",
       "      <td>Metal</td>\n",
       "    </tr>\n",
       "    <tr>\n",
       "      <th>194</th>\n",
       "      <td>Brand AK</td>\n",
       "      <td>1,020</td>\n",
       "      <td>In stock</td>\n",
       "      <td>Brass</td>\n",
       "      <td>Brass</td>\n",
       "    </tr>\n",
       "    <tr>\n",
       "      <th>195</th>\n",
       "      <td>Brand Ratnavali Jewels</td>\n",
       "      <td>799</td>\n",
       "      <td>In stock</td>\n",
       "      <td>Brass</td>\n",
       "      <td>Brass</td>\n",
       "    </tr>\n",
       "    <tr>\n",
       "      <th>196</th>\n",
       "      <td>Brand VQYSKO</td>\n",
       "      <td>650</td>\n",
       "      <td>In stock</td>\n",
       "      <td>Metal</td>\n",
       "      <td>Metal</td>\n",
       "    </tr>\n",
       "    <tr>\n",
       "      <th>197</th>\n",
       "      <td>Brand Priyaasi</td>\n",
       "      <td>780</td>\n",
       "      <td>In stock</td>\n",
       "      <td>Brass</td>\n",
       "      <td>Brass</td>\n",
       "    </tr>\n",
       "  </tbody>\n",
       "</table>\n",
       "<p>198 rows × 5 columns</p>\n",
       "</div>"
      ],
      "text/plain": [
       "                      Brand  Price          Availability     Material  \\\n",
       "0                Brand VENI    499              In stock        Brass   \n",
       "1    Brand Ratnavali Jewels  1,199  Only 4 left in stock  Gold Plated   \n",
       "2                Brand VENI    799  Only 4 left in stock        Brass   \n",
       "3            Brand I Jewels    299  Only 4 left in stock       Silver   \n",
       "4                Brand NMII    500              In stock        Metal   \n",
       "..                      ...    ...                   ...          ...   \n",
       "193             Brand ZULKA    400              In stock        Metal   \n",
       "194                Brand AK  1,020              In stock        Brass   \n",
       "195  Brand Ratnavali Jewels    799              In stock        Brass   \n",
       "196            Brand VQYSKO    650              In stock        Metal   \n",
       "197          Brand Priyaasi    780              In stock        Brass   \n",
       "\n",
       "     Description  \n",
       "0          Brass  \n",
       "1    Gold Plated  \n",
       "2          Brass  \n",
       "3         Silver  \n",
       "4          Metal  \n",
       "..           ...  \n",
       "193        Metal  \n",
       "194        Brass  \n",
       "195        Brass  \n",
       "196        Metal  \n",
       "197        Brass  \n",
       "\n",
       "[198 rows x 5 columns]"
      ]
     },
     "execution_count": 295,
     "metadata": {},
     "output_type": "execute_result"
    }
   ],
   "source": [
    "df = pd.DataFrame({'Brand':Brand,'Price':p,'Availability':A,'Material':M,'Description':D})\n",
    "df"
   ]
  },
  {
   "cell_type": "code",
   "execution_count": 296,
   "id": "26745add",
   "metadata": {},
   "outputs": [
    {
     "name": "stdout",
     "output_type": "stream",
     "text": [
      "Data saved to data.csv\n"
     ]
    }
   ],
   "source": [
    "csv_filename = 'data.csv'\n",
    "df.to_csv(csv_filename, index=False)\n",
    "print(f'Data saved to {csv_filename}')"
   ]
  },
  {
   "cell_type": "markdown",
   "id": "da3982e6",
   "metadata": {},
   "source": [
    "# ANS.3"
   ]
  },
  {
   "cell_type": "code",
   "execution_count": 77,
   "id": "85dee4fc",
   "metadata": {},
   "outputs": [],
   "source": [
    "driver = webdriver.Chrome()\n",
    "driver.get(\"https://www.google.com/webhp\")"
   ]
  },
  {
   "cell_type": "code",
   "execution_count": 78,
   "id": "15a0d266",
   "metadata": {},
   "outputs": [],
   "source": [
    "fruits=driver.find_element(By.XPATH,'/html/body/div[1]/div[3]/form/div[1]/div[1]/div[1]/div/div[2]/textarea')\n",
    "fruits.send_keys('fruit images')"
   ]
  },
  {
   "cell_type": "code",
   "execution_count": 79,
   "id": "d363082c",
   "metadata": {},
   "outputs": [],
   "source": [
    "search=driver.find_element(By.XPATH,\"/html/body/div[1]/div[3]/form/div[1]/div[1]/div[2]/div[2]/div[2]/div[1]/div/ul/li[1]/div/div[2]/div[1]/div[1]\")\n",
    "search.click()"
   ]
  },
  {
   "cell_type": "code",
   "execution_count": 80,
   "id": "ff124aaf",
   "metadata": {},
   "outputs": [],
   "source": [
    "view=driver.find_element(By.XPATH,\"/html/body/div[6]/div/div[12]/div/div[2]/div[2]/div/div/div[1]/div/div/div[2]/g-section-with-header/div[4]/g-more-link/a/div/span[2]\")\n",
    "view.click()"
   ]
  },
  {
   "cell_type": "code",
   "execution_count": 68,
   "id": "d48fabf1",
   "metadata": {},
   "outputs": [
    {
     "name": "stdout",
     "output_type": "stream",
     "text": [
      "Downloading 0 of 15 image\n",
      "Downloading 1 of 15 image\n",
      "Downloading 2 of 15 image\n",
      "Downloading 3 of 15 image\n",
      "Downloading 4 of 15 image\n",
      "Downloading 5 of 15 image\n",
      "Downloading 6 of 15 image\n",
      "Downloading 7 of 15 image\n",
      "Downloading 8 of 15 image\n",
      "Downloading 9 of 15 image\n",
      "Downloading 10 of 15 image\n",
      "Downloading 11 of 15 image\n",
      "Downloading 12 of 15 image\n",
      "Downloading 13 of 15 image\n",
      "Downloading 14 of 15 image\n",
      "Downloading 15 of 15 image\n"
     ]
    }
   ],
   "source": [
    "for _ in range(20):\n",
    "    driver.execute_script('window.scrollBy(0,1000)')\n",
    "\n",
    "fruits_images = driver.find_elements(By.XPATH,'//img[@class=\"rg_i Q4LuWd\"]')\n",
    "\n",
    "fruits_urls = []\n",
    "for images in fruits_images:\n",
    "    source = images.get_attribute('src')\n",
    "    if source is not None:\n",
    "        if (source[0:4]=='http'):\n",
    "            fruits_urls.append(source)\n",
    "            \n",
    "            \n",
    "for i in range(len(fruits_urls)):\n",
    "    if i>15:\n",
    "        break\n",
    "    print('Downloading {0} of {1} image'.format(i,15))\n",
    "    response= requests.get(fruits_urls[i])\n",
    "    file = open(r\"C:\\urls\\f_u\"+str(i)+\".jpg\",\"wb\")\n",
    "    file.write(response.content)"
   ]
  },
  {
   "cell_type": "code",
   "execution_count": null,
   "id": "c1418d5f",
   "metadata": {},
   "outputs": [],
   "source": []
  },
  {
   "cell_type": "code",
   "execution_count": 86,
   "id": "e31609d6",
   "metadata": {},
   "outputs": [],
   "source": [
    "# New ..... how to back\n",
    "back=driver.find_element(By.XPATH,'/html/body/c-wiz/c-wiz/div/div[3]/div[2]/div/div[1]/form/div[1]/div[2]/div/div[2]/input')\n",
    "back.clear()"
   ]
  },
  {
   "cell_type": "code",
   "execution_count": 87,
   "id": "dd5bf1d8",
   "metadata": {},
   "outputs": [],
   "source": [
    "cars=driver.find_element(By.XPATH,'/html/body/c-wiz/c-wiz/div/div[3]/div[2]/div/div[1]/form/div[1]/div[2]/div/div[2]/input')\n",
    "cars.send_keys('new top car')"
   ]
  },
  {
   "cell_type": "code",
   "execution_count": 88,
   "id": "b8a9350e",
   "metadata": {},
   "outputs": [],
   "source": [
    "search=driver.find_element(By.XPATH,\"/html/body/c-wiz/c-wiz/div/div[3]/div[2]/div/div[1]/form/div[1]/div[3]/div[2]/div[2]/div/ul/li[1]/div/div[2]/div/span\")\n",
    "search.click()"
   ]
  },
  {
   "cell_type": "code",
   "execution_count": 89,
   "id": "edff7ce5",
   "metadata": {},
   "outputs": [
    {
     "name": "stdout",
     "output_type": "stream",
     "text": [
      "Downloading 0 of 15 image\n",
      "Downloading 1 of 15 image\n",
      "Downloading 2 of 15 image\n",
      "Downloading 3 of 15 image\n",
      "Downloading 4 of 15 image\n",
      "Downloading 5 of 15 image\n",
      "Downloading 6 of 15 image\n",
      "Downloading 7 of 15 image\n",
      "Downloading 8 of 15 image\n",
      "Downloading 9 of 15 image\n",
      "Downloading 10 of 15 image\n",
      "Downloading 11 of 15 image\n",
      "Downloading 12 of 15 image\n",
      "Downloading 13 of 15 image\n",
      "Downloading 14 of 15 image\n",
      "Downloading 15 of 15 image\n"
     ]
    }
   ],
   "source": [
    "for _ in range(20):\n",
    "    driver.execute_script('window.scrollBy(0,1000)')\n",
    "\n",
    "cars_images = driver.find_elements(By.XPATH,'//img[@class=\"rg_i Q4LuWd\"]')\n",
    "\n",
    "cars_urls = []\n",
    "for images in cars_images:\n",
    "    source = images.get_attribute('src')\n",
    "    if source is not None:\n",
    "        if (source[0:4]=='http'):\n",
    "            cars_urls.append(source)\n",
    "            \n",
    "            \n",
    "for i in range(len(cars_urls)):\n",
    "    if i>15:\n",
    "        break\n",
    "    print('Downloading {0} of {1} image'.format(i,15))\n",
    "    response= requests.get(cars_urls[i])\n",
    "    file = open(r\"C:\\urls\\f_u\"+str(i)+\".jpg\",\"wb\")\n",
    "    file.write(response.content)"
   ]
  },
  {
   "cell_type": "code",
   "execution_count": 94,
   "id": "8e9dfcec",
   "metadata": {},
   "outputs": [],
   "source": [
    "# New ..... how to back\n",
    "back=driver.find_element(By.XPATH,'/html/body/c-wiz/c-wiz/div/div[3]/div[2]/div/div[1]/form/div[1]/div[2]/div/div[2]/input')\n",
    "back.clear()"
   ]
  },
  {
   "cell_type": "code",
   "execution_count": 95,
   "id": "657de9fa",
   "metadata": {},
   "outputs": [],
   "source": [
    "ML=driver.find_element(By.XPATH,'/html/body/c-wiz/c-wiz/div/div[3]/div[2]/div/div[1]/form/div[1]/div[2]/div/div[2]/input')\n",
    "ML.send_keys('Machine Learning images')"
   ]
  },
  {
   "cell_type": "code",
   "execution_count": 96,
   "id": "647fcbc4",
   "metadata": {},
   "outputs": [],
   "source": [
    "search=driver.find_element(By.XPATH,\"/html/body/c-wiz/c-wiz/div/div[3]/div[2]/div/div[1]/form/div[1]/div[3]/div[2]/div[2]/div/ul/li[1]/div/div[2]/div/span\")\n",
    "search.click()"
   ]
  },
  {
   "cell_type": "code",
   "execution_count": 97,
   "id": "584eaeee",
   "metadata": {},
   "outputs": [
    {
     "name": "stdout",
     "output_type": "stream",
     "text": [
      "Downloading 0 of 15 image\n",
      "Downloading 1 of 15 image\n",
      "Downloading 2 of 15 image\n",
      "Downloading 3 of 15 image\n",
      "Downloading 4 of 15 image\n",
      "Downloading 5 of 15 image\n",
      "Downloading 6 of 15 image\n",
      "Downloading 7 of 15 image\n",
      "Downloading 8 of 15 image\n",
      "Downloading 9 of 15 image\n",
      "Downloading 10 of 15 image\n",
      "Downloading 11 of 15 image\n",
      "Downloading 12 of 15 image\n",
      "Downloading 13 of 15 image\n",
      "Downloading 14 of 15 image\n",
      "Downloading 15 of 15 image\n"
     ]
    }
   ],
   "source": [
    "for _ in range(20):\n",
    "    driver.execute_script('window.scrollBy(0,1000)')\n",
    "\n",
    "ML_images = driver.find_elements(By.XPATH,'//img[@class=\"rg_i Q4LuWd\"]')\n",
    "\n",
    "ML_urls = []\n",
    "for images in ML_images:\n",
    "    source = images.get_attribute('src')\n",
    "    if source is not None:\n",
    "        if (source[0:4]=='http'):\n",
    "            ML_urls.append(source)\n",
    "            \n",
    "            \n",
    "for i in range(len(ML_urls)):\n",
    "    if i>15:\n",
    "        break\n",
    "    print('Downloading {0} of {1} image'.format(i,15))\n",
    "    response= requests.get(ML_urls[i])\n",
    "    file = open(r\"C:\\urls\\f_u\"+str(i)+\".jpg\",\"wb\")\n",
    "    file.write(response.content)"
   ]
  },
  {
   "cell_type": "code",
   "execution_count": 98,
   "id": "ce8a9f15",
   "metadata": {},
   "outputs": [],
   "source": [
    "# New ..... how to back\n",
    "back=driver.find_element(By.XPATH,'/html/body/c-wiz/c-wiz/div/div[3]/div[2]/div/div[1]/form/div[1]/div[2]/div/div[2]/input')\n",
    "back.clear()"
   ]
  },
  {
   "cell_type": "code",
   "execution_count": 99,
   "id": "e0ca59da",
   "metadata": {},
   "outputs": [],
   "source": [
    "Guitar=driver.find_element(By.XPATH,'/html/body/c-wiz/c-wiz/div/div[3]/div[2]/div/div[1]/form/div[1]/div[2]/div/div[2]/input')\n",
    "Guitar.send_keys('Guitar images')"
   ]
  },
  {
   "cell_type": "code",
   "execution_count": 100,
   "id": "b685fff1",
   "metadata": {},
   "outputs": [],
   "source": [
    "search=driver.find_element(By.XPATH,\"/html/body/c-wiz/c-wiz/div/div[3]/div[2]/div/div[1]/form/div[1]/div[3]/div[2]/div[2]/div/ul/li[1]/div/div[2]/div/span\")\n",
    "search.click()"
   ]
  },
  {
   "cell_type": "code",
   "execution_count": 101,
   "id": "053aac39",
   "metadata": {},
   "outputs": [
    {
     "name": "stdout",
     "output_type": "stream",
     "text": [
      "Downloading 0 of 15 image\n",
      "Downloading 1 of 15 image\n",
      "Downloading 2 of 15 image\n",
      "Downloading 3 of 15 image\n",
      "Downloading 4 of 15 image\n",
      "Downloading 5 of 15 image\n",
      "Downloading 6 of 15 image\n",
      "Downloading 7 of 15 image\n",
      "Downloading 8 of 15 image\n",
      "Downloading 9 of 15 image\n",
      "Downloading 10 of 15 image\n",
      "Downloading 11 of 15 image\n",
      "Downloading 12 of 15 image\n",
      "Downloading 13 of 15 image\n",
      "Downloading 14 of 15 image\n",
      "Downloading 15 of 15 image\n"
     ]
    }
   ],
   "source": [
    "for _ in range(20):\n",
    "    driver.execute_script('window.scrollBy(0,1000)')\n",
    "\n",
    "Guitar_images = driver.find_elements(By.XPATH,'//img[@class=\"rg_i Q4LuWd\"]')\n",
    "\n",
    "Guitar_urls = []\n",
    "for images in Guitar_images:\n",
    "    source = images.get_attribute('src')\n",
    "    if source is not None:\n",
    "        if (source[0:4]=='http'):\n",
    "            Guitar_urls.append(source)\n",
    "            \n",
    "            \n",
    "for i in range(len(Guitar_urls)):\n",
    "    if i>15:\n",
    "        break\n",
    "    print('Downloading {0} of {1} image'.format(i,15))\n",
    "    response= requests.get(Guitar_urls[i])\n",
    "    file = open(r\"C:\\urls\\f_u\"+str(i)+\".jpg\",\"wb\")\n",
    "    file.write(response.content)"
   ]
  },
  {
   "cell_type": "code",
   "execution_count": 102,
   "id": "f59733fb",
   "metadata": {},
   "outputs": [],
   "source": [
    "# New ..... how to back\n",
    "back=driver.find_element(By.XPATH,'/html/body/c-wiz/c-wiz/div/div[3]/div[2]/div/div[1]/form/div[1]/div[2]/div/div[2]/input')\n",
    "back.clear()"
   ]
  },
  {
   "cell_type": "code",
   "execution_count": 103,
   "id": "bc88e4be",
   "metadata": {},
   "outputs": [],
   "source": [
    "Cakes=driver.find_element(By.XPATH,'/html/body/c-wiz/c-wiz/div/div[3]/div[2]/div/div[1]/form/div[1]/div[2]/div/div[2]/input')\n",
    "Cakes.send_keys('Cakes images')"
   ]
  },
  {
   "cell_type": "code",
   "execution_count": 104,
   "id": "fde8e16a",
   "metadata": {},
   "outputs": [],
   "source": [
    "search=driver.find_element(By.XPATH,\"/html/body/c-wiz/c-wiz/div/div[3]/div[2]/div/div[1]/form/div[1]/div[3]/div[2]/div[2]/div/ul/li[1]/div/div[2]/div/span\")\n",
    "search.click()"
   ]
  },
  {
   "cell_type": "code",
   "execution_count": 105,
   "id": "79f8c20b",
   "metadata": {},
   "outputs": [
    {
     "name": "stdout",
     "output_type": "stream",
     "text": [
      "Downloading 0 of 15 image\n",
      "Downloading 1 of 15 image\n",
      "Downloading 2 of 15 image\n",
      "Downloading 3 of 15 image\n",
      "Downloading 4 of 15 image\n",
      "Downloading 5 of 15 image\n",
      "Downloading 6 of 15 image\n",
      "Downloading 7 of 15 image\n",
      "Downloading 8 of 15 image\n",
      "Downloading 9 of 15 image\n",
      "Downloading 10 of 15 image\n",
      "Downloading 11 of 15 image\n",
      "Downloading 12 of 15 image\n",
      "Downloading 13 of 15 image\n",
      "Downloading 14 of 15 image\n",
      "Downloading 15 of 15 image\n"
     ]
    }
   ],
   "source": [
    "for _ in range(20):\n",
    "    driver.execute_script('window.scrollBy(0,1000)')\n",
    "\n",
    "Cakes_images = driver.find_elements(By.XPATH,'//img[@class=\"rg_i Q4LuWd\"]')\n",
    "\n",
    "Cakes_urls = []\n",
    "for images in Cakes_images:\n",
    "    source = images.get_attribute('src')\n",
    "    if source is not None:\n",
    "        if (source[0:4]=='http'):\n",
    "            Cakes_urls.append(source)\n",
    "            \n",
    "            \n",
    "for i in range(len(Cakes_urls)):\n",
    "    if i>15:\n",
    "        break\n",
    "    print('Downloading {0} of {1} image'.format(i,15))\n",
    "    response= requests.get(Cakes_urls[i])\n",
    "    file = open(r\"C:\\urls\\f_u\"+str(i)+\".jpg\",\"wb\")\n",
    "    file.write(response.content)"
   ]
  },
  {
   "cell_type": "markdown",
   "id": "cb62ff40",
   "metadata": {},
   "source": [
    "# ANS.4"
   ]
  },
  {
   "cell_type": "code",
   "execution_count": 321,
   "id": "2eea0adf",
   "metadata": {},
   "outputs": [],
   "source": [
    "driver = webdriver.Chrome()\n",
    "driver.get(\"https://www.flipkart.com/\")"
   ]
  },
  {
   "cell_type": "code",
   "execution_count": 322,
   "id": "cf032ba1",
   "metadata": {},
   "outputs": [],
   "source": [
    "smartphone=driver.find_element(By.XPATH,'/html/body/div[1]/div/div[1]/div[1]/div[2]/div[2]/form/div/div/input')\n",
    "smartphone.send_keys('Oneplus Nord')"
   ]
  },
  {
   "cell_type": "code",
   "execution_count": 323,
   "id": "d0f09275",
   "metadata": {},
   "outputs": [],
   "source": [
    "search=driver.find_element(By.XPATH,\"/html/body/div[1]/div/div[1]/div[1]/div[2]/div[2]/form/div/button\")\n",
    "search.click()"
   ]
  },
  {
   "cell_type": "code",
   "execution_count": 324,
   "id": "83f89c5f",
   "metadata": {},
   "outputs": [],
   "source": [
    "smartphone_url =[]\n",
    "url = driver.find_elements(By.XPATH,'//a[@class=\"_1fQZEK\"]')\n",
    "for i in url:\n",
    "    smartphone_url.append(i.get_attribute('href'))\n",
    "        \n"
   ]
  },
  {
   "cell_type": "code",
   "execution_count": 325,
   "id": "3ffa9a53",
   "metadata": {},
   "outputs": [
    {
     "data": {
      "text/plain": [
       "24"
      ]
     },
     "execution_count": 325,
     "metadata": {},
     "output_type": "execute_result"
    }
   ],
   "source": [
    "len(smartphone_url)"
   ]
  },
  {
   "cell_type": "code",
   "execution_count": 326,
   "id": "d0d0406c",
   "metadata": {},
   "outputs": [],
   "source": [
    "Brand = []\n",
    "Smartphone_name =[]\n",
    "Colour = []\n",
    "RAM = []\n",
    "Storage_ROM = []\n",
    "Primary_Camera = []\n",
    "Secondary_Camera = []\n",
    "Display_Size = []\n",
    "Battery_Capacity = []\n",
    "Price = []\n",
    "\n",
    "for i in smartphone_url:\n",
    "    driver.get(i)\n",
    "    time.sleep(1)\n",
    "    \n",
    "    \n",
    "    try:\n",
    "        read_more=driver.find_element(By.XPATH,\"/html/body/div[1]/div/div[3]/div[1]/div[2]/div[8]/div[4]/div/div[2]/button\")\n",
    "        read_more.click()\n",
    "    except:\n",
    "        NoSuchElementException\n",
    "\n",
    "        \n",
    "    \n",
    "    try:\n",
    "        Brand_Name =driver.find_element(By.XPATH,'/html/body/div[1]/div/div[3]/div[1]/div[2]/div[2]/div/div[1]/h1/span')\n",
    "        Brand.append(Brand_Name.text)\n",
    "    except NoSuchElementException:\n",
    "        Brand.append('Not present')\n",
    "\n",
    "\n",
    "    try:\n",
    "        Smartphone =driver.find_element(By.XPATH,'/html/body/div[1]/div/div[3]/div[1]/div[2]/div[8]/div[4]/div/div[2]/div/div[1]/table/tbody/tr[3]/td[2]/ul/li')\n",
    "        Smartphone_name.append(Smartphone.text)\n",
    "    except NoSuchElementException:\n",
    "        Smartphone_name.append('Not present')\n",
    "       \n",
    "    \n",
    "    try:\n",
    "        Colour_Name =driver.find_element(By.XPATH,'/html/body/div[1]/div/div[3]/div[1]/div[2]/div[8]/div[4]/div/div[2]/div/div[1]/table/tbody/tr[4]/td[2]/ul/li')\n",
    "        Colour.append(Colour_Name.text)\n",
    "    except NoSuchElementException:\n",
    "        Colour.append('Not present')\n",
    "        \n",
    "        \n",
    "    try:\n",
    "        RAM_ =driver.find_element(By.XPATH,'/html/body/div[1]/div/div[3]/div[1]/div[2]/div[8]/div[4]/div/div[2]/div[1]/div[4]/table/tbody/tr[2]/td[2]/ul/li')\n",
    "        RAM.append(RAM_.text)\n",
    "    except NoSuchElementException:\n",
    "        RAM.append('Not present')\n",
    "        \n",
    "    try:\n",
    "        ROM =driver.find_element(By.XPATH,'/html/body/div[1]/div/div[3]/div[1]/div[2]/div[7]/div[1]/div/div[2]/ul/li[1]')\n",
    "        Storage_ROM.append(ROM.text)\n",
    "    except NoSuchElementException:\n",
    "        Storage_ROM.append('Not present')\n",
    "        \n",
    "        \n",
    "    try:\n",
    "        Primary_C =driver.find_element(By.XPATH,'/html/body/div[1]/div/div[3]/div[1]/div[2]/div[8]/div[4]/div/div[2]/div[1]/div[5]/table/tbody/tr[1]/td[2]/ul/li')\n",
    "        Primary_Camera.append(Primary_C.text)\n",
    "    except NoSuchElementException:\n",
    "        Primary_Camera.append('Not present')\n",
    "        \n",
    "        \n",
    "    try:\n",
    "        Secondary_C =driver.find_element(By.XPATH,'/html/body/div[1]/div/div[3]/div[1]/div[2]/div[8]/div[4]/div/div[2]/div[1]/div[5]/table/tbody/tr[2]/td[2]/ul/li')\n",
    "        Secondary_Camera.append(Secondary_C.text)\n",
    "    except NoSuchElementException:\n",
    "        Secondary_Camera.append('Not present')    \n",
    "        \n",
    "        \n",
    "    try:\n",
    "        Display =driver.find_element(By.XPATH,'/html/body/div[1]/div/div[3]/div[1]/div[2]/div[8]/div[4]/div/div[2]/div[1]/div[2]/table/tbody/tr[1]/td[2]/ul/li')\n",
    "        Display_Size.append(Display.text)\n",
    "    except NoSuchElementException:\n",
    "        Display_Size.append('Not present')  \n",
    "        \n",
    "        \n",
    "    try:\n",
    "        Battery =driver.find_element(By.XPATH,'/html/body/div[1]/div/div[3]/div[1]/div[2]/div[8]/div[4]/div/div[2]/div[1]/div[7]/table/tbody/tr/td[2]/ul/li')\n",
    "        Battery_Capacity.append(Battery.text)\n",
    "    except NoSuchElementException:\n",
    "        Battery_Capacity.append('Not present')  \n",
    "        \n",
    "        \n",
    "    try:\n",
    "        p =driver.find_element(By.XPATH,'/html/body/div[1]/div/div[3]/div[1]/div[2]/div[2]/div/div[4]/div[1]/div/div[1]')\n",
    "        Price.append(p.text)\n",
    "    except NoSuchElementException:\n",
    "        Price.append('Not present')      \n",
    "        \n",
    "    \n",
    "    "
   ]
  },
  {
   "cell_type": "code",
   "execution_count": 327,
   "id": "6b44018f",
   "metadata": {},
   "outputs": [
    {
     "data": {
      "text/plain": [
       "24"
      ]
     },
     "execution_count": 327,
     "metadata": {},
     "output_type": "execute_result"
    }
   ],
   "source": [
    "len(Brand)\n",
    "len(Smartphone_name)\n",
    "len(Colour)\n",
    "len(RAM)\n",
    "len(Storage_ROM)\n",
    "len(Primary_Camera)\n",
    "len(Secondary_Camera)\n",
    "len(Display_Size)\n",
    "len(Battery_Capacity)\n",
    "len(Price)"
   ]
  },
  {
   "cell_type": "code",
   "execution_count": 328,
   "id": "bad06ad1",
   "metadata": {},
   "outputs": [
    {
     "data": {
      "text/html": [
       "<div>\n",
       "<style scoped>\n",
       "    .dataframe tbody tr th:only-of-type {\n",
       "        vertical-align: middle;\n",
       "    }\n",
       "\n",
       "    .dataframe tbody tr th {\n",
       "        vertical-align: top;\n",
       "    }\n",
       "\n",
       "    .dataframe thead th {\n",
       "        text-align: right;\n",
       "    }\n",
       "</style>\n",
       "<table border=\"1\" class=\"dataframe\">\n",
       "  <thead>\n",
       "    <tr style=\"text-align: right;\">\n",
       "      <th></th>\n",
       "      <th>Brand</th>\n",
       "      <th>Smartphone_name</th>\n",
       "      <th>Colour</th>\n",
       "      <th>RAM</th>\n",
       "      <th>Storage_ROM</th>\n",
       "      <th>Primary_Camera</th>\n",
       "      <th>Secondary_Camera</th>\n",
       "      <th>Display_Size</th>\n",
       "      <th>Battery_Capacity</th>\n",
       "      <th>Price</th>\n",
       "    </tr>\n",
       "  </thead>\n",
       "  <tbody>\n",
       "    <tr>\n",
       "      <th>0</th>\n",
       "      <td>OnePlus Nord CE 2 Lite 5G (Blue Tide, 128 GB) ...</td>\n",
       "      <td>Nord CE 2 Lite 5G</td>\n",
       "      <td>Blue Tide</td>\n",
       "      <td>6 GB</td>\n",
       "      <td>6 GB RAM | 128 GB ROM</td>\n",
       "      <td>64MP Rear Camera</td>\n",
       "      <td>16MP Front Camera</td>\n",
       "      <td>16.74 cm (6.59 inch)</td>\n",
       "      <td>5000 mAh</td>\n",
       "      <td>₹17,597</td>\n",
       "    </tr>\n",
       "    <tr>\n",
       "      <th>1</th>\n",
       "      <td>OnePlus Nord CE 2 Lite 5G (Black Dusk, 128 GB)...</td>\n",
       "      <td>Not present</td>\n",
       "      <td>Not present</td>\n",
       "      <td>Not present</td>\n",
       "      <td>6 GB RAM | 128 GB ROM</td>\n",
       "      <td>Not present</td>\n",
       "      <td>Not present</td>\n",
       "      <td>Not present</td>\n",
       "      <td>Not present</td>\n",
       "      <td>₹17,718</td>\n",
       "    </tr>\n",
       "    <tr>\n",
       "      <th>2</th>\n",
       "      <td>OnePlus Nord CE 3 Lite 5G (Chromatic Gray, 256...</td>\n",
       "      <td>Not present</td>\n",
       "      <td>Not present</td>\n",
       "      <td>Not present</td>\n",
       "      <td>Not present</td>\n",
       "      <td>Not present</td>\n",
       "      <td>Not present</td>\n",
       "      <td>Not present</td>\n",
       "      <td>Not present</td>\n",
       "      <td>Not present</td>\n",
       "    </tr>\n",
       "    <tr>\n",
       "      <th>3</th>\n",
       "      <td>OnePlus Nord 3 5G (Misty Green, 128 GB)  (8 GB...</td>\n",
       "      <td>Nord 3 5G</td>\n",
       "      <td>Misty Green</td>\n",
       "      <td>8 GB</td>\n",
       "      <td>8 GB RAM | 128 GB ROM</td>\n",
       "      <td>50MP Rear Camera</td>\n",
       "      <td>Primary Camera</td>\n",
       "      <td>17.12 cm (6.74 inch)</td>\n",
       "      <td>5000 mAh</td>\n",
       "      <td>Not present</td>\n",
       "    </tr>\n",
       "    <tr>\n",
       "      <th>4</th>\n",
       "      <td>OnePlus Nord 3 5G (Tempest Gray, 256 GB)  (16 ...</td>\n",
       "      <td>Not present</td>\n",
       "      <td>Not present</td>\n",
       "      <td>Not present</td>\n",
       "      <td>16 GB RAM | 256 GB ROM</td>\n",
       "      <td>Not present</td>\n",
       "      <td>Not present</td>\n",
       "      <td>Not present</td>\n",
       "      <td>Not present</td>\n",
       "      <td>Not present</td>\n",
       "    </tr>\n",
       "    <tr>\n",
       "      <th>5</th>\n",
       "      <td>OnePlus Nord 3 5G (Misty Green, 256 GB)  (16 G...</td>\n",
       "      <td>Nord 3 5G</td>\n",
       "      <td>Misty Green</td>\n",
       "      <td>16 GB</td>\n",
       "      <td>16 GB RAM | 256 GB ROM</td>\n",
       "      <td>50MP Rear Camera</td>\n",
       "      <td>Primary Camera</td>\n",
       "      <td>17.12 cm (6.74 inch)</td>\n",
       "      <td>5000 mAh</td>\n",
       "      <td>₹36,450</td>\n",
       "    </tr>\n",
       "    <tr>\n",
       "      <th>6</th>\n",
       "      <td>OnePlus Nord CE3 5G (Aqua Surge, 128 GB)  (8 G...</td>\n",
       "      <td>Nord CE3 5G</td>\n",
       "      <td>Aqua Surge</td>\n",
       "      <td>8 GB</td>\n",
       "      <td>8 GB RAM | 128 GB ROM</td>\n",
       "      <td>50MP Rear Camera</td>\n",
       "      <td>Primary Camera</td>\n",
       "      <td>17.02 cm (6.7 inch)</td>\n",
       "      <td>5000 mAh</td>\n",
       "      <td>Not present</td>\n",
       "    </tr>\n",
       "    <tr>\n",
       "      <th>7</th>\n",
       "      <td>OnePlus Nord 3 5G (Tempest Gray, 128 GB)  (8 G...</td>\n",
       "      <td>Nord 3 5G</td>\n",
       "      <td>Tempest Gray</td>\n",
       "      <td>8 GB</td>\n",
       "      <td>8 GB RAM | 128 GB ROM</td>\n",
       "      <td>50MP Rear Camera</td>\n",
       "      <td>Primary Camera</td>\n",
       "      <td>17.12 cm (6.74 inch)</td>\n",
       "      <td>5000 mAh</td>\n",
       "      <td>₹31,477</td>\n",
       "    </tr>\n",
       "    <tr>\n",
       "      <th>8</th>\n",
       "      <td>OnePlus Nord CE3 5G (Grey Shimmer, 256 GB)  (1...</td>\n",
       "      <td>Nord CE3 5G</td>\n",
       "      <td>Grey Shimmer</td>\n",
       "      <td>12 GB</td>\n",
       "      <td>12 GB RAM | 256 GB ROM</td>\n",
       "      <td>50MP Rear Camera</td>\n",
       "      <td>Primary Camera</td>\n",
       "      <td>17.02 cm (6.7 inch)</td>\n",
       "      <td>5000 mAh</td>\n",
       "      <td>Not present</td>\n",
       "    </tr>\n",
       "    <tr>\n",
       "      <th>9</th>\n",
       "      <td>OnePlus Nord 2T 5G (Jade Fog, 128 GB)  (8 GB RAM)</td>\n",
       "      <td>Not present</td>\n",
       "      <td>Not present</td>\n",
       "      <td>Not present</td>\n",
       "      <td>Not present</td>\n",
       "      <td>Not present</td>\n",
       "      <td>Not present</td>\n",
       "      <td>Not present</td>\n",
       "      <td>Not present</td>\n",
       "      <td>Not present</td>\n",
       "    </tr>\n",
       "    <tr>\n",
       "      <th>10</th>\n",
       "      <td>OnePlus Nord 2T 5G (Gray Shadow, 128 GB)  (8 G...</td>\n",
       "      <td>Not present</td>\n",
       "      <td>Not present</td>\n",
       "      <td>Not present</td>\n",
       "      <td>Not present</td>\n",
       "      <td>Not present</td>\n",
       "      <td>Not present</td>\n",
       "      <td>Not present</td>\n",
       "      <td>Not present</td>\n",
       "      <td>Not present</td>\n",
       "    </tr>\n",
       "    <tr>\n",
       "      <th>11</th>\n",
       "      <td>OnePlus Nord (Gray Onyx, 64 GB)  (6 GB RAM)</td>\n",
       "      <td>Not present</td>\n",
       "      <td>Not present</td>\n",
       "      <td>Not present</td>\n",
       "      <td>Not present</td>\n",
       "      <td>Not present</td>\n",
       "      <td>Not present</td>\n",
       "      <td>Not present</td>\n",
       "      <td>Not present</td>\n",
       "      <td>₹22,689</td>\n",
       "    </tr>\n",
       "    <tr>\n",
       "      <th>12</th>\n",
       "      <td>OnePlus Nord (Blue Marble, 128 GB)  (8 GB RAM)</td>\n",
       "      <td>Not present</td>\n",
       "      <td>Not present</td>\n",
       "      <td>Not present</td>\n",
       "      <td>Not present</td>\n",
       "      <td>Not present</td>\n",
       "      <td>Not present</td>\n",
       "      <td>Not present</td>\n",
       "      <td>Not present</td>\n",
       "      <td>Not present</td>\n",
       "    </tr>\n",
       "    <tr>\n",
       "      <th>13</th>\n",
       "      <td>OnePlus Nord 2 5G (Blue Haze, 256 GB)  (12 GB ...</td>\n",
       "      <td>Not present</td>\n",
       "      <td>Not present</td>\n",
       "      <td>Not present</td>\n",
       "      <td>Not present</td>\n",
       "      <td>Not present</td>\n",
       "      <td>Not present</td>\n",
       "      <td>Not present</td>\n",
       "      <td>Not present</td>\n",
       "      <td>₹32,890</td>\n",
       "    </tr>\n",
       "    <tr>\n",
       "      <th>14</th>\n",
       "      <td>OnePlus Nord 2T 5G (Gray Shadow, 128 GB)  (8 G...</td>\n",
       "      <td>Not present</td>\n",
       "      <td>Not present</td>\n",
       "      <td>Not present</td>\n",
       "      <td>Not present</td>\n",
       "      <td>Not present</td>\n",
       "      <td>Not present</td>\n",
       "      <td>Not present</td>\n",
       "      <td>Not present</td>\n",
       "      <td>Not present</td>\n",
       "    </tr>\n",
       "    <tr>\n",
       "      <th>15</th>\n",
       "      <td>OnePlus Nord 2T 5G (Gray Shadow, 128 GB)  (8 G...</td>\n",
       "      <td>Not present</td>\n",
       "      <td>Not present</td>\n",
       "      <td>Not present</td>\n",
       "      <td>Not present</td>\n",
       "      <td>Not present</td>\n",
       "      <td>Not present</td>\n",
       "      <td>Not present</td>\n",
       "      <td>Not present</td>\n",
       "      <td>Not present</td>\n",
       "    </tr>\n",
       "    <tr>\n",
       "      <th>16</th>\n",
       "      <td>OnePlus Nord 2T 5G (Jade Fog, 256 GB)  (12 GB ...</td>\n",
       "      <td>Not present</td>\n",
       "      <td>Not present</td>\n",
       "      <td>Not present</td>\n",
       "      <td>Not present</td>\n",
       "      <td>Not present</td>\n",
       "      <td>Not present</td>\n",
       "      <td>Not present</td>\n",
       "      <td>Not present</td>\n",
       "      <td>Not present</td>\n",
       "    </tr>\n",
       "    <tr>\n",
       "      <th>17</th>\n",
       "      <td>OnePlus Nord CE 5G (Charcoal Ink, 128 GB)  (6 ...</td>\n",
       "      <td>Not present</td>\n",
       "      <td>Not present</td>\n",
       "      <td>Not present</td>\n",
       "      <td>Not present</td>\n",
       "      <td>Not present</td>\n",
       "      <td>Not present</td>\n",
       "      <td>Not present</td>\n",
       "      <td>Not present</td>\n",
       "      <td>Not present</td>\n",
       "    </tr>\n",
       "    <tr>\n",
       "      <th>18</th>\n",
       "      <td>OnePlus Nord CE 5G (Blue Void, 128 GB)  (8 GB ...</td>\n",
       "      <td>Not present</td>\n",
       "      <td>Not present</td>\n",
       "      <td>Not present</td>\n",
       "      <td>Not present</td>\n",
       "      <td>Not present</td>\n",
       "      <td>Not present</td>\n",
       "      <td>Not present</td>\n",
       "      <td>Not present</td>\n",
       "      <td>Not present</td>\n",
       "    </tr>\n",
       "    <tr>\n",
       "      <th>19</th>\n",
       "      <td>OnePlus Nord 2T 5G (Jade Fog, 128 GB)  (8 GB RAM)</td>\n",
       "      <td>Not present</td>\n",
       "      <td>Not present</td>\n",
       "      <td>Not present</td>\n",
       "      <td>Not present</td>\n",
       "      <td>Not present</td>\n",
       "      <td>Not present</td>\n",
       "      <td>Not present</td>\n",
       "      <td>Not present</td>\n",
       "      <td>Not present</td>\n",
       "    </tr>\n",
       "    <tr>\n",
       "      <th>20</th>\n",
       "      <td>OnePlus Nord CE 3 Lite 5G (Lime, 256 GB)  (8 G...</td>\n",
       "      <td>Not present</td>\n",
       "      <td>Not present</td>\n",
       "      <td>Not present</td>\n",
       "      <td>Not present</td>\n",
       "      <td>Not present</td>\n",
       "      <td>Not present</td>\n",
       "      <td>Not present</td>\n",
       "      <td>Not present</td>\n",
       "      <td>Not present</td>\n",
       "    </tr>\n",
       "    <tr>\n",
       "      <th>21</th>\n",
       "      <td>OnePlus Nord CE 3 Lite 5G (Chromatic Gray, 128...</td>\n",
       "      <td>Not present</td>\n",
       "      <td>Not present</td>\n",
       "      <td>Not present</td>\n",
       "      <td>Not present</td>\n",
       "      <td>Not present</td>\n",
       "      <td>Not present</td>\n",
       "      <td>Not present</td>\n",
       "      <td>Not present</td>\n",
       "      <td>Not present</td>\n",
       "    </tr>\n",
       "    <tr>\n",
       "      <th>22</th>\n",
       "      <td>OnePlus Nord (Gray Onyx, 128 GB)  (8 GB RAM)</td>\n",
       "      <td>Not present</td>\n",
       "      <td>Not present</td>\n",
       "      <td>Not present</td>\n",
       "      <td>Not present</td>\n",
       "      <td>Not present</td>\n",
       "      <td>Not present</td>\n",
       "      <td>Not present</td>\n",
       "      <td>Not present</td>\n",
       "      <td>Not present</td>\n",
       "    </tr>\n",
       "    <tr>\n",
       "      <th>23</th>\n",
       "      <td>OnePlus Nord CE 2 Lite 5G (Blue Tide, 128 GB) ...</td>\n",
       "      <td>Not present</td>\n",
       "      <td>Not present</td>\n",
       "      <td>Not present</td>\n",
       "      <td>Not present</td>\n",
       "      <td>Not present</td>\n",
       "      <td>Not present</td>\n",
       "      <td>Not present</td>\n",
       "      <td>Not present</td>\n",
       "      <td>Not present</td>\n",
       "    </tr>\n",
       "  </tbody>\n",
       "</table>\n",
       "</div>"
      ],
      "text/plain": [
       "                                                Brand    Smartphone_name  \\\n",
       "0   OnePlus Nord CE 2 Lite 5G (Blue Tide, 128 GB) ...  Nord CE 2 Lite 5G   \n",
       "1   OnePlus Nord CE 2 Lite 5G (Black Dusk, 128 GB)...        Not present   \n",
       "2   OnePlus Nord CE 3 Lite 5G (Chromatic Gray, 256...        Not present   \n",
       "3   OnePlus Nord 3 5G (Misty Green, 128 GB)  (8 GB...          Nord 3 5G   \n",
       "4   OnePlus Nord 3 5G (Tempest Gray, 256 GB)  (16 ...        Not present   \n",
       "5   OnePlus Nord 3 5G (Misty Green, 256 GB)  (16 G...          Nord 3 5G   \n",
       "6   OnePlus Nord CE3 5G (Aqua Surge, 128 GB)  (8 G...        Nord CE3 5G   \n",
       "7   OnePlus Nord 3 5G (Tempest Gray, 128 GB)  (8 G...          Nord 3 5G   \n",
       "8   OnePlus Nord CE3 5G (Grey Shimmer, 256 GB)  (1...        Nord CE3 5G   \n",
       "9   OnePlus Nord 2T 5G (Jade Fog, 128 GB)  (8 GB RAM)        Not present   \n",
       "10  OnePlus Nord 2T 5G (Gray Shadow, 128 GB)  (8 G...        Not present   \n",
       "11        OnePlus Nord (Gray Onyx, 64 GB)  (6 GB RAM)        Not present   \n",
       "12     OnePlus Nord (Blue Marble, 128 GB)  (8 GB RAM)        Not present   \n",
       "13  OnePlus Nord 2 5G (Blue Haze, 256 GB)  (12 GB ...        Not present   \n",
       "14  OnePlus Nord 2T 5G (Gray Shadow, 128 GB)  (8 G...        Not present   \n",
       "15  OnePlus Nord 2T 5G (Gray Shadow, 128 GB)  (8 G...        Not present   \n",
       "16  OnePlus Nord 2T 5G (Jade Fog, 256 GB)  (12 GB ...        Not present   \n",
       "17  OnePlus Nord CE 5G (Charcoal Ink, 128 GB)  (6 ...        Not present   \n",
       "18  OnePlus Nord CE 5G (Blue Void, 128 GB)  (8 GB ...        Not present   \n",
       "19  OnePlus Nord 2T 5G (Jade Fog, 128 GB)  (8 GB RAM)        Not present   \n",
       "20  OnePlus Nord CE 3 Lite 5G (Lime, 256 GB)  (8 G...        Not present   \n",
       "21  OnePlus Nord CE 3 Lite 5G (Chromatic Gray, 128...        Not present   \n",
       "22       OnePlus Nord (Gray Onyx, 128 GB)  (8 GB RAM)        Not present   \n",
       "23  OnePlus Nord CE 2 Lite 5G (Blue Tide, 128 GB) ...        Not present   \n",
       "\n",
       "          Colour          RAM             Storage_ROM    Primary_Camera  \\\n",
       "0      Blue Tide         6 GB   6 GB RAM | 128 GB ROM  64MP Rear Camera   \n",
       "1    Not present  Not present   6 GB RAM | 128 GB ROM       Not present   \n",
       "2    Not present  Not present             Not present       Not present   \n",
       "3    Misty Green         8 GB   8 GB RAM | 128 GB ROM  50MP Rear Camera   \n",
       "4    Not present  Not present  16 GB RAM | 256 GB ROM       Not present   \n",
       "5    Misty Green        16 GB  16 GB RAM | 256 GB ROM  50MP Rear Camera   \n",
       "6     Aqua Surge         8 GB   8 GB RAM | 128 GB ROM  50MP Rear Camera   \n",
       "7   Tempest Gray         8 GB   8 GB RAM | 128 GB ROM  50MP Rear Camera   \n",
       "8   Grey Shimmer        12 GB  12 GB RAM | 256 GB ROM  50MP Rear Camera   \n",
       "9    Not present  Not present             Not present       Not present   \n",
       "10   Not present  Not present             Not present       Not present   \n",
       "11   Not present  Not present             Not present       Not present   \n",
       "12   Not present  Not present             Not present       Not present   \n",
       "13   Not present  Not present             Not present       Not present   \n",
       "14   Not present  Not present             Not present       Not present   \n",
       "15   Not present  Not present             Not present       Not present   \n",
       "16   Not present  Not present             Not present       Not present   \n",
       "17   Not present  Not present             Not present       Not present   \n",
       "18   Not present  Not present             Not present       Not present   \n",
       "19   Not present  Not present             Not present       Not present   \n",
       "20   Not present  Not present             Not present       Not present   \n",
       "21   Not present  Not present             Not present       Not present   \n",
       "22   Not present  Not present             Not present       Not present   \n",
       "23   Not present  Not present             Not present       Not present   \n",
       "\n",
       "     Secondary_Camera          Display_Size Battery_Capacity        Price  \n",
       "0   16MP Front Camera  16.74 cm (6.59 inch)         5000 mAh      ₹17,597  \n",
       "1         Not present           Not present      Not present      ₹17,718  \n",
       "2         Not present           Not present      Not present  Not present  \n",
       "3      Primary Camera  17.12 cm (6.74 inch)         5000 mAh  Not present  \n",
       "4         Not present           Not present      Not present  Not present  \n",
       "5      Primary Camera  17.12 cm (6.74 inch)         5000 mAh      ₹36,450  \n",
       "6      Primary Camera   17.02 cm (6.7 inch)         5000 mAh  Not present  \n",
       "7      Primary Camera  17.12 cm (6.74 inch)         5000 mAh      ₹31,477  \n",
       "8      Primary Camera   17.02 cm (6.7 inch)         5000 mAh  Not present  \n",
       "9         Not present           Not present      Not present  Not present  \n",
       "10        Not present           Not present      Not present  Not present  \n",
       "11        Not present           Not present      Not present      ₹22,689  \n",
       "12        Not present           Not present      Not present  Not present  \n",
       "13        Not present           Not present      Not present      ₹32,890  \n",
       "14        Not present           Not present      Not present  Not present  \n",
       "15        Not present           Not present      Not present  Not present  \n",
       "16        Not present           Not present      Not present  Not present  \n",
       "17        Not present           Not present      Not present  Not present  \n",
       "18        Not present           Not present      Not present  Not present  \n",
       "19        Not present           Not present      Not present  Not present  \n",
       "20        Not present           Not present      Not present  Not present  \n",
       "21        Not present           Not present      Not present  Not present  \n",
       "22        Not present           Not present      Not present  Not present  \n",
       "23        Not present           Not present      Not present  Not present  "
      ]
     },
     "execution_count": 328,
     "metadata": {},
     "output_type": "execute_result"
    }
   ],
   "source": [
    "df3 = pd.DataFrame({\"Brand\":Brand,\"Smartphone_name\":Smartphone_name,\"Colour\":Colour,\"RAM\":RAM,\"Storage_ROM\":Storage_ROM,\"Primary_Camera\":Primary_Camera,\"Secondary_Camera\":Secondary_Camera,\"Display_Size\":Display_Size,\"Battery_Capacity\":Battery_Capacity,\"Price\":Price})\n",
    "df3"
   ]
  },
  {
   "cell_type": "code",
   "execution_count": 329,
   "id": "9f555465",
   "metadata": {},
   "outputs": [
    {
     "name": "stdout",
     "output_type": "stream",
     "text": [
      "Data saved to data3.csv\n"
     ]
    }
   ],
   "source": [
    "csv_filename = 'data3.csv'\n",
    "df3.to_csv(csv_filename, index=False)\n",
    "print(f'Data saved to {csv_filename}')"
   ]
  },
  {
   "cell_type": "markdown",
   "id": "8f73d825",
   "metadata": {},
   "source": [
    "# ANS.5"
   ]
  },
  {
   "cell_type": "code",
   "execution_count": 126,
   "id": "7d82fd5e",
   "metadata": {},
   "outputs": [],
   "source": [
    "driver = webdriver.Chrome()\n",
    "driver.get(\"https://www.google.com/maps/@26.6284242,73.8783351,7z?entry=ttu\")"
   ]
  },
  {
   "cell_type": "code",
   "execution_count": 129,
   "id": "0460962b",
   "metadata": {},
   "outputs": [],
   "source": [
    "search_city=driver.find_element(By.XPATH,\"/html/body/div[3]/div[8]/div[3]/div[1]/div[1]/div/div[2]/form/input\")\n",
    "search_city.send_keys('pali')"
   ]
  },
  {
   "cell_type": "code",
   "execution_count": 130,
   "id": "1a75c707",
   "metadata": {},
   "outputs": [],
   "source": [
    "search=driver.find_element(By.XPATH,\"/html/body/div[3]/div[8]/div[3]/div[1]/div[1]/div/div[2]/div[1]/button\")\n",
    "search.click()"
   ]
  },
  {
   "cell_type": "code",
   "execution_count": 134,
   "id": "93727e8b",
   "metadata": {},
   "outputs": [
    {
     "name": "stdout",
     "output_type": "stream",
     "text": [
      "URL Extracted:  https://www.google.com/maps/place/Pali,+Rajasthan+306401/@25.7773173,73.3259566,12z/data=!3m1!4b1!4m6!3m5!1s0x3942725536fc8e7f:0x8758f805e49b50!8m2!3d25.7780623!4d73.331147!16zL20vMDc5Nnp5?entry=ttu\n"
     ]
    }
   ],
   "source": [
    "try:\n",
    "    url_string = driver.current_url\n",
    "    print(\"URL Extracted: \", url_string)\n",
    "    lat_lng = re.findall(r'@(.*)data',url_string)\n",
    "except:\n",
    "    NoSuchElementException"
   ]
  },
  {
   "cell_type": "code",
   "execution_count": null,
   "id": "83ec3fa3",
   "metadata": {},
   "outputs": [],
   "source": []
  },
  {
   "cell_type": "code",
   "execution_count": 131,
   "id": "9489b636",
   "metadata": {},
   "outputs": [
    {
     "ename": "SyntaxError",
     "evalue": "unexpected EOF while parsing (1323500872.py, line 5)",
     "output_type": "error",
     "traceback": [
      "\u001b[1;36m  File \u001b[1;32m\"C:\\Users\\Dell\\AppData\\Local\\Temp\\ipykernel_13016\\1323500872.py\"\u001b[1;36m, line \u001b[1;32m5\u001b[0m\n\u001b[1;33m    \u001b[0m\n\u001b[1;37m    ^\u001b[0m\n\u001b[1;31mSyntaxError\u001b[0m\u001b[1;31m:\u001b[0m unexpected EOF while parsing\n"
     ]
    }
   ],
   "source": []
  },
  {
   "cell_type": "markdown",
   "id": "0325cd82",
   "metadata": {},
   "source": [
    "# ANS.6"
   ]
  },
  {
   "cell_type": "code",
   "execution_count": 376,
   "id": "a1e1ad56",
   "metadata": {},
   "outputs": [],
   "source": [
    "driver = webdriver.Chrome()\n",
    "driver.get(\"https://www.digit.in/\")"
   ]
  },
  {
   "cell_type": "code",
   "execution_count": 377,
   "id": "7f968a64",
   "metadata": {},
   "outputs": [],
   "source": [
    "laptop=driver.find_element(By.XPATH,\"/html/body/div[2]/div/ul/li[2]/span\")\n",
    "laptop.click()"
   ]
  },
  {
   "cell_type": "code",
   "execution_count": 378,
   "id": "73fa2e88",
   "metadata": {},
   "outputs": [],
   "source": [
    "best_laptops=driver.find_element(By.XPATH,\"/html/body/div[2]/div/ul/li[2]/div[2]/div/div[1]/span[4]\")\n",
    "best_laptops.click()"
   ]
  },
  {
   "cell_type": "code",
   "execution_count": 379,
   "id": "efec8da0",
   "metadata": {},
   "outputs": [],
   "source": [
    "Best_Gaming_laptops=driver.find_element(By.XPATH,\"/html/body/div[2]/div/ul/li[2]/div[2]/div/div[5]/div/div[2]/a/div\")\n",
    "Best_Gaming_laptops.click()"
   ]
  },
  {
   "cell_type": "code",
   "execution_count": 216,
   "id": "d0ffa2e2",
   "metadata": {},
   "outputs": [],
   "source": [
    "Laptop_url =[]\n",
    "url = driver.find_elements(By.XPATH,'//span[@class=\"datahreflink\"]')\n",
    "for i in url:\n",
    "    Laptop_url.append(i)"
   ]
  },
  {
   "cell_type": "code",
   "execution_count": 218,
   "id": "1e69d087",
   "metadata": {},
   "outputs": [
    {
     "data": {
      "text/plain": [
       "[<selenium.webdriver.remote.webelement.WebElement (session=\"4d8f2e4b2e270f1f2061717c3a801cdd\", element=\"E8773B64B9AACDF22DF21B2EA9451FFA_element_1044\")>,\n",
       " <selenium.webdriver.remote.webelement.WebElement (session=\"4d8f2e4b2e270f1f2061717c3a801cdd\", element=\"E8773B64B9AACDF22DF21B2EA9451FFA_element_1050\")>,\n",
       " <selenium.webdriver.remote.webelement.WebElement (session=\"4d8f2e4b2e270f1f2061717c3a801cdd\", element=\"E8773B64B9AACDF22DF21B2EA9451FFA_element_1051\")>,\n",
       " <selenium.webdriver.remote.webelement.WebElement (session=\"4d8f2e4b2e270f1f2061717c3a801cdd\", element=\"E8773B64B9AACDF22DF21B2EA9451FFA_element_1052\")>,\n",
       " <selenium.webdriver.remote.webelement.WebElement (session=\"4d8f2e4b2e270f1f2061717c3a801cdd\", element=\"E8773B64B9AACDF22DF21B2EA9451FFA_element_1053\")>,\n",
       " <selenium.webdriver.remote.webelement.WebElement (session=\"4d8f2e4b2e270f1f2061717c3a801cdd\", element=\"E8773B64B9AACDF22DF21B2EA9451FFA_element_1054\")>,\n",
       " <selenium.webdriver.remote.webelement.WebElement (session=\"4d8f2e4b2e270f1f2061717c3a801cdd\", element=\"E8773B64B9AACDF22DF21B2EA9451FFA_element_1055\")>,\n",
       " <selenium.webdriver.remote.webelement.WebElement (session=\"4d8f2e4b2e270f1f2061717c3a801cdd\", element=\"E8773B64B9AACDF22DF21B2EA9451FFA_element_1056\")>,\n",
       " <selenium.webdriver.remote.webelement.WebElement (session=\"4d8f2e4b2e270f1f2061717c3a801cdd\", element=\"E8773B64B9AACDF22DF21B2EA9451FFA_element_1057\")>]"
      ]
     },
     "execution_count": 218,
     "metadata": {},
     "output_type": "execute_result"
    }
   ],
   "source": [
    "Laptop_url"
   ]
  },
  {
   "cell_type": "code",
   "execution_count": null,
   "id": "0cc338d1",
   "metadata": {},
   "outputs": [],
   "source": [
    "Laptop_name =[]\n",
    "Launch_date_global=[]\n",
    "laptop_type =[]\n",
    "OS =[]    \n",
    "Display_Resolution =[]\n",
    "Display_size = []\n",
    "Display_Refresh_Rate = []\n",
    "connectivity = []\n",
    "Memory_ram = []\n",
    "laptop_weight_kg = []\n",
    "laptop_dimension_mm = []\n",
    "Processor_model_name =[]  \n",
    "clock_speed = []\n",
    "cores = []\n",
    "graphics_processor = []\n",
    "Cache_L3 = []\n",
    "Boost_Clock_Speed = []\n",
    "Storage_drive_type = []\n",
    "Storage_drive_capacity = []\n",
    "battery_backup_in_hours = []\n",
    "power_supply = []\n",
    "Price =[]\n",
    "\n",
    "\n",
    "\n",
    "\n",
    "\n",
    "for i in Laptop_url:\n",
    "    driver.get(i)\n",
    "    time.sleep(2)\n",
    "    \n",
    "       \n",
    "    try:\n",
    "        Name =driver.find_element(By.XPATH,'/html/body/div[1]/div/div[3]/div[1]/div[2]/div[2]/div/div[1]/h1/span')\n",
    "        Laptop_name.append(Name.text)\n",
    "    except NoSuchElementException:\n",
    "        Laptop_name.append('Not present')\n",
    "\n",
    "\n",
    "    try:\n",
    "        Launch_date =driver.find_element(By.XPATH,'/html/body/div[1]/div/div[3]/div[1]/div[2]/div[8]/div[4]/div/div[2]/div/div[1]/table/tbody/tr[3]/td[2]/ul/li')\n",
    "        Launch_date_global.append(Launch_date.text)\n",
    "    except NoSuchElementException:\n",
    "        Launch_date_global.append('Not present')\n",
    "       \n",
    "    \n",
    "    try:\n",
    "        l_type =driver.find_element(By.XPATH,'/html/body/div[1]/div/div[3]/div[1]/div[2]/div[8]/div[4]/div/div[2]/div/div[1]/table/tbody/tr[4]/td[2]/ul/li')\n",
    "        laptop_type.append(l_type.text)\n",
    "    except NoSuchElementException:\n",
    "        laptop_type.append('Not present')\n",
    "        \n",
    "        \n",
    "    try:\n",
    "        OS_ =driver.find_element(By.XPATH,'/html/body/div[1]/div/div[3]/div[1]/div[2]/div[8]/div[4]/div/div[2]/div[1]/div[4]/table/tbody/tr[2]/td[2]/ul/li')\n",
    "        OS.append(OS_.text)\n",
    "    except NoSuchElementException:\n",
    "        OS.append('Not present')\n",
    "        \n",
    "    try:\n",
    "        Display =driver.find_element(By.XPATH,'/html/body/div[1]/div/div[3]/div[1]/div[2]/div[7]/div[1]/div/div[2]/ul/li[1]')\n",
    "        Display_Resolution.append(Display.text)\n",
    "    except NoSuchElementException:\n",
    "        Display_Resolution.append('Not present')\n",
    "        \n",
    "        \n",
    "    try:\n",
    "        D_size =driver.find_element(By.XPATH,'/html/body/div[1]/div/div[3]/div[1]/div[2]/div[8]/div[4]/div/div[2]/div[1]/div[5]/table/tbody/tr[1]/td[2]/ul/li')\n",
    "        Display_size.append(D_size.text)\n",
    "    except NoSuchElementException:\n",
    "        Display_size.append('Not present')\n",
    "        \n",
    "        \n",
    "    try:\n",
    "        Refresh_Rate =driver.find_element(By.XPATH,'/html/body/div[1]/div/div[3]/div[1]/div[2]/div[8]/div[4]/div/div[2]/div[1]/div[5]/table/tbody/tr[2]/td[2]/ul/li')\n",
    "        Display_Refresh_Rate.append(Refresh_Rate.text)\n",
    "    except NoSuchElementException:\n",
    "        Display_Refresh_Rate.append('Not present')    \n",
    "        \n",
    "        \n",
    "    try:\n",
    "        C =driver.find_element(By.XPATH,'/html/body/div[1]/div/div[3]/div[1]/div[2]/div[8]/div[4]/div/div[2]/div[1]/div[2]/table/tbody/tr[1]/td[2]/ul/li')\n",
    "        connectivity.append(C.text)\n",
    "    except NoSuchElementException:\n",
    "        connectivity.append('Not present')  \n",
    "        \n",
    "        \n",
    "    try:\n",
    "        RAM =driver.find_element(By.XPATH,'/html/body/div[1]/div/div[3]/div[1]/div[2]/div[8]/div[4]/div/div[2]/div[1]/div[7]/table/tbody/tr/td[2]/ul/li')\n",
    "        Memory_ram.append(RAM.text)\n",
    "    except NoSuchElementException:\n",
    "        Memory_ram.append('Not present')  \n",
    "        \n",
    "        \n",
    "    try:\n",
    "        laptop_weight =driver.find_element(By.XPATH,'/html/body/div[1]/div/div[3]/div[1]/div[2]/div[2]/div/div[4]/div[1]/div/div[1]')\n",
    "        laptop_weight_kg.append(laptop_weight.text)\n",
    "    except NoSuchElementException:\n",
    "        laptop_weight_kg.append('Not present')      \n",
    "        \n",
    "    try:\n",
    "        laptop_dimension =driver.find_element(By.XPATH,'/html/body/div[1]/div/div[3]/div[1]/div[2]/div[2]/div/div[4]/div[1]/div/div[1]')\n",
    "        laptop_dimension_mm.append(laptop_dimension.text)\n",
    "    except NoSuchElementException:\n",
    "        laptop_dimension_mm.append('Not present')      \n",
    "        \n",
    "    try:\n",
    "        Processor_model =driver.find_element(By.XPATH,'/html/body/div[1]/div/div[3]/div[1]/div[2]/div[2]/div/div[4]/div[1]/div/div[1]')\n",
    "        Processor_model_name.append(Processor_model.text)\n",
    "    except NoSuchElementException:\n",
    "        Processor_model_name.append('Not present')  \n",
    "        \n",
    "        \n",
    "    try:\n",
    "        clock =driver.find_element(By.XPATH,'/html/body/div[1]/div/div[3]/div[1]/div[2]/div[2]/div/div[4]/div[1]/div/div[1]')\n",
    "        clock_speed.append(clock.text)\n",
    "    except NoSuchElementException:\n",
    "        clock_speed.append('Not present')      \n",
    "            \n",
    "    try:\n",
    "        c =driver.find_element(By.XPATH,'/html/body/div[1]/div/div[3]/div[1]/div[2]/div[2]/div/div[4]/div[1]/div/div[1]')\n",
    "        cores.append(c.text)\n",
    "    except NoSuchElementException:\n",
    "        cores.append('Not present')      \n",
    "        \n",
    "        \n",
    "    try:\n",
    "        g_processor =driver.find_element(By.XPATH,'/html/body/div[1]/div/div[3]/div[1]/div[2]/div[2]/div/div[4]/div[1]/div/div[1]')\n",
    "        graphics_processor.append(g_processor.text)\n",
    "    except NoSuchElementException:\n",
    "        graphics_processor.append('Not present')      \n",
    "       \n",
    "    \n",
    "    try:\n",
    "        C_L3 =driver.find_element(By.XPATH,'/html/body/div[1]/div/div[3]/div[1]/div[2]/div[2]/div/div[4]/div[1]/div/div[1]')\n",
    "        Cache_L3.append(C_L3.text)\n",
    "    except NoSuchElementException:\n",
    "        Cache_L3.append('Not present')   \n",
    "        \n",
    "        \n",
    "    try:\n",
    "        Boost_Clock =driver.find_element(By.XPATH,'/html/body/div[1]/div/div[3]/div[1]/div[2]/div[2]/div/div[4]/div[1]/div/div[1]')\n",
    "        Boost_Clock_Speed.append(Boost_Clock.text)\n",
    "    except NoSuchElementException:\n",
    "        Boost_Clock_Speed.append('Not present')   \n",
    "        \n",
    "        \n",
    "        \n",
    "    try:\n",
    "        Storage_drive_t =driver.find_element(By.XPATH,'/html/body/div[1]/div/div[3]/div[1]/div[2]/div[2]/div/div[4]/div[1]/div/div[1]')\n",
    "        Storage_drive_type.append(Storage_drive_t.text)\n",
    "    except NoSuchElementException:\n",
    "        Storage_drive_type.append('Not present')   \n",
    "        \n",
    "        \n",
    "        \n",
    "        \n",
    "    try:\n",
    "        Storage_drive_c =driver.find_element(By.XPATH,'/html/body/div[1]/div/div[3]/div[1]/div[2]/div[2]/div/div[4]/div[1]/div/div[1]')\n",
    "        Storage_drive_capacity.append(Storage_drive_c.text)\n",
    "    except NoSuchElementException:\n",
    "        Storage_drive_capacity.append('Not present')   \n",
    "        \n",
    "        \n",
    "        \n",
    "        \n",
    "    try:\n",
    "        battery_backup_in_h =driver.find_element(By.XPATH,'/html/body/div[1]/div/div[3]/div[1]/div[2]/div[2]/div/div[4]/div[1]/div/div[1]')\n",
    "        battery_backup_in_hours.append(battery_backup_in_h.text)\n",
    "    except NoSuchElementException:\n",
    "        battery_backup_in_hours.append('Not present')        \n",
    "        \n",
    "        \n",
    "    try:\n",
    "        power_s =driver.find_element(By.XPATH,'/html/body/div[1]/div/div[3]/div[1]/div[2]/div[2]/div/div[4]/div[1]/div/div[1]')\n",
    "        power_supply.append(power_s.text)\n",
    "    except NoSuchElementException:\n",
    "        power_supply.append('Not present')        \n",
    "        \n",
    "        \n",
    "        \n",
    "    try:\n",
    "        p =driver.find_element(By.XPATH,'/html/body/div[1]/div/div[3]/div[1]/div[2]/div[2]/div/div[4]/div[1]/div/div[1]')\n",
    "        Price.append(p.text)\n",
    "    except NoSuchElementException:\n",
    "        Price.append('Not present')            "
   ]
  },
  {
   "cell_type": "code",
   "execution_count": 199,
   "id": "54e131ef",
   "metadata": {},
   "outputs": [
    {
     "name": "stdout",
     "output_type": "stream",
     "text": [
      "[None, None, None, None, None, None, None, None, None, None]\n"
     ]
    }
   ],
   "source": [
    "print(Laptop_url)"
   ]
  },
  {
   "cell_type": "code",
   "execution_count": null,
   "id": "911a82f1",
   "metadata": {},
   "outputs": [],
   "source": []
  },
  {
   "cell_type": "code",
   "execution_count": null,
   "id": "e8e08ad3",
   "metadata": {},
   "outputs": [],
   "source": []
  },
  {
   "cell_type": "code",
   "execution_count": null,
   "id": "11261cad",
   "metadata": {},
   "outputs": [],
   "source": []
  },
  {
   "cell_type": "markdown",
   "id": "21910526",
   "metadata": {},
   "source": [
    "# ANS.7"
   ]
  },
  {
   "cell_type": "code",
   "execution_count": 531,
   "id": "d4252162",
   "metadata": {},
   "outputs": [],
   "source": [
    "driver = webdriver.Chrome()\n",
    "driver.get(\"https://www.forbes.com/\")"
   ]
  },
  {
   "cell_type": "code",
   "execution_count": 532,
   "id": "ff38b91f",
   "metadata": {},
   "outputs": [],
   "source": [
    "s1=driver.find_element(By.XPATH,\"/html/body/div[1]/header/nav/div[1]/div[1]/div/div\")\n",
    "s1.click()"
   ]
  },
  {
   "cell_type": "code",
   "execution_count": 533,
   "id": "8a5422e8",
   "metadata": {},
   "outputs": [],
   "source": [
    "billionaires=driver.find_element(By.XPATH,'/html/body/div[1]/header/nav/div[1]/div[1]/div/div[2]/ul/li[2]/div[1]')\n",
    "billionaires.click()"
   ]
  },
  {
   "cell_type": "code",
   "execution_count": 534,
   "id": "26899a9b",
   "metadata": {},
   "outputs": [],
   "source": [
    "world_billionaires=driver.find_element(By.XPATH,\"/html/body/div[1]/header/nav/div[1]/div[1]/div/div[2]/ul/li[2]/div[2]/div[3]/ul/li[1]\")\n",
    "world_billionaires.click()"
   ]
  },
  {
   "cell_type": "code",
   "execution_count": 540,
   "id": "adc277dc",
   "metadata": {},
   "outputs": [],
   "source": [
    "all_billionaires =[]\n",
    "start = 0\n",
    "end = 13\n",
    "for page in range (start,end):\n",
    "    b = driver.find_elements(By.XPATH,'//div[@class=\"TableRow_row__L-0Km\"]')\n",
    "    for i in b:\n",
    "        all_billionaires.append(i.text)\n",
    "    next_button=driver.find_element(By.XPATH,\"/html/body/div[1]/div[2]/div[3]/div[2]/div[2]/div[2]/div[2]/div[2]/div[1]/button[2]\")\n",
    "    next_button.click()\n"
   ]
  },
  {
   "cell_type": "code",
   "execution_count": 547,
   "id": "96ba58b3",
   "metadata": {},
   "outputs": [],
   "source": [
    "rank_list = []\n",
    "name_list = []\n",
    "net_worth_list = []\n",
    "age_list = []\n",
    "country_list = []\n",
    "source_list = []\n",
    "industry_list = []\n",
    "\n",
    "\n",
    "for entry in all_billionaires:\n",
    "    \n",
    "    values = entry.split('\\n')\n",
    "    \n",
    "    \n",
    "    rank_list.append(values[0])\n",
    "    name_list.append(values[1])\n",
    "    net_worth_list.append(values[2])\n",
    "    age_list.append(values[3])\n",
    "    country_list.append(values[4])\n",
    "    source_list.append(values[5])\n",
    "    industry_list.append(values[6])\n"
   ]
  },
  {
   "cell_type": "code",
   "execution_count": 548,
   "id": "fd7fafa8",
   "metadata": {},
   "outputs": [
    {
     "data": {
      "text/html": [
       "<div>\n",
       "<style scoped>\n",
       "    .dataframe tbody tr th:only-of-type {\n",
       "        vertical-align: middle;\n",
       "    }\n",
       "\n",
       "    .dataframe tbody tr th {\n",
       "        vertical-align: top;\n",
       "    }\n",
       "\n",
       "    .dataframe thead th {\n",
       "        text-align: right;\n",
       "    }\n",
       "</style>\n",
       "<table border=\"1\" class=\"dataframe\">\n",
       "  <thead>\n",
       "    <tr style=\"text-align: right;\">\n",
       "      <th></th>\n",
       "      <th>Rank</th>\n",
       "      <th>Name</th>\n",
       "      <th>Net_Worth</th>\n",
       "      <th>Age</th>\n",
       "      <th>Country</th>\n",
       "      <th>Source</th>\n",
       "      <th>Industry</th>\n",
       "    </tr>\n",
       "  </thead>\n",
       "  <tbody>\n",
       "    <tr>\n",
       "      <th>0</th>\n",
       "      <td>2</td>\n",
       "      <td>Elon Musk</td>\n",
       "      <td>$180 B</td>\n",
       "      <td>51</td>\n",
       "      <td>United States</td>\n",
       "      <td>Tesla, SpaceX</td>\n",
       "      <td>Automotive</td>\n",
       "    </tr>\n",
       "    <tr>\n",
       "      <th>1</th>\n",
       "      <td>3</td>\n",
       "      <td>Jeff Bezos</td>\n",
       "      <td>$114 B</td>\n",
       "      <td>59</td>\n",
       "      <td>United States</td>\n",
       "      <td>Amazon</td>\n",
       "      <td>Technology</td>\n",
       "    </tr>\n",
       "    <tr>\n",
       "      <th>2</th>\n",
       "      <td>4</td>\n",
       "      <td>Larry Ellison</td>\n",
       "      <td>$107 B</td>\n",
       "      <td>78</td>\n",
       "      <td>United States</td>\n",
       "      <td>Oracle</td>\n",
       "      <td>Technology</td>\n",
       "    </tr>\n",
       "    <tr>\n",
       "      <th>3</th>\n",
       "      <td>5</td>\n",
       "      <td>Warren Buffett</td>\n",
       "      <td>$106 B</td>\n",
       "      <td>92</td>\n",
       "      <td>United States</td>\n",
       "      <td>Berkshire Hathaway</td>\n",
       "      <td>Finance &amp; Investments</td>\n",
       "    </tr>\n",
       "    <tr>\n",
       "      <th>4</th>\n",
       "      <td>6</td>\n",
       "      <td>Bill Gates</td>\n",
       "      <td>$104 B</td>\n",
       "      <td>67</td>\n",
       "      <td>United States</td>\n",
       "      <td>Microsoft</td>\n",
       "      <td>Technology</td>\n",
       "    </tr>\n",
       "    <tr>\n",
       "      <th>...</th>\n",
       "      <td>...</td>\n",
       "      <td>...</td>\n",
       "      <td>...</td>\n",
       "      <td>...</td>\n",
       "      <td>...</td>\n",
       "      <td>...</td>\n",
       "      <td>...</td>\n",
       "    </tr>\n",
       "    <tr>\n",
       "      <th>2582</th>\n",
       "      <td>2540</td>\n",
       "      <td>Lev Kvetnoi</td>\n",
       "      <td>$1 B</td>\n",
       "      <td>57</td>\n",
       "      <td>Russia</td>\n",
       "      <td>Cement</td>\n",
       "      <td>Finance &amp; Investments</td>\n",
       "    </tr>\n",
       "    <tr>\n",
       "      <th>2583</th>\n",
       "      <td>2540</td>\n",
       "      <td>Michiel Le Roux</td>\n",
       "      <td>$1 B</td>\n",
       "      <td>73</td>\n",
       "      <td>South Africa</td>\n",
       "      <td>Banking</td>\n",
       "      <td>Finance &amp; Investments</td>\n",
       "    </tr>\n",
       "    <tr>\n",
       "      <th>2584</th>\n",
       "      <td>2540</td>\n",
       "      <td>Li Wanqiang</td>\n",
       "      <td>$1 B</td>\n",
       "      <td>45</td>\n",
       "      <td>China</td>\n",
       "      <td>Smartphones</td>\n",
       "      <td>Technology</td>\n",
       "    </tr>\n",
       "    <tr>\n",
       "      <th>2585</th>\n",
       "      <td>2540</td>\n",
       "      <td>Liu Baolin</td>\n",
       "      <td>$1 B</td>\n",
       "      <td>69</td>\n",
       "      <td>China</td>\n",
       "      <td>Pharmacies</td>\n",
       "      <td>Fashion &amp; Retail</td>\n",
       "    </tr>\n",
       "    <tr>\n",
       "      <th>2586</th>\n",
       "      <td>2540</td>\n",
       "      <td>Loo Choon Yong</td>\n",
       "      <td>$1 B</td>\n",
       "      <td>74</td>\n",
       "      <td>Singapore</td>\n",
       "      <td>Healthcare</td>\n",
       "      <td>Healthcare</td>\n",
       "    </tr>\n",
       "  </tbody>\n",
       "</table>\n",
       "<p>2587 rows × 7 columns</p>\n",
       "</div>"
      ],
      "text/plain": [
       "      Rank             Name Net_Worth Age        Country              Source  \\\n",
       "0        2        Elon Musk    $180 B  51  United States       Tesla, SpaceX   \n",
       "1        3       Jeff Bezos    $114 B  59  United States              Amazon   \n",
       "2        4    Larry Ellison    $107 B  78  United States              Oracle   \n",
       "3        5   Warren Buffett    $106 B  92  United States  Berkshire Hathaway   \n",
       "4        6       Bill Gates    $104 B  67  United States           Microsoft   \n",
       "...    ...              ...       ...  ..            ...                 ...   \n",
       "2582  2540      Lev Kvetnoi      $1 B  57         Russia              Cement   \n",
       "2583  2540  Michiel Le Roux      $1 B  73   South Africa             Banking   \n",
       "2584  2540      Li Wanqiang      $1 B  45          China         Smartphones   \n",
       "2585  2540       Liu Baolin      $1 B  69          China          Pharmacies   \n",
       "2586  2540   Loo Choon Yong      $1 B  74      Singapore          Healthcare   \n",
       "\n",
       "                   Industry  \n",
       "0                Automotive  \n",
       "1                Technology  \n",
       "2                Technology  \n",
       "3     Finance & Investments  \n",
       "4                Technology  \n",
       "...                     ...  \n",
       "2582  Finance & Investments  \n",
       "2583  Finance & Investments  \n",
       "2584             Technology  \n",
       "2585       Fashion & Retail  \n",
       "2586             Healthcare  \n",
       "\n",
       "[2587 rows x 7 columns]"
      ]
     },
     "execution_count": 548,
     "metadata": {},
     "output_type": "execute_result"
    }
   ],
   "source": [
    "df2 = pd.DataFrame({\"Rank\":rank_list,\"Name\":name_list,\"Net_Worth\":net_worth_list,\"Age\": age_list,\"Country\": country_list,\"Source\": source_list,\"Industry\": industry_list})\n",
    "df2"
   ]
  },
  {
   "cell_type": "code",
   "execution_count": 549,
   "id": "1d055f60",
   "metadata": {},
   "outputs": [
    {
     "name": "stdout",
     "output_type": "stream",
     "text": [
      "Data saved to data2.csv\n"
     ]
    }
   ],
   "source": [
    "csv_filename = 'data2.csv'\n",
    "df2.to_csv(csv_filename, index=False)\n",
    "print(f'Data saved to {csv_filename}')"
   ]
  },
  {
   "cell_type": "markdown",
   "id": "ef5d600d",
   "metadata": {},
   "source": [
    "# ANS.8"
   ]
  },
  {
   "cell_type": "code",
   "execution_count": 358,
   "id": "1c521d8c",
   "metadata": {},
   "outputs": [],
   "source": [
    "driver = webdriver.Chrome()\n",
    "driver.get(\"https://www.youtube.com/\")"
   ]
  },
  {
   "cell_type": "code",
   "execution_count": 359,
   "id": "08358c2e",
   "metadata": {},
   "outputs": [],
   "source": [
    "youtube_s=driver.find_element(By.XPATH,\"/html/body/ytd-app/div[1]/div/ytd-masthead/div[4]/div[2]/ytd-searchbox/form/div[1]/div[1]/input\")\n",
    "youtube_s.send_keys('shararat episode 1')"
   ]
  },
  {
   "cell_type": "code",
   "execution_count": 360,
   "id": "8ab35035",
   "metadata": {},
   "outputs": [],
   "source": [
    "search_v=driver.find_element(By.XPATH,\"/html/body/ytd-app/div[1]/div/ytd-masthead/div[4]/div[2]/ytd-searchbox/button\")\n",
    "search_v.click()"
   ]
  },
  {
   "cell_type": "code",
   "execution_count": 361,
   "id": "1b3650b5",
   "metadata": {},
   "outputs": [],
   "source": [
    "search_gadar2_p=driver.find_element(By.XPATH,\"/html/body/ytd-app/div[1]/ytd-page-manager/ytd-search/div[1]/ytd-two-column-search-results-renderer/div/ytd-section-list-renderer/div[2]/ytd-item-section-renderer/div[3]/ytd-playlist-renderer/ytd-playlist-thumbnail/a/div[1]/ytd-playlist-video-thumbnail-renderer\")\n",
    "search_gadar2_p.click()"
   ]
  },
  {
   "cell_type": "code",
   "execution_count": 366,
   "id": "02207af7",
   "metadata": {},
   "outputs": [],
   "source": [
    "for _ in range(20):\n",
    "    driver.execute_script('window.scrollBy(0,1000)')\n",
    "\n",
    "comment_ccc =[]\n",
    "cc = driver.find_elements(By.XPATH,'//*[@id=\"content-text\"]')\n",
    "for i in cc:\n",
    "    comment_ccc.append(i.text)\n",
    "\n",
    "\n",
    "\n",
    "\n",
    "time =[]\n",
    "tt = driver.find_elements(By.XPATH,'//*[@id=\"header-author\"]')\n",
    "for i in tt:\n",
    "    time.append(i.text)\n",
    "    \n",
    "    \n",
    "    \n",
    "    \n",
    "like =[]\n",
    "ll = driver.find_elements(By.XPATH,'//*[@id=\"vote-count-middle\"]')\n",
    "for i in ll:\n",
    "    like.append(i.text)    "
   ]
  },
  {
   "cell_type": "code",
   "execution_count": 367,
   "id": "fb7cbee0",
   "metadata": {},
   "outputs": [
    {
     "data": {
      "text/plain": [
       "40"
      ]
     },
     "execution_count": 367,
     "metadata": {},
     "output_type": "execute_result"
    }
   ],
   "source": [
    "len(like)"
   ]
  },
  {
   "cell_type": "code",
   "execution_count": 368,
   "id": "ad14ae5a",
   "metadata": {},
   "outputs": [
    {
     "data": {
      "text/plain": [
       "40"
      ]
     },
     "execution_count": 368,
     "metadata": {},
     "output_type": "execute_result"
    }
   ],
   "source": [
    "len(time)"
   ]
  },
  {
   "cell_type": "code",
   "execution_count": 369,
   "id": "917306de",
   "metadata": {},
   "outputs": [
    {
     "data": {
      "text/plain": [
       "40"
      ]
     },
     "execution_count": 369,
     "metadata": {},
     "output_type": "execute_result"
    }
   ],
   "source": [
    "len(comment_ccc)"
   ]
  },
  {
   "cell_type": "code",
   "execution_count": 374,
   "id": "cac90938",
   "metadata": {},
   "outputs": [],
   "source": [
    "import re\n",
    "\n",
    "\n",
    "only_time = []\n",
    "for item in time:\n",
    "    only = re.search(r'(\\d+\\s+\\w+\\s+ago)', item)\n",
    "    if only:\n",
    "        only_time.append(only.group(1))\n",
    "        \n",
    "       "
   ]
  },
  {
   "cell_type": "code",
   "execution_count": 373,
   "id": "b1880ccc",
   "metadata": {},
   "outputs": [
    {
     "data": {
      "text/html": [
       "<div>\n",
       "<style scoped>\n",
       "    .dataframe tbody tr th:only-of-type {\n",
       "        vertical-align: middle;\n",
       "    }\n",
       "\n",
       "    .dataframe tbody tr th {\n",
       "        vertical-align: top;\n",
       "    }\n",
       "\n",
       "    .dataframe thead th {\n",
       "        text-align: right;\n",
       "    }\n",
       "</style>\n",
       "<table border=\"1\" class=\"dataframe\">\n",
       "  <thead>\n",
       "    <tr style=\"text-align: right;\">\n",
       "      <th></th>\n",
       "      <th>comment_ccc</th>\n",
       "      <th>only_time</th>\n",
       "      <th>like</th>\n",
       "    </tr>\n",
       "  </thead>\n",
       "  <tbody>\n",
       "    <tr>\n",
       "      <th>0</th>\n",
       "      <td>Old days yaad aa gye jab dosto or family membe...</td>\n",
       "      <td>2 months ago</td>\n",
       "      <td>602</td>\n",
       "    </tr>\n",
       "    <tr>\n",
       "      <th>1</th>\n",
       "      <td>Jia's theme music has a separate fanbase. Mode...</td>\n",
       "      <td>3 months ago</td>\n",
       "      <td>350</td>\n",
       "    </tr>\n",
       "    <tr>\n",
       "      <th>2</th>\n",
       "      <td>Thanks Star Plus for bringing back this Nostal...</td>\n",
       "      <td>2 months ago</td>\n",
       "      <td>116</td>\n",
       "    </tr>\n",
       "    <tr>\n",
       "      <th>3</th>\n",
       "      <td>Ahh that lovely old days. I was in school and ...</td>\n",
       "      <td>1 month ago</td>\n",
       "      <td>19</td>\n",
       "    </tr>\n",
       "    <tr>\n",
       "      <th>4</th>\n",
       "      <td>Only 90s kids are know about this show</td>\n",
       "      <td>2 weeks ago</td>\n",
       "      <td>20</td>\n",
       "    </tr>\n",
       "    <tr>\n",
       "      <th>5</th>\n",
       "      <td>Finallly!!!! I’ve been searching all over the ...</td>\n",
       "      <td>3 months ago</td>\n",
       "      <td>133</td>\n",
       "    </tr>\n",
       "    <tr>\n",
       "      <th>6</th>\n",
       "      <td>Irony is, After watching this masterpiece u di...</td>\n",
       "      <td>1 month ago</td>\n",
       "      <td>39</td>\n",
       "    </tr>\n",
       "    <tr>\n",
       "      <th>7</th>\n",
       "      <td>Ye un dino ki baat hai jab school se aate hi d...</td>\n",
       "      <td>2 months ago</td>\n",
       "      <td>263</td>\n",
       "    </tr>\n",
       "    <tr>\n",
       "      <th>8</th>\n",
       "      <td>Used to be my favorite shows</td>\n",
       "      <td>5 days ago</td>\n",
       "      <td>1</td>\n",
       "    </tr>\n",
       "    <tr>\n",
       "      <th>9</th>\n",
       "      <td>This episodes are one of the best memory of my...</td>\n",
       "      <td>2 months ago</td>\n",
       "      <td>22</td>\n",
       "    </tr>\n",
       "    <tr>\n",
       "      <th>10</th>\n",
       "      <td>One of the best part of childhood memories</td>\n",
       "      <td>2 months ago</td>\n",
       "      <td>17</td>\n",
       "    </tr>\n",
       "    <tr>\n",
       "      <th>11</th>\n",
       "      <td>Nostalgia..... Always wanted such kind of powers</td>\n",
       "      <td>2 months ago</td>\n",
       "      <td>75</td>\n",
       "    </tr>\n",
       "    <tr>\n",
       "      <th>12</th>\n",
       "      <td>This drama made my childhood really awesome</td>\n",
       "      <td>2 months ago</td>\n",
       "      <td>25</td>\n",
       "    </tr>\n",
       "    <tr>\n",
       "      <th>13</th>\n",
       "      <td>Nostalgic drama... Childhood memories</td>\n",
       "      <td>2 months ago</td>\n",
       "      <td>9</td>\n",
       "    </tr>\n",
       "    <tr>\n",
       "      <th>14</th>\n",
       "      <td>Our childhood charms</td>\n",
       "      <td>8 days ago</td>\n",
       "      <td></td>\n",
       "    </tr>\n",
       "    <tr>\n",
       "      <th>15</th>\n",
       "      <td>Childhood Memories</td>\n",
       "      <td>2 months ago</td>\n",
       "      <td>19</td>\n",
       "    </tr>\n",
       "    <tr>\n",
       "      <th>16</th>\n",
       "      <td>Childhood summer vacation memories</td>\n",
       "      <td>2 months ago</td>\n",
       "      <td>28</td>\n",
       "    </tr>\n",
       "    <tr>\n",
       "      <th>17</th>\n",
       "      <td>Childhood memory ️️</td>\n",
       "      <td>3 months ago</td>\n",
       "      <td>67</td>\n",
       "    </tr>\n",
       "    <tr>\n",
       "      <th>18</th>\n",
       "      <td>Thank you so much for the upload. I had been w...</td>\n",
       "      <td>3 weeks ago</td>\n",
       "      <td>4</td>\n",
       "    </tr>\n",
       "    <tr>\n",
       "      <th>19</th>\n",
       "      <td>Childhood memories</td>\n",
       "      <td>10 days ago</td>\n",
       "      <td>1</td>\n",
       "    </tr>\n",
       "    <tr>\n",
       "      <th>20</th>\n",
       "      <td>Wow our Childhood Memories ️</td>\n",
       "      <td>3 months ago</td>\n",
       "      <td>46</td>\n",
       "    </tr>\n",
       "    <tr>\n",
       "      <th>21</th>\n",
       "      <td>Childhood nostalgia</td>\n",
       "      <td>3 months ago</td>\n",
       "      <td>16</td>\n",
       "    </tr>\n",
       "    <tr>\n",
       "      <th>22</th>\n",
       "      <td>Golden days of my lvf  us zamane ke serials  o...</td>\n",
       "      <td>2 weeks ago</td>\n",
       "      <td>1</td>\n",
       "    </tr>\n",
       "    <tr>\n",
       "      <th>23</th>\n",
       "      <td>Super Show Old Memories.....</td>\n",
       "      <td>3 weeks ago</td>\n",
       "      <td>1</td>\n",
       "    </tr>\n",
       "    <tr>\n",
       "      <th>24</th>\n",
       "      <td>This is real nostalgia</td>\n",
       "      <td>1 month ago</td>\n",
       "      <td>7</td>\n",
       "    </tr>\n",
       "    <tr>\n",
       "      <th>25</th>\n",
       "      <td>Childhood memories i really miss him</td>\n",
       "      <td>3 months ago</td>\n",
       "      <td>16</td>\n",
       "    </tr>\n",
       "    <tr>\n",
       "      <th>26</th>\n",
       "      <td>Childhood memory   \\n\\nOld days yaad aa gye ja...</td>\n",
       "      <td>2 weeks ago</td>\n",
       "      <td></td>\n",
       "    </tr>\n",
       "    <tr>\n",
       "      <th>27</th>\n",
       "      <td>Woww..Shararat on youtube!I m 32 bt still watc...</td>\n",
       "      <td>1 month ago</td>\n",
       "      <td>1</td>\n",
       "    </tr>\n",
       "    <tr>\n",
       "      <th>28</th>\n",
       "      <td>relivin my childhood</td>\n",
       "      <td>1 month ago</td>\n",
       "      <td>2</td>\n",
       "    </tr>\n",
       "    <tr>\n",
       "      <th>29</th>\n",
       "      <td>Ye bohat magical time tha ... im sure sabko un...</td>\n",
       "      <td>11 days ago</td>\n",
       "      <td></td>\n",
       "    </tr>\n",
       "    <tr>\n",
       "      <th>30</th>\n",
       "      <td>OmG ..u have sent me in my sweet past ..when w...</td>\n",
       "      <td>2 months ago</td>\n",
       "      <td>13</td>\n",
       "    </tr>\n",
       "    <tr>\n",
       "      <th>31</th>\n",
       "      <td>Childhood memories</td>\n",
       "      <td>2 months ago</td>\n",
       "      <td>10</td>\n",
       "    </tr>\n",
       "    <tr>\n",
       "      <th>32</th>\n",
       "      <td>I love to watch shararat, my childhood serial....</td>\n",
       "      <td>2 months ago</td>\n",
       "      <td>4</td>\n",
       "    </tr>\n",
       "    <tr>\n",
       "      <th>33</th>\n",
       "      <td>So Nostalgic ...Bachpan Yaad Aa gya  \\nThat ti...</td>\n",
       "      <td>4 weeks ago</td>\n",
       "      <td>7</td>\n",
       "    </tr>\n",
       "    <tr>\n",
       "      <th>34</th>\n",
       "      <td>Me ye mere bachpan m dekhti ti or ab teen bach...</td>\n",
       "      <td>2 months ago</td>\n",
       "      <td>51</td>\n",
       "    </tr>\n",
       "    <tr>\n",
       "      <th>35</th>\n",
       "      <td>I use to watch this in my childhood…it was qui...</td>\n",
       "      <td>2 months ago</td>\n",
       "      <td>11</td>\n",
       "    </tr>\n",
       "    <tr>\n",
       "      <th>36</th>\n",
       "      <td>Missing old days watching this serial with my ...</td>\n",
       "      <td>1 month ago</td>\n",
       "      <td></td>\n",
       "    </tr>\n",
       "    <tr>\n",
       "      <th>37</th>\n",
       "      <td>Now I want Hatim , Sonpari, Akkad bakkad bambe...</td>\n",
       "      <td>2 months ago</td>\n",
       "      <td>20</td>\n",
       "    </tr>\n",
       "    <tr>\n",
       "      <th>38</th>\n",
       "      <td>Those were the days</td>\n",
       "      <td>9 days ago</td>\n",
       "      <td></td>\n",
       "    </tr>\n",
       "    <tr>\n",
       "      <th>39</th>\n",
       "      <td>childhood serial</td>\n",
       "      <td>3 months ago</td>\n",
       "      <td>18</td>\n",
       "    </tr>\n",
       "  </tbody>\n",
       "</table>\n",
       "</div>"
      ],
      "text/plain": [
       "                                          comment_ccc     only_time like\n",
       "0   Old days yaad aa gye jab dosto or family membe...  2 months ago  602\n",
       "1   Jia's theme music has a separate fanbase. Mode...  3 months ago  350\n",
       "2   Thanks Star Plus for bringing back this Nostal...  2 months ago  116\n",
       "3   Ahh that lovely old days. I was in school and ...   1 month ago   19\n",
       "4              Only 90s kids are know about this show   2 weeks ago   20\n",
       "5   Finallly!!!! I’ve been searching all over the ...  3 months ago  133\n",
       "6   Irony is, After watching this masterpiece u di...   1 month ago   39\n",
       "7   Ye un dino ki baat hai jab school se aate hi d...  2 months ago  263\n",
       "8                       Used to be my favorite shows     5 days ago    1\n",
       "9   This episodes are one of the best memory of my...  2 months ago   22\n",
       "10        One of the best part of childhood memories   2 months ago   17\n",
       "11   Nostalgia..... Always wanted such kind of powers  2 months ago   75\n",
       "12       This drama made my childhood really awesome   2 months ago   25\n",
       "13              Nostalgic drama... Childhood memories  2 months ago    9\n",
       "14                              Our childhood charms     8 days ago     \n",
       "15                                Childhood Memories   2 months ago   19\n",
       "16                Childhood summer vacation memories   2 months ago   28\n",
       "17                                Childhood memory ️️  3 months ago   67\n",
       "18  Thank you so much for the upload. I had been w...   3 weeks ago    4\n",
       "19                                Childhood memories    10 days ago    1\n",
       "20                       Wow our Childhood Memories ️  3 months ago   46\n",
       "21                                Childhood nostalgia  3 months ago   16\n",
       "22  Golden days of my lvf  us zamane ke serials  o...   2 weeks ago    1\n",
       "23                       Super Show Old Memories.....   3 weeks ago    1\n",
       "24                            This is real nostalgia    1 month ago    7\n",
       "25              Childhood memories i really miss him   3 months ago   16\n",
       "26  Childhood memory   \\n\\nOld days yaad aa gye ja...   2 weeks ago     \n",
       "27  Woww..Shararat on youtube!I m 32 bt still watc...   1 month ago    1\n",
       "28                              relivin my childhood    1 month ago    2\n",
       "29  Ye bohat magical time tha ... im sure sabko un...   11 days ago     \n",
       "30  OmG ..u have sent me in my sweet past ..when w...  2 months ago   13\n",
       "31                                Childhood memories   2 months ago   10\n",
       "32  I love to watch shararat, my childhood serial....  2 months ago    4\n",
       "33  So Nostalgic ...Bachpan Yaad Aa gya  \\nThat ti...   4 weeks ago    7\n",
       "34  Me ye mere bachpan m dekhti ti or ab teen bach...  2 months ago   51\n",
       "35  I use to watch this in my childhood…it was qui...  2 months ago   11\n",
       "36  Missing old days watching this serial with my ...   1 month ago     \n",
       "37  Now I want Hatim , Sonpari, Akkad bakkad bambe...  2 months ago   20\n",
       "38                               Those were the days     9 days ago     \n",
       "39                                  childhood serial   3 months ago   18"
      ]
     },
     "execution_count": 373,
     "metadata": {},
     "output_type": "execute_result"
    }
   ],
   "source": [
    "df4 = pd.DataFrame({'comment_ccc':comment_ccc,'only_time':only_time,'like':like})\n",
    "df4"
   ]
  },
  {
   "cell_type": "code",
   "execution_count": 375,
   "id": "ff2731bb",
   "metadata": {},
   "outputs": [
    {
     "name": "stdout",
     "output_type": "stream",
     "text": [
      "Data saved to data.csv4\n"
     ]
    }
   ],
   "source": [
    "csv_filename = 'data.csv4'\n",
    "df4.to_csv(csv_filename, index=False)\n",
    "print(f'Data saved to {csv_filename}')"
   ]
  },
  {
   "cell_type": "markdown",
   "id": "b26a70fa",
   "metadata": {},
   "source": [
    "# ANS.9"
   ]
  },
  {
   "cell_type": "code",
   "execution_count": 576,
   "id": "4e573a39",
   "metadata": {},
   "outputs": [],
   "source": [
    "driver = webdriver.Chrome()\n",
    "driver.get(\"https://www.hostelworld.com/\")"
   ]
  },
  {
   "cell_type": "code",
   "execution_count": 577,
   "id": "c013574c",
   "metadata": {},
   "outputs": [],
   "source": [
    "search_h=driver.find_element(By.XPATH,\"/html/body/div[3]/div/div/div[2]/div[2]/div[2]/div/div/div/div[1]/div[1]/div/div[2]/input\")\n",
    "search_h.send_keys('London')"
   ]
  },
  {
   "cell_type": "code",
   "execution_count": 578,
   "id": "dcc8a004",
   "metadata": {},
   "outputs": [],
   "source": [
    "search_hh=driver.find_element(By.XPATH,\"/html/body/div[3]/div/div/div[2]/div[2]/div[2]/div/div/div/div[1]/div[2]/div/ul/li[2]/button/div[2]\")\n",
    "search_hh.click()"
   ]
  },
  {
   "cell_type": "code",
   "execution_count": 579,
   "id": "b9a81345",
   "metadata": {},
   "outputs": [],
   "source": [
    "search_hhh=driver.find_element(By.XPATH,\"/html/body/div[3]/div/div/div[2]/div[2]/div[2]/div/div/div/div[5]/button[1]\")\n",
    "search_hhh.click()"
   ]
  },
  {
   "cell_type": "code",
   "execution_count": 555,
   "id": "f9d887e4",
   "metadata": {},
   "outputs": [],
   "source": [
    "londan_url =[]\n",
    "url = driver.find_elements(By.XPATH,'//a[@class=\"nuxt-link\"]')\n",
    "for i in url:\n",
    "    londan_url.append(i.get_attribute('href'))\n",
    "        \n"
   ]
  },
  {
   "cell_type": "code",
   "execution_count": 556,
   "id": "0819980f",
   "metadata": {},
   "outputs": [
    {
     "data": {
      "text/plain": [
       "31"
      ]
     },
     "execution_count": 556,
     "metadata": {},
     "output_type": "execute_result"
    }
   ],
   "source": [
    "len(londan_url)"
   ]
  },
  {
   "cell_type": "code",
   "execution_count": 558,
   "id": "cf3d5b44",
   "metadata": {},
   "outputs": [],
   "source": [
    "search_hhhh=driver.find_element(By.XPATH,\"/html/body/div[3]/div/div/div[2]/div/div[2]/div[1]/div/div/div/div/div[6]/div/button[2]/div\")\n",
    "search_hhhh.click()"
   ]
  },
  {
   "cell_type": "code",
   "execution_count": 559,
   "id": "77c1d735",
   "metadata": {},
   "outputs": [],
   "source": [
    "londan_url2 =[]\n",
    "url2 = driver.find_elements(By.XPATH,'//a[@class=\"nuxt-link\"]')\n",
    "for i in url2:\n",
    "    londan_url2.append(i.get_attribute('href'))\n",
    "        "
   ]
  },
  {
   "cell_type": "code",
   "execution_count": 560,
   "id": "09180be1",
   "metadata": {},
   "outputs": [
    {
     "data": {
      "text/plain": [
       "13"
      ]
     },
     "execution_count": 560,
     "metadata": {},
     "output_type": "execute_result"
    }
   ],
   "source": [
    "len(londan_url2)"
   ]
  },
  {
   "cell_type": "code",
   "execution_count": 561,
   "id": "c94e5209",
   "metadata": {},
   "outputs": [],
   "source": [
    "merged_url = londan_url + londan_url2\n"
   ]
  },
  {
   "cell_type": "code",
   "execution_count": 562,
   "id": "4a0cf262",
   "metadata": {},
   "outputs": [
    {
     "data": {
      "text/plain": [
       "44"
      ]
     },
     "execution_count": 562,
     "metadata": {},
     "output_type": "execute_result"
    }
   ],
   "source": [
    "len(merged_url)"
   ]
  },
  {
   "cell_type": "code",
   "execution_count": 566,
   "id": "414abb20",
   "metadata": {},
   "outputs": [],
   "source": [
    "hostel_name =[]\n",
    "for i in merged_url:\n",
    "    driver.get(i)\n",
    "    time.sleep(1)\n",
    "    \n",
    "       \n",
    "    try:\n",
    "        Name =driver.find_element(By.XPATH,'/html/body/div[3]/div/div/div[2]/section/div[4]/div/div[1]/h1/div')\n",
    "        hostel_name.append(Name.text)\n",
    "    except NoSuchElementException:\n",
    "        hostel_name.append('Not present')\n"
   ]
  },
  {
   "cell_type": "code",
   "execution_count": 567,
   "id": "bae849ce",
   "metadata": {},
   "outputs": [
    {
     "data": {
      "text/plain": [
       "44"
      ]
     },
     "execution_count": 567,
     "metadata": {},
     "output_type": "execute_result"
    }
   ],
   "source": [
    "len(hostel_name)"
   ]
  },
  {
   "cell_type": "markdown",
   "id": "f539df15",
   "metadata": {},
   "source": [
    "***distance_from_city_centre***"
   ]
  },
  {
   "cell_type": "code",
   "execution_count": 597,
   "id": "3857db32",
   "metadata": {},
   "outputs": [],
   "source": [
    "distance_from_city_centre=[]\n",
    "    \n",
    "dis = driver.find_elements(By.XPATH,'//div[@class=\"property-distance\"]')\n",
    "for i in dis:\n",
    "    distance_from_city_centre.append(i.text)   \n"
   ]
  },
  {
   "cell_type": "code",
   "execution_count": 598,
   "id": "b3ffb9f1",
   "metadata": {},
   "outputs": [
    {
     "data": {
      "text/plain": [
       "30"
      ]
     },
     "execution_count": 598,
     "metadata": {},
     "output_type": "execute_result"
    }
   ],
   "source": [
    "len(distance_from_city_centre)"
   ]
  },
  {
   "cell_type": "code",
   "execution_count": 592,
   "id": "af7b32cf",
   "metadata": {},
   "outputs": [],
   "source": [
    "search_hhhh=driver.find_element(By.XPATH,\"/html/body/div[3]/div/div/div[2]/div/div[2]/div[1]/div/div/div/div/div[6]/div/button[2]/div\")\n",
    "search_hhhh.click()"
   ]
  },
  {
   "cell_type": "code",
   "execution_count": 593,
   "id": "1a8ff087",
   "metadata": {},
   "outputs": [],
   "source": [
    "distance_from_city_centre2=[]\n",
    "    \n",
    "dis = driver.find_elements(By.XPATH,'//div[@class=\"property-distance\"]')\n",
    "for i in dis:\n",
    "    distance_from_city_centre2.append(i.text)   \n"
   ]
  },
  {
   "cell_type": "code",
   "execution_count": 594,
   "id": "86b340c3",
   "metadata": {},
   "outputs": [
    {
     "data": {
      "text/plain": [
       "13"
      ]
     },
     "execution_count": 594,
     "metadata": {},
     "output_type": "execute_result"
    }
   ],
   "source": [
    "len(distance_from_city_centre2)"
   ]
  },
  {
   "cell_type": "code",
   "execution_count": 599,
   "id": "1f200a67",
   "metadata": {},
   "outputs": [],
   "source": [
    "distance_from_city_centre = distance_from_city_centre+distance_from_city_centre2"
   ]
  },
  {
   "cell_type": "code",
   "execution_count": 600,
   "id": "f7fb98ba",
   "metadata": {},
   "outputs": [
    {
     "data": {
      "text/plain": [
       "43"
      ]
     },
     "execution_count": 600,
     "metadata": {},
     "output_type": "execute_result"
    }
   ],
   "source": [
    "len(distance_from_city_centre)"
   ]
  },
  {
   "cell_type": "code",
   "execution_count": 601,
   "id": "3cd21f05",
   "metadata": {},
   "outputs": [],
   "source": [
    "ratings =[]\n",
    "for i in merged_url:\n",
    "    driver.get(i)\n",
    "    time.sleep(2)\n",
    "       \n",
    "    \n",
    "    try:\n",
    "        r =driver.find_element(By.XPATH,'/html/body/div[3]/div/div/div[2]/section/div[9]/div/div[1]/div[1]/div[1]')\n",
    "        ratings.append(r.text)\n",
    "    except NoSuchElementException:\n",
    "        ratings.append('Not present')\n",
    "        "
   ]
  },
  {
   "cell_type": "code",
   "execution_count": 603,
   "id": "0771ae5e",
   "metadata": {},
   "outputs": [
    {
     "data": {
      "text/plain": [
       "44"
      ]
     },
     "execution_count": 603,
     "metadata": {},
     "output_type": "execute_result"
    }
   ],
   "source": [
    "len(ratings)"
   ]
  },
  {
   "cell_type": "code",
   "execution_count": 610,
   "id": "f2fb805b",
   "metadata": {},
   "outputs": [],
   "source": [
    "total_reviews =[]\n",
    "for i in merged_url:\n",
    "    driver.get(i)\n",
    "    time.sleep(2)\n",
    "   \n",
    "        \n",
    "    try:\n",
    "        TR =driver.find_element(By.XPATH,'/html/body/div[3]/div/div/div[2]/section/div[9]/div/div[1]/div[1]/div[1]')\n",
    "        total_reviews.append(TR.text)\n",
    "    except NoSuchElementException:\n",
    "        total_reviews.append('Not present')"
   ]
  },
  {
   "cell_type": "code",
   "execution_count": 613,
   "id": "61854e0f",
   "metadata": {},
   "outputs": [
    {
     "data": {
      "text/plain": [
       "44"
      ]
     },
     "execution_count": 613,
     "metadata": {},
     "output_type": "execute_result"
    }
   ],
   "source": [
    "len(total_reviews)"
   ]
  },
  {
   "cell_type": "code",
   "execution_count": 615,
   "id": "f684e8c6",
   "metadata": {},
   "outputs": [],
   "source": [
    "overall_reviews =[]\n",
    "for i in merged_url:\n",
    "    driver.get(i)\n",
    "    time.sleep(2)\n",
    "       \n",
    "    \n",
    "    try:\n",
    "        read_more=driver.find_element(By.XPATH,\"/html/body/div[3]/div/div/div[2]/section/div[5]/div/nav/ul/li[4]/a/div\")\n",
    "        read_more.click()\n",
    "    except:\n",
    "        NoSuchElementException      \n",
    "    try:\n",
    "        OR =driver.find_element(By.XPATH,'/html/body/div[3]/div/div/div[2]/section/div[14]/div[2]/div/div[2]/section[2]/ul')\n",
    "        overall_reviews.append(OR.text)\n",
    "    except NoSuchElementException:\n",
    "        overall_reviews.append('Not present')\n",
    "        \n",
    " "
   ]
  },
  {
   "cell_type": "code",
   "execution_count": 617,
   "id": "2b2a4937",
   "metadata": {},
   "outputs": [
    {
     "data": {
      "text/plain": [
       "44"
      ]
     },
     "execution_count": 617,
     "metadata": {},
     "output_type": "execute_result"
    }
   ],
   "source": [
    "len(overall_reviews)"
   ]
  },
  {
   "cell_type": "code",
   "execution_count": 619,
   "id": "9f011c3c",
   "metadata": {},
   "outputs": [
    {
     "data": {
      "text/html": [
       "<div>\n",
       "<style scoped>\n",
       "    .dataframe tbody tr th:only-of-type {\n",
       "        vertical-align: middle;\n",
       "    }\n",
       "\n",
       "    .dataframe tbody tr th {\n",
       "        vertical-align: top;\n",
       "    }\n",
       "\n",
       "    .dataframe thead th {\n",
       "        text-align: right;\n",
       "    }\n",
       "</style>\n",
       "<table border=\"1\" class=\"dataframe\">\n",
       "  <thead>\n",
       "    <tr style=\"text-align: right;\">\n",
       "      <th></th>\n",
       "      <th>hostel_name</th>\n",
       "      <th>ratings</th>\n",
       "      <th>total_reviews</th>\n",
       "      <th>overall_reviews</th>\n",
       "    </tr>\n",
       "  </thead>\n",
       "  <tbody>\n",
       "    <tr>\n",
       "      <th>0</th>\n",
       "      <td>St Christopher's Village</td>\n",
       "      <td>8.2</td>\n",
       "      <td>8.2</td>\n",
       "      <td>Not present</td>\n",
       "    </tr>\n",
       "    <tr>\n",
       "      <th>1</th>\n",
       "      <td>The Backpackshack</td>\n",
       "      <td>8.4</td>\n",
       "      <td>8.4</td>\n",
       "      <td>Not present</td>\n",
       "    </tr>\n",
       "    <tr>\n",
       "      <th>2</th>\n",
       "      <td>Mornington Camden</td>\n",
       "      <td>6.7</td>\n",
       "      <td>6.7</td>\n",
       "      <td>Not present</td>\n",
       "    </tr>\n",
       "    <tr>\n",
       "      <th>3</th>\n",
       "      <td>Bell House Hostel</td>\n",
       "      <td>7.8</td>\n",
       "      <td>7.8</td>\n",
       "      <td>Not present</td>\n",
       "    </tr>\n",
       "    <tr>\n",
       "      <th>4</th>\n",
       "      <td>PubLove @ The Steam Engine, Waterloo</td>\n",
       "      <td>7.8</td>\n",
       "      <td>7.8</td>\n",
       "      <td>Not present</td>\n",
       "    </tr>\n",
       "    <tr>\n",
       "      <th>5</th>\n",
       "      <td>Safestay London Elephant &amp; Castle</td>\n",
       "      <td>7.1</td>\n",
       "      <td>7.1</td>\n",
       "      <td>Not present</td>\n",
       "    </tr>\n",
       "    <tr>\n",
       "      <th>6</th>\n",
       "      <td>Generator London</td>\n",
       "      <td>7.7</td>\n",
       "      <td>7.7</td>\n",
       "      <td>Not present</td>\n",
       "    </tr>\n",
       "    <tr>\n",
       "      <th>7</th>\n",
       "      <td>Selina Camden</td>\n",
       "      <td>8.6</td>\n",
       "      <td>8.6</td>\n",
       "      <td>Not present</td>\n",
       "    </tr>\n",
       "    <tr>\n",
       "      <th>8</th>\n",
       "      <td>Hostelle - women only hostel London</td>\n",
       "      <td>8.8</td>\n",
       "      <td>8.8</td>\n",
       "      <td>Not present</td>\n",
       "    </tr>\n",
       "    <tr>\n",
       "      <th>9</th>\n",
       "      <td>St Christopher's Village</td>\n",
       "      <td>8.2</td>\n",
       "      <td>8.2</td>\n",
       "      <td>Not present</td>\n",
       "    </tr>\n",
       "    <tr>\n",
       "      <th>10</th>\n",
       "      <td>PubLove @ The Exmouth Arms, Euston</td>\n",
       "      <td>6.4</td>\n",
       "      <td>6.4</td>\n",
       "      <td>Not present</td>\n",
       "    </tr>\n",
       "    <tr>\n",
       "      <th>11</th>\n",
       "      <td>Clink261</td>\n",
       "      <td>8.1</td>\n",
       "      <td>8.1</td>\n",
       "      <td>Not present</td>\n",
       "    </tr>\n",
       "    <tr>\n",
       "      <th>12</th>\n",
       "      <td>Kabannas London St Pancras</td>\n",
       "      <td>8.4</td>\n",
       "      <td>8.4</td>\n",
       "      <td>Not present</td>\n",
       "    </tr>\n",
       "    <tr>\n",
       "      <th>13</th>\n",
       "      <td>PubLove @ The Rose &amp; Crown</td>\n",
       "      <td>8.2</td>\n",
       "      <td>8.2</td>\n",
       "      <td>Not present</td>\n",
       "    </tr>\n",
       "    <tr>\n",
       "      <th>14</th>\n",
       "      <td>Phoenix Hostel</td>\n",
       "      <td>7.5</td>\n",
       "      <td>7.5</td>\n",
       "      <td>Not present</td>\n",
       "    </tr>\n",
       "    <tr>\n",
       "      <th>15</th>\n",
       "      <td>PubLove @ The Green Man, Paddington</td>\n",
       "      <td>5.6</td>\n",
       "      <td>5.6</td>\n",
       "      <td>Not present</td>\n",
       "    </tr>\n",
       "    <tr>\n",
       "      <th>16</th>\n",
       "      <td>Destinations Hostels @ The Gallery</td>\n",
       "      <td>Not present</td>\n",
       "      <td>Not present</td>\n",
       "      <td>Not present</td>\n",
       "    </tr>\n",
       "    <tr>\n",
       "      <th>17</th>\n",
       "      <td>Book a Bed Hostels</td>\n",
       "      <td>7.4</td>\n",
       "      <td>7.4</td>\n",
       "      <td>Not present</td>\n",
       "    </tr>\n",
       "    <tr>\n",
       "      <th>18</th>\n",
       "      <td>Wombat's City Hostel London</td>\n",
       "      <td>9.0</td>\n",
       "      <td>9.0</td>\n",
       "      <td>Not present</td>\n",
       "    </tr>\n",
       "    <tr>\n",
       "      <th>19</th>\n",
       "      <td>No.8 Willesden Hostel London</td>\n",
       "      <td>6.7</td>\n",
       "      <td>6.7</td>\n",
       "      <td>Not present</td>\n",
       "    </tr>\n",
       "    <tr>\n",
       "      <th>20</th>\n",
       "      <td>Prime Backpackers Angel</td>\n",
       "      <td>7.9</td>\n",
       "      <td>7.9</td>\n",
       "      <td>Not present</td>\n",
       "    </tr>\n",
       "    <tr>\n",
       "      <th>21</th>\n",
       "      <td>Queen Elizabeth Chelsea</td>\n",
       "      <td>7.5</td>\n",
       "      <td>7.5</td>\n",
       "      <td>Not present</td>\n",
       "    </tr>\n",
       "    <tr>\n",
       "      <th>22</th>\n",
       "      <td>London Backpackers</td>\n",
       "      <td>7.9</td>\n",
       "      <td>7.9</td>\n",
       "      <td>Not present</td>\n",
       "    </tr>\n",
       "    <tr>\n",
       "      <th>23</th>\n",
       "      <td>PubLove @ The White Ferry, Victoria</td>\n",
       "      <td>6.9</td>\n",
       "      <td>6.9</td>\n",
       "      <td>Not present</td>\n",
       "    </tr>\n",
       "    <tr>\n",
       "      <th>24</th>\n",
       "      <td>Park Villa</td>\n",
       "      <td>8.5</td>\n",
       "      <td>8.5</td>\n",
       "      <td>Not present</td>\n",
       "    </tr>\n",
       "    <tr>\n",
       "      <th>25</th>\n",
       "      <td>Hootananny Hostel</td>\n",
       "      <td>8.3</td>\n",
       "      <td>8.3</td>\n",
       "      <td>Not present</td>\n",
       "    </tr>\n",
       "    <tr>\n",
       "      <th>26</th>\n",
       "      <td>NX London Hostel</td>\n",
       "      <td>7.7</td>\n",
       "      <td>7.7</td>\n",
       "      <td>Not present</td>\n",
       "    </tr>\n",
       "    <tr>\n",
       "      <th>27</th>\n",
       "      <td>Urbany Hostel London</td>\n",
       "      <td>9.5</td>\n",
       "      <td>9.5</td>\n",
       "      <td>Not present</td>\n",
       "    </tr>\n",
       "    <tr>\n",
       "      <th>28</th>\n",
       "      <td>St Christopher's Camden</td>\n",
       "      <td>7.5</td>\n",
       "      <td>7.5</td>\n",
       "      <td>Not present</td>\n",
       "    </tr>\n",
       "    <tr>\n",
       "      <th>29</th>\n",
       "      <td>Safestay London Kensington Holland Park</td>\n",
       "      <td>7.0</td>\n",
       "      <td>7.0</td>\n",
       "      <td>Not present</td>\n",
       "    </tr>\n",
       "    <tr>\n",
       "      <th>30</th>\n",
       "      <td>Saint James Backpackers</td>\n",
       "      <td>7.6</td>\n",
       "      <td>7.6</td>\n",
       "      <td>Not present</td>\n",
       "    </tr>\n",
       "    <tr>\n",
       "      <th>31</th>\n",
       "      <td>St Christopher's Greenwich</td>\n",
       "      <td>7.8</td>\n",
       "      <td>7.8</td>\n",
       "      <td>Not present</td>\n",
       "    </tr>\n",
       "    <tr>\n",
       "      <th>32</th>\n",
       "      <td>PubLove @ The Crown, Battersea</td>\n",
       "      <td>7.9</td>\n",
       "      <td>7.9</td>\n",
       "      <td>Not present</td>\n",
       "    </tr>\n",
       "    <tr>\n",
       "      <th>33</th>\n",
       "      <td>No.8 Seven Sisters</td>\n",
       "      <td>5.2</td>\n",
       "      <td>5.2</td>\n",
       "      <td>Not present</td>\n",
       "    </tr>\n",
       "    <tr>\n",
       "      <th>34</th>\n",
       "      <td>London365 Hostel</td>\n",
       "      <td>3.8</td>\n",
       "      <td>3.8</td>\n",
       "      <td>Not present</td>\n",
       "    </tr>\n",
       "    <tr>\n",
       "      <th>35</th>\n",
       "      <td>London Waterloo Hostel</td>\n",
       "      <td>6.1</td>\n",
       "      <td>6.1</td>\n",
       "      <td>Not present</td>\n",
       "    </tr>\n",
       "    <tr>\n",
       "      <th>36</th>\n",
       "      <td>Kensal Green Backpackers</td>\n",
       "      <td>5.2</td>\n",
       "      <td>5.2</td>\n",
       "      <td>Not present</td>\n",
       "    </tr>\n",
       "    <tr>\n",
       "      <th>37</th>\n",
       "      <td>The London Home Hostel</td>\n",
       "      <td>4.3</td>\n",
       "      <td>4.3</td>\n",
       "      <td>Not present</td>\n",
       "    </tr>\n",
       "    <tr>\n",
       "      <th>38</th>\n",
       "      <td>Beaconsfield</td>\n",
       "      <td>6.6</td>\n",
       "      <td>6.6</td>\n",
       "      <td>Not present</td>\n",
       "    </tr>\n",
       "    <tr>\n",
       "      <th>39</th>\n",
       "      <td>Kip Hotel</td>\n",
       "      <td>7.7</td>\n",
       "      <td>7.7</td>\n",
       "      <td>Not present</td>\n",
       "    </tr>\n",
       "    <tr>\n",
       "      <th>40</th>\n",
       "      <td>Budget London Apartments</td>\n",
       "      <td>4.7</td>\n",
       "      <td>4.7</td>\n",
       "      <td>Not present</td>\n",
       "    </tr>\n",
       "    <tr>\n",
       "      <th>41</th>\n",
       "      <td>All Star Private Studios</td>\n",
       "      <td>No Rating\\n0 Total Reviews</td>\n",
       "      <td>No Rating\\n0 Total Reviews</td>\n",
       "      <td>Not present</td>\n",
       "    </tr>\n",
       "    <tr>\n",
       "      <th>42</th>\n",
       "      <td>Colliers Hotel</td>\n",
       "      <td>5.1</td>\n",
       "      <td>5.1</td>\n",
       "      <td>Not present</td>\n",
       "    </tr>\n",
       "    <tr>\n",
       "      <th>43</th>\n",
       "      <td>Zedwell Piccadilly Circus</td>\n",
       "      <td>4.9</td>\n",
       "      <td>4.9</td>\n",
       "      <td>Not present</td>\n",
       "    </tr>\n",
       "  </tbody>\n",
       "</table>\n",
       "</div>"
      ],
      "text/plain": [
       "                                hostel_name                     ratings  \\\n",
       "0                  St Christopher's Village                         8.2   \n",
       "1                         The Backpackshack                         8.4   \n",
       "2                         Mornington Camden                         6.7   \n",
       "3                         Bell House Hostel                         7.8   \n",
       "4      PubLove @ The Steam Engine, Waterloo                         7.8   \n",
       "5         Safestay London Elephant & Castle                         7.1   \n",
       "6                          Generator London                         7.7   \n",
       "7                             Selina Camden                         8.6   \n",
       "8       Hostelle - women only hostel London                         8.8   \n",
       "9                  St Christopher's Village                         8.2   \n",
       "10       PubLove @ The Exmouth Arms, Euston                         6.4   \n",
       "11                                 Clink261                         8.1   \n",
       "12               Kabannas London St Pancras                         8.4   \n",
       "13               PubLove @ The Rose & Crown                         8.2   \n",
       "14                           Phoenix Hostel                         7.5   \n",
       "15      PubLove @ The Green Man, Paddington                         5.6   \n",
       "16       Destinations Hostels @ The Gallery                 Not present   \n",
       "17                       Book a Bed Hostels                         7.4   \n",
       "18              Wombat's City Hostel London                         9.0   \n",
       "19             No.8 Willesden Hostel London                         6.7   \n",
       "20                  Prime Backpackers Angel                         7.9   \n",
       "21                  Queen Elizabeth Chelsea                         7.5   \n",
       "22                       London Backpackers                         7.9   \n",
       "23      PubLove @ The White Ferry, Victoria                         6.9   \n",
       "24                               Park Villa                         8.5   \n",
       "25                        Hootananny Hostel                         8.3   \n",
       "26                         NX London Hostel                         7.7   \n",
       "27                     Urbany Hostel London                         9.5   \n",
       "28                  St Christopher's Camden                         7.5   \n",
       "29  Safestay London Kensington Holland Park                         7.0   \n",
       "30                  Saint James Backpackers                         7.6   \n",
       "31               St Christopher's Greenwich                         7.8   \n",
       "32           PubLove @ The Crown, Battersea                         7.9   \n",
       "33                       No.8 Seven Sisters                         5.2   \n",
       "34                         London365 Hostel                         3.8   \n",
       "35                   London Waterloo Hostel                         6.1   \n",
       "36                 Kensal Green Backpackers                         5.2   \n",
       "37                   The London Home Hostel                         4.3   \n",
       "38                             Beaconsfield                         6.6   \n",
       "39                                Kip Hotel                         7.7   \n",
       "40                 Budget London Apartments                         4.7   \n",
       "41                 All Star Private Studios  No Rating\\n0 Total Reviews   \n",
       "42                           Colliers Hotel                         5.1   \n",
       "43                Zedwell Piccadilly Circus                         4.9   \n",
       "\n",
       "                 total_reviews overall_reviews  \n",
       "0                          8.2     Not present  \n",
       "1                          8.4     Not present  \n",
       "2                          6.7     Not present  \n",
       "3                          7.8     Not present  \n",
       "4                          7.8     Not present  \n",
       "5                          7.1     Not present  \n",
       "6                          7.7     Not present  \n",
       "7                          8.6     Not present  \n",
       "8                          8.8     Not present  \n",
       "9                          8.2     Not present  \n",
       "10                         6.4     Not present  \n",
       "11                         8.1     Not present  \n",
       "12                         8.4     Not present  \n",
       "13                         8.2     Not present  \n",
       "14                         7.5     Not present  \n",
       "15                         5.6     Not present  \n",
       "16                 Not present     Not present  \n",
       "17                         7.4     Not present  \n",
       "18                         9.0     Not present  \n",
       "19                         6.7     Not present  \n",
       "20                         7.9     Not present  \n",
       "21                         7.5     Not present  \n",
       "22                         7.9     Not present  \n",
       "23                         6.9     Not present  \n",
       "24                         8.5     Not present  \n",
       "25                         8.3     Not present  \n",
       "26                         7.7     Not present  \n",
       "27                         9.5     Not present  \n",
       "28                         7.5     Not present  \n",
       "29                         7.0     Not present  \n",
       "30                         7.6     Not present  \n",
       "31                         7.8     Not present  \n",
       "32                         7.9     Not present  \n",
       "33                         5.2     Not present  \n",
       "34                         3.8     Not present  \n",
       "35                         6.1     Not present  \n",
       "36                         5.2     Not present  \n",
       "37                         4.3     Not present  \n",
       "38                         6.6     Not present  \n",
       "39                         7.7     Not present  \n",
       "40                         4.7     Not present  \n",
       "41  No Rating\\n0 Total Reviews     Not present  \n",
       "42                         5.1     Not present  \n",
       "43                         4.9     Not present  "
      ]
     },
     "execution_count": 619,
     "metadata": {},
     "output_type": "execute_result"
    }
   ],
   "source": [
    "df5 = pd.DataFrame({'hostel_name':hostel_name,'ratings':ratings,'total_reviews':total_reviews,'overall_reviews':overall_reviews})\n",
    "df5"
   ]
  },
  {
   "cell_type": "code",
   "execution_count": null,
   "id": "32fa7030",
   "metadata": {},
   "outputs": [],
   "source": []
  }
 ],
 "metadata": {
  "kernelspec": {
   "display_name": "Python 3 (ipykernel)",
   "language": "python",
   "name": "python3"
  },
  "language_info": {
   "codemirror_mode": {
    "name": "ipython",
    "version": 3
   },
   "file_extension": ".py",
   "mimetype": "text/x-python",
   "name": "python",
   "nbconvert_exporter": "python",
   "pygments_lexer": "ipython3",
   "version": "3.9.13"
  }
 },
 "nbformat": 4,
 "nbformat_minor": 5
}
