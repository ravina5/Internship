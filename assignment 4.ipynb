{
 "cells": [
  {
   "cell_type": "code",
   "execution_count": 171,
   "id": "fe4005e6",
   "metadata": {},
   "outputs": [],
   "source": [
    "import re\n",
    "import pandas as pd\n"
   ]
  },
  {
   "cell_type": "code",
   "execution_count": 39,
   "id": "88e9983e",
   "metadata": {},
   "outputs": [
    {
     "name": "stdout",
     "output_type": "stream",
     "text": [
      "('Python:Exercises,:PHP:exercises', 3)\n"
     ]
    }
   ],
   "source": [
    "#ANS1\n",
    "\n",
    "\n",
    "string = 'Python Exercises, PHP exercises'\n",
    "pattern ='(\\s+)'       \n",
    "replace = ':'\n",
    "\n",
    "result = re.subn(pattern,replace, string)\n",
    "\n",
    "print(result)"
   ]
  },
  {
   "cell_type": "code",
   "execution_count": 40,
   "id": "6d317488",
   "metadata": {},
   "outputs": [
    {
     "name": "stdout",
     "output_type": "stream",
     "text": [
      "['ercises', 'exercises']\n"
     ]
    }
   ],
   "source": [
    "#ANS2\n",
    "pattern ='e[a-z]+|a[a-z]+'       \n",
    "string = ' Python Exercises, PHP exercises.'\n",
    "\n",
    "result = re.findall(pattern, string)\n",
    "\n",
    "print(result)"
   ]
  },
  {
   "cell_type": "code",
   "execution_count": 50,
   "id": "b8d8e96d",
   "metadata": {},
   "outputs": [
    {
     "name": "stdout",
     "output_type": "stream",
     "text": [
      "['Python', 'Exercises', 'exercises']\n"
     ]
    }
   ],
   "source": [
    "#ANS 3\n",
    "\n",
    "str= \"Python Exercises, PHP exercises.\"\n",
    "\n",
    "pattern = r\"\\w{4,10}\" \n",
    "\n",
    "regex_pattern = re.compile(pattern)\n",
    "result = regex_pattern.findall(str) \n",
    "print (result)"
   ]
  },
  {
   "cell_type": "code",
   "execution_count": 66,
   "id": "bb7c2137",
   "metadata": {},
   "outputs": [
    {
     "name": "stdout",
     "output_type": "stream",
     "text": [
      "['term', 'the', 'study', 'and', 'money', 'and', 'other']\n"
     ]
    }
   ],
   "source": [
    "#ANS 4\n",
    "\n",
    "str= \"Finance is a term broadly describing the study and system of money, investments, and other financial instruments.\"\n",
    "\n",
    "pattern = r'\\b\\w{3,5}\\b'\n",
    "\n",
    "regex_pattern = re.compile(pattern)\n",
    "result = regex_pattern.findall(str) \n",
    "print (result)"
   ]
  },
  {
   "cell_type": "code",
   "execution_count": 4,
   "id": "7b713e77",
   "metadata": {},
   "outputs": [],
   "source": [
    "#ANS 5\n"
   ]
  },
  {
   "cell_type": "code",
   "execution_count": 73,
   "id": "907e2756",
   "metadata": {},
   "outputs": [],
   "source": [
    "#[] m jo hoga vhi aayega jese .... [)]= )\n",
    "#re.sub(pattern, replace, string) "
   ]
  },
  {
   "cell_type": "code",
   "execution_count": 72,
   "id": "b150eb67",
   "metadata": {
    "scrolled": true
   },
   "outputs": [
    {
     "name": "stdout",
     "output_type": "stream",
     "text": [
      "example\n",
      "hr@fliprobo\n",
      "github\n",
      "Hello\n",
      "Data\n"
     ]
    }
   ],
   "source": [
    "#ANS 6\n",
    "\n",
    "Sample_Text = [\"example (.com)\", \"hr@fliprobo (.com)\", \"github (.com)\", \"Hello (Data Science World)\",\"Data (Scientist)\"]\n",
    "\n",
    "for Text in Sample_Text:\n",
    "    print(re.sub(r'\\s*\\([^)]*\\)','',Text))"
   ]
  },
  {
   "cell_type": "code",
   "execution_count": 77,
   "id": "0a22f549",
   "metadata": {},
   "outputs": [],
   "source": [
    "\n"
   ]
  },
  {
   "cell_type": "code",
   "execution_count": 97,
   "id": "d7f3883e",
   "metadata": {},
   "outputs": [
    {
     "name": "stdout",
     "output_type": "stream",
     "text": [
      "['', 'mportance', 'f', 'egular', 'xpressions', 'n', 'ython']\n"
     ]
    }
   ],
   "source": [
    "# QUS 7\n",
    "string = \"ImportanceOfRegularExpressionsInPython\"\n",
    "pattern =r'[A-Z]+'                                \n",
    "\n",
    "result = re.split(pattern, string)\n",
    "print(result)"
   ]
  },
  {
   "cell_type": "code",
   "execution_count": 95,
   "id": "969e7dfa",
   "metadata": {},
   "outputs": [
    {
     "name": "stdout",
     "output_type": "stream",
     "text": [
      "['Importance', 'Of', 'Regular', 'Expressions', 'In', 'Python']\n"
     ]
    }
   ],
   "source": [
    "#QUS 7 org\n",
    "import re\n",
    "\n",
    "sample_text = \"ImportanceOfRegularExpressionsInPython\"\n",
    "result = re.findall(r'[A-Z][a-z]*', sample_text)\n",
    "\n",
    "print(result)\n"
   ]
  },
  {
   "cell_type": "markdown",
   "id": "817cb8df",
   "metadata": {},
   "source": []
  },
  {
   "cell_type": "code",
   "execution_count": 117,
   "id": "6b82b92f",
   "metadata": {},
   "outputs": [
    {
     "name": "stdout",
     "output_type": "stream",
     "text": [
      "RegularExpression 1IsAn 2ImportantTopic 3InPython\n"
     ]
    }
   ],
   "source": [
    "#QUS 8\n",
    "\n",
    "def insert_spaces(text):\n",
    "    text = re.sub(r'([A-Za-z])([0-9])', r'\\1 \\2', text)\n",
    "    return text\n",
    "\n",
    "string = \"RegularExpression1IsAn2ImportantTopic3InPython\"\n",
    "string12 = insert_spaces(string)\n",
    "\n",
    "print(string12)"
   ]
  },
  {
   "cell_type": "code",
   "execution_count": 120,
   "id": "712dd223",
   "metadata": {},
   "outputs": [
    {
     "name": "stdout",
     "output_type": "stream",
     "text": [
      "Regular Expression 1Is An 2Important Topic 3In Python\n"
     ]
    }
   ],
   "source": [
    "#ANS 9\n",
    "\n",
    "def insert_spaces(text):\n",
    "    text = re.sub(r'([a-z])([0-9A-Z])', r'\\1 \\2', text)\n",
    "    return text\n",
    "\n",
    "string = \"RegularExpression1IsAn2ImportantTopic3InPython\"\n",
    "string12 = insert_spaces(string)\n",
    "\n",
    "print(string12)\n"
   ]
  },
  {
   "cell_type": "code",
   "execution_count": 121,
   "id": "b23b2561",
   "metadata": {},
   "outputs": [],
   "source": [
    "#Qus 10"
   ]
  },
  {
   "cell_type": "code",
   "execution_count": 123,
   "id": "dd5bec76",
   "metadata": {},
   "outputs": [
    {
     "name": "stdout",
     "output_type": "stream",
     "text": [
      "['a', 'g', 'd', 'k', '_', 'A', 'A', '_', '1', '2', '3', '_', 'a', 's', 'h']\n"
     ]
    }
   ],
   "source": [
    "#ANS 11\n",
    "\n",
    "string ='agdk_AA_123_ash'\n",
    "pattern = '[a-zA-Z0-9_]'                         \n",
    "                                                \n",
    "result = re.findall(pattern, string)\n",
    "print(result)"
   ]
  },
  {
   "cell_type": "code",
   "execution_count": 125,
   "id": "b47620ac",
   "metadata": {},
   "outputs": [
    {
     "name": "stdout",
     "output_type": "stream",
     "text": [
      "False\n",
      "False\n",
      "True\n"
     ]
    }
   ],
   "source": [
    "# ANS 12\n",
    "\n",
    "def abc(string):\n",
    "    text = re.compile(r\"^9\")\n",
    "    if text.match(string):\n",
    "        return True\n",
    "    else:\n",
    "        return False\n",
    "print(abc('456785557'))\n",
    "print(abc('45567 , 76789'))\n",
    "print(abc('945545465, 99866, 675476,999'))\n"
   ]
  },
  {
   "cell_type": "code",
   "execution_count": 129,
   "id": "e0f118fb",
   "metadata": {},
   "outputs": [
    {
     "name": "stdout",
     "output_type": "stream",
     "text": [
      "183.174.1.23\n"
     ]
    }
   ],
   "source": [
    "#ANS13\n",
    "\n",
    "def remove_zeros(number):\n",
    "    cleaned_number = re.sub(r'0+', '', number)\n",
    "    return cleaned_number\n",
    "\n",
    "\n",
    "ip = \"183.174.001.023\"\n",
    "\n",
    "remove = remove_zeros(ip)\n",
    "print(remove)\n",
    "\n"
   ]
  },
  {
   "cell_type": "code",
   "execution_count": 130,
   "id": "43068793",
   "metadata": {},
   "outputs": [],
   "source": [
    "# ANS 14"
   ]
  },
  {
   "cell_type": "code",
   "execution_count": 137,
   "id": "724f13ec",
   "metadata": {},
   "outputs": [
    {
     "name": "stdout",
     "output_type": "stream",
     "text": [
      "['fox', 'dog', 'horse']\n"
     ]
    }
   ],
   "source": [
    "# ANS 15\n",
    "pattern ='f[a-z]+|d[a-z]+|ho[a-z]+'       \n",
    "string = \"The quick brown fox jumps over the lazy dog horse.\"\n",
    "\n",
    "result = re.findall(pattern, string)\n",
    "\n",
    "print(result)"
   ]
  },
  {
   "cell_type": "code",
   "execution_count": 138,
   "id": "2fab7ed5",
   "metadata": {},
   "outputs": [
    {
     "name": "stdout",
     "output_type": "stream",
     "text": [
      "['fox', 'dog', 'horse']\n"
     ]
    }
   ],
   "source": [
    "#ANS 15\n",
    "string= [\"The quick brown fox jumps over the lazy dog horse.\"]\n",
    "\n",
    "for text in string:\n",
    "    search = re.findall('f[a-z]+|d[a-z]+|ho[a-z]+' , text)\n",
    "    print (search)"
   ]
  },
  {
   "cell_type": "code",
   "execution_count": 139,
   "id": "ab016507",
   "metadata": {},
   "outputs": [
    {
     "name": "stdout",
     "output_type": "stream",
     "text": [
      "<re.Match object; span=(16, 19), match='fox'>\n"
     ]
    }
   ],
   "source": [
    "#ANS 16\n",
    "string =\"The quick brown fox jumps over the lazy dog horse.\"\n",
    "pattern= '(f[a-z]+)'\n",
    "match = re.search(pattern, string)\n",
    "\n",
    "print(match)"
   ]
  },
  {
   "cell_type": "code",
   "execution_count": 140,
   "id": "6d60a3ae",
   "metadata": {},
   "outputs": [
    {
     "name": "stdout",
     "output_type": "stream",
     "text": [
      "<re.Match object; span=(16, 19), match='fox'>\n"
     ]
    }
   ],
   "source": [
    "#ANS 16\n",
    "string= [\"The quick brown fox jumps over the lazy dog horse.\"]\n",
    "\n",
    "for text in string:\n",
    "    search = re.search('f[a-z]+' , text)\n",
    "    print (search)"
   ]
  },
  {
   "cell_type": "code",
   "execution_count": 144,
   "id": "4a3bf726",
   "metadata": {},
   "outputs": [
    {
     "name": "stdout",
     "output_type": "stream",
     "text": [
      "['exercises', 'exercises', 'exercises']\n"
     ]
    }
   ],
   "source": [
    "#ANS 17\n",
    "string = ['Python exercises, PHP exercises, C# exercises']\n",
    "\n",
    "for text in string:\n",
    "    search = re.findall('exercises' , text)\n",
    "    print (search)"
   ]
  },
  {
   "cell_type": "code",
   "execution_count": 215,
   "id": "5982e4a3",
   "metadata": {},
   "outputs": [
    {
     "name": "stdout",
     "output_type": "stream",
     "text": [
      "(7, 16) exercises\n",
      "(22, 31) exercises\n",
      "(36, 45) exercises\n"
     ]
    }
   ],
   "source": [
    "# ANS 18\n",
    "string = 'Python exercises, PHP exercises, C# exercises'\n",
    "\n",
    "pattern = 'exercises'\n",
    "search =re.finditer(pattern,string)\n",
    "for s in search:\n",
    "    print(s.span(), pattern)"
   ]
  },
  {
   "cell_type": "code",
   "execution_count": 221,
   "id": "859be7b5",
   "metadata": {},
   "outputs": [
    {
     "name": "stdout",
     "output_type": "stream",
     "text": [
      "02-01-2026\n"
     ]
    }
   ],
   "source": [
    "# ANS 19\n",
    "def date(Date):\n",
    "        return re.sub(r'(\\d{4})-(\\d{1,2})-(\\d{1,2})', '\\\\3-\\\\2-\\\\1', Date)\n",
    "dt = \"2026-01-02\"\n",
    "\n",
    "print(date(dt))\n"
   ]
  },
  {
   "cell_type": "code",
   "execution_count": 223,
   "id": "1fc5f7b7",
   "metadata": {},
   "outputs": [
    {
     "name": "stdout",
     "output_type": "stream",
     "text": [
      "['.32', '.42', '.9']\n"
     ]
    }
   ],
   "source": [
    "# ANS 20\n",
    "sample_text = \"The wipers on the bus 12.32 go 14.42 swish swish swish 1.9\"\n",
    "\n",
    "\n",
    "pattern = re.compile(r'\\b\\d+(\\.\\d{1,2})?\\b')\n",
    "\n",
    "\n",
    "result = re.findall(pattern, sample_text)\n",
    "print(result)"
   ]
  },
  {
   "cell_type": "code",
   "execution_count": 229,
   "id": "c0c1e2bd",
   "metadata": {},
   "outputs": [
    {
     "name": "stdout",
     "output_type": "stream",
     "text": [
      "(22, 23)\n",
      "(23, 24)\n",
      "(25, 26)\n",
      "(26, 27)\n",
      "(31, 32)\n",
      "(32, 33)\n",
      "(34, 35)\n",
      "(35, 36)\n",
      "(55, 56)\n",
      "(57, 58)\n"
     ]
    }
   ],
   "source": [
    "#ANS21\n",
    "string = \"The wipers on the bus 12.32 go 14.42 swish swish swish 1.9\"\n",
    "\n",
    "\n",
    "pattern = r'\\d'\n",
    "search =re.finditer(pattern,string)\n",
    "for s in search:\n",
    "    print(s.span())"
   ]
  },
  {
   "cell_type": "code",
   "execution_count": 233,
   "id": "631f0f48",
   "metadata": {},
   "outputs": [
    {
     "name": "stdout",
     "output_type": "stream",
     "text": [
      "950\n"
     ]
    }
   ],
   "source": [
    "#ANS22\n",
    "\n",
    "def value(text):\n",
    "    numbers = re.findall(r'\\b\\d+\\b', text)\n",
    "    max_value = max(map(int, numbers))\n",
    "    return max_value\n",
    "\n",
    "sample_text = 'My marks in each semester are: 947, 896, 926, 524, 734, 950, 642'\n",
    "max_ = value(sample_text)\n",
    "\n",
    "print(max_)\n"
   ]
  },
  {
   "cell_type": "code",
   "execution_count": 236,
   "id": "815109c0",
   "metadata": {},
   "outputs": [
    {
     "name": "stdout",
     "output_type": "stream",
     "text": [
      "Regular Expression Is An Important Topic In Python\n"
     ]
    }
   ],
   "source": [
    "#ANS 23\n",
    "\n",
    "\n",
    "\n",
    "def spaces(text):\n",
    "    modified_text = re.sub(r'([a-z])([A-Z])', r'\\1 \\2', text)\n",
    "    return modified_text\n",
    "\n",
    "sample_text = \"RegularExpressionIsAnImportantTopicInPython\"\n",
    "modified_text = spaces(sample_text)\n",
    "\n",
    "\n",
    "print( modified_text)\n"
   ]
  },
  {
   "cell_type": "code",
   "execution_count": 225,
   "id": "ad28a621",
   "metadata": {},
   "outputs": [
    {
     "name": "stdout",
     "output_type": "stream",
     "text": [
      "['The', 'The', 'Round', 'Round']\n"
     ]
    }
   ],
   "source": [
    "# ANS 24\n",
    "\n",
    "text = \"The whils on The bus go Round and Round\"\n",
    "pattern = (r'[A-Z][a-z]+')\n",
    "\n",
    "UP_L = re.findall(pattern, text)\n",
    "\n",
    "print(UP_L)"
   ]
  },
  {
   "cell_type": "code",
   "execution_count": 177,
   "id": "ead6163c",
   "metadata": {},
   "outputs": [
    {
     "name": "stdout",
     "output_type": "stream",
     "text": [
      "Hello world\n"
     ]
    }
   ],
   "source": [
    "  # ANS 25                   \n",
    "string= \"Hello hello world world\" \n",
    "\n",
    "pattern =r'\\b(\\S+)\\s+\\1\\b'                      \n",
    "replace = r'\\1'                            \n",
    "\n",
    "new_string = re.sub(pattern, replace, string, flags=re.IGNORECASE) \n",
    "print(new_string)"
   ]
  },
  {
   "cell_type": "code",
   "execution_count": 184,
   "id": "176f2848",
   "metadata": {},
   "outputs": [
    {
     "name": "stdout",
     "output_type": "stream",
     "text": [
      "['I', 'was', 'born', 'on', 'June', 'RGGddf24']\n",
      "['June', 'is', 'the', 'month', 'of', 'leaves', 'and', 'Droses23']\n"
     ]
    }
   ],
   "source": [
    "\n",
    "# 26 NHI HUVA\n",
    "string= [\"I was born on June RGGddf24.\" ,\" June is the month of leaves and Droses23\"]\n",
    "\n",
    "for month in string:\n",
    "    search= re.findall(r'\\w+', month)\n",
    "    print (search)\n",
    "    "
   ]
  },
  {
   "cell_type": "code",
   "execution_count": null,
   "id": "63a3b706",
   "metadata": {
    "scrolled": true
   },
   "outputs": [],
   "source": []
  },
  {
   "cell_type": "code",
   "execution_count": 196,
   "id": "93f44e4c",
   "metadata": {},
   "outputs": [
    {
     "name": "stdout",
     "output_type": "stream",
     "text": [
      "['#Doltiwal', '#xyzabc', '#Demonetization']\n"
     ]
    }
   ],
   "source": [
    "# ANS 27\n",
    "\n",
    "sample_text = \"\"\"RT @kapil_kausik: #Doltiwal I mean #xyzabc is \"hurt\" by #Demonetization as the same has rendered USELESS <ed><U+00A0><U+00BD><ed><U+00B1><U+0089> \"acquired funds\" No wo\"\"\"\n",
    "\n",
    "pattern = (r'#\\w+')\n",
    "\n",
    "result = re.findall(pattern, sample_text)\n",
    "print(result)"
   ]
  },
  {
   "cell_type": "code",
   "execution_count": 202,
   "id": "b3bad84a",
   "metadata": {},
   "outputs": [
    {
     "name": "stdout",
     "output_type": "stream",
     "text": [
      "@Jags123456 Bharat band on 28??<ed><ed>Those who are protesting #demonetization are all different party leaders\n"
     ]
    }
   ],
   "source": [
    "#ANS 28\n",
    "\n",
    "string= \"@Jags123456 Bharat band on 28??<ed><U+00A0><U+00BD><ed><U+00B8><U+0082>Those who are protesting #demonetization are all different party leaders\"\n",
    "pattern =r'<U\\+[A-Za-z0-9]+>'                     \n",
    "\n",
    "replace = ''                       \n",
    "\n",
    "new_string = re.sub(pattern, replace, string) \n",
    "print(new_string)"
   ]
  },
  {
   "cell_type": "code",
   "execution_count": 203,
   "id": "7f58666a",
   "metadata": {},
   "outputs": [
    {
     "name": "stdout",
     "output_type": "stream",
     "text": [
      "Extracted dates: []\n"
     ]
    }
   ],
   "source": []
  },
  {
   "cell_type": "code",
   "execution_count": 204,
   "id": "0bed0019",
   "metadata": {},
   "outputs": [
    {
     "name": "stdout",
     "output_type": "stream",
     "text": [
      "['12-09-1992', '15-12-1999']\n"
     ]
    }
   ],
   "source": [
    "# ANS 29\n",
    "\n",
    "string = \"Ron was born on 12-09-1992 and he was admitted to school 15-12-1999\"\n",
    "pattern = (r'\\b\\d{2}-\\d{2}-\\d{4}\\b')\n",
    "result = re.findall(pattern, string)\n",
    "print(result)"
   ]
  },
  {
   "cell_type": "code",
   "execution_count": 207,
   "id": "f212d28b",
   "metadata": {},
   "outputs": [
    {
     "name": "stdout",
     "output_type": "stream",
     "text": [
      " following example creates  ArrayList  a capacity   elements. 4 elements   added   ArrayList   ArrayList  trimmed accordingly.\n"
     ]
    }
   ],
   "source": [
    "# ANS 30\n",
    "\n",
    "string = \"The following example creates an ArrayList with a capacity of 50 elements. 4 elements are then added to the ArrayList and the ArrayList is trimmed accordingly.\"\n",
    "pattern =re.compile(r'\\b\\w{2,4}\\b')                     \n",
    "\n",
    "replace = ''                       \n",
    "\n",
    "new_string = re.sub(pattern, replace, string) \n",
    "print(new_string)"
   ]
  },
  {
   "cell_type": "code",
   "execution_count": null,
   "id": "f5524dbd",
   "metadata": {},
   "outputs": [],
   "source": []
  },
  {
   "cell_type": "code",
   "execution_count": null,
   "id": "f5c5c789",
   "metadata": {},
   "outputs": [],
   "source": []
  }
 ],
 "metadata": {
  "kernelspec": {
   "display_name": "Python 3 (ipykernel)",
   "language": "python",
   "name": "python3"
  },
  "language_info": {
   "codemirror_mode": {
    "name": "ipython",
    "version": 3
   },
   "file_extension": ".py",
   "mimetype": "text/x-python",
   "name": "python",
   "nbconvert_exporter": "python",
   "pygments_lexer": "ipython3",
   "version": "3.9.13"
  }
 },
 "nbformat": 4,
 "nbformat_minor": 5
}
