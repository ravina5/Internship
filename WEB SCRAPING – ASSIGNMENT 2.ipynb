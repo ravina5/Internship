{
 "cells": [
  {
   "cell_type": "code",
   "execution_count": 1,
   "id": "bf403995",
   "metadata": {},
   "outputs": [
    {
     "name": "stdout",
     "output_type": "stream",
     "text": [
      "Collecting selenium\n",
      "  Downloading selenium-4.11.2-py3-none-any.whl (7.2 MB)\n",
      "     ---------------------------------------- 7.2/7.2 MB 744.6 kB/s eta 0:00:00\n",
      "Requirement already satisfied: certifi>=2021.10.8 in c:\\users\\dell\\anaconda3\\lib\\site-packages (from selenium) (2022.9.14)\n",
      "Requirement already satisfied: urllib3[socks]<3,>=1.26 in c:\\users\\dell\\anaconda3\\lib\\site-packages (from selenium) (1.26.11)\n",
      "Collecting trio~=0.17\n",
      "  Downloading trio-0.22.2-py3-none-any.whl (400 kB)\n",
      "     ------------------------------------- 400.2/400.2 kB 12.6 MB/s eta 0:00:00\n",
      "Collecting trio-websocket~=0.9\n",
      "  Downloading trio_websocket-0.10.3-py3-none-any.whl (17 kB)\n",
      "Requirement already satisfied: sniffio in c:\\users\\dell\\anaconda3\\lib\\site-packages (from trio~=0.17->selenium) (1.2.0)\n",
      "Requirement already satisfied: attrs>=20.1.0 in c:\\users\\dell\\anaconda3\\lib\\site-packages (from trio~=0.17->selenium) (21.4.0)\n",
      "Collecting outcome\n",
      "  Downloading outcome-1.2.0-py2.py3-none-any.whl (9.7 kB)\n",
      "Requirement already satisfied: sortedcontainers in c:\\users\\dell\\anaconda3\\lib\\site-packages (from trio~=0.17->selenium) (2.4.0)\n",
      "Requirement already satisfied: idna in c:\\users\\dell\\anaconda3\\lib\\site-packages (from trio~=0.17->selenium) (3.3)\n",
      "Requirement already satisfied: cffi>=1.14 in c:\\users\\dell\\anaconda3\\lib\\site-packages (from trio~=0.17->selenium) (1.15.1)\n",
      "Collecting exceptiongroup>=1.0.0rc9\n",
      "  Downloading exceptiongroup-1.1.3-py3-none-any.whl (14 kB)\n",
      "Collecting wsproto>=0.14\n",
      "  Downloading wsproto-1.2.0-py3-none-any.whl (24 kB)\n",
      "Requirement already satisfied: PySocks!=1.5.7,<2.0,>=1.5.6 in c:\\users\\dell\\anaconda3\\lib\\site-packages (from urllib3[socks]<3,>=1.26->selenium) (1.7.1)\n",
      "Requirement already satisfied: pycparser in c:\\users\\dell\\anaconda3\\lib\\site-packages (from cffi>=1.14->trio~=0.17->selenium) (2.21)\n",
      "Collecting h11<1,>=0.9.0\n",
      "  Downloading h11-0.14.0-py3-none-any.whl (58 kB)\n",
      "     -------------------------------------- 58.3/58.3 kB 279.2 kB/s eta 0:00:00\n",
      "Installing collected packages: outcome, h11, exceptiongroup, wsproto, trio, trio-websocket, selenium\n",
      "Successfully installed exceptiongroup-1.1.3 h11-0.14.0 outcome-1.2.0 selenium-4.11.2 trio-0.22.2 trio-websocket-0.10.3 wsproto-1.2.0\n"
     ]
    }
   ],
   "source": [
    "!pip install selenium"
   ]
  },
  {
   "cell_type": "code",
   "execution_count": 1,
   "id": "5353c30c",
   "metadata": {},
   "outputs": [],
   "source": [
    "import selenium \n",
    "from selenium import webdriver\n",
    "import pandas as pd \n",
    "from selenium.webdriver.common.by import By \n",
    "import warnings \n",
    "warnings.filterwarnings(\"ignore\")\n",
    "\n"
   ]
  },
  {
   "cell_type": "code",
   "execution_count": 2,
   "id": "eb0bd64c",
   "metadata": {},
   "outputs": [],
   "source": [
    "import time"
   ]
  },
  {
   "cell_type": "markdown",
   "id": "a9f942a7",
   "metadata": {},
   "source": [
    "# ANS.1"
   ]
  },
  {
   "cell_type": "code",
   "execution_count": 3,
   "id": "72dc82a4",
   "metadata": {},
   "outputs": [],
   "source": [
    "driver = webdriver.Chrome()"
   ]
  },
  {
   "cell_type": "code",
   "execution_count": 4,
   "id": "ff90dcdf",
   "metadata": {},
   "outputs": [],
   "source": [
    "driver.get(\"https://www.shine.com/new/job-search\")"
   ]
  },
  {
   "cell_type": "code",
   "execution_count": 5,
   "id": "2ed8fc8c",
   "metadata": {},
   "outputs": [],
   "source": [
    "# ENTER DATA ANALYST\n",
    "Job_title_Skills =driver.find_element(By.CLASS_NAME,\"form-control\")\n",
    "Job_title_Skills.send_keys('Data Analyst')"
   ]
  },
  {
   "cell_type": "code",
   "execution_count": 6,
   "id": "bd383fe7",
   "metadata": {},
   "outputs": [],
   "source": [
    "# ENTER BANGALORE CITY\n",
    "location=driver.find_element(By.XPATH,\"/html/body/div[1]/div[1]/div/div/div[1]/div[1]/div/div[2]/div/div/form/div/div[1]/ul/li[2]/div/input\")\n",
    "location.send_keys('Bangalore')"
   ]
  },
  {
   "cell_type": "code",
   "execution_count": 175,
   "id": "1f3381fb",
   "metadata": {},
   "outputs": [],
   "source": [
    "# SEARCH \n",
    "search=driver.find_element(By.XPATH,\"/html/body/div[1]/div[1]/div/div/div[1]/div[1]/div/div[2]/div/div/form/div/div[2]/div/button\")\n",
    "search.click()"
   ]
  },
  {
   "cell_type": "code",
   "execution_count": 177,
   "id": "41179cf5",
   "metadata": {},
   "outputs": [
    {
     "data": {
      "text/plain": [
       "['Project Coordinator (Data Analyst)',\n",
       " 'Data Analyst - Java/Python',\n",
       " 'Hiring For Data Analyst',\n",
       " 'Senior Data Analyst',\n",
       " 'Data Analyst',\n",
       " 'Data Analyst Urgent Recruiment',\n",
       " 'Apply Now a Data Analyst',\n",
       " 'Apply Now Data Analyst',\n",
       " 'Needed for Data Analyst',\n",
       " 'Urgently need a Data Analyst']"
      ]
     },
     "execution_count": 177,
     "metadata": {},
     "output_type": "execute_result"
    }
   ],
   "source": [
    "#JOBS NAME\n",
    "\n",
    "jobs = []\n",
    "\n",
    "\n",
    "\n",
    "job_tags = driver.find_elements(By.XPATH,'//h2[@itemprop=\"name\"]')\n",
    "for i in job_tags[0:10]:\n",
    "    jobs_data = i.text\n",
    "    jobs.append(jobs_data)\n",
    "    \n",
    "jobs  "
   ]
  },
  {
   "cell_type": "code",
   "execution_count": 178,
   "id": "ce932954",
   "metadata": {},
   "outputs": [
    {
     "data": {
      "text/plain": [
       "['Bangalore',\n",
       " 'Bangalore',\n",
       " 'Bangalore\\n+14',\n",
       " 'Bangalore',\n",
       " 'Bangalore\\n+9',\n",
       " 'Bangalore\\n+14',\n",
       " 'Bangalore',\n",
       " 'Bangalore',\n",
       " 'Bangalore',\n",
       " 'Bangalore']"
      ]
     },
     "execution_count": 178,
     "metadata": {},
     "output_type": "execute_result"
    }
   ],
   "source": [
    "# JOB LOCATIONS\n",
    "job_location = []\n",
    "\n",
    "\n",
    "\n",
    "job_tags = driver.find_elements(By.XPATH,'//div[@class=\" jobCard_jobCard_lists_item__YxRkV jobCard_locationIcon__zrWt2\"]')\n",
    "for i in job_tags[0:10]:\n",
    "    jobs_data = i.text\n",
    "    job_location.append(jobs_data)\n",
    "    \n",
    "job_location  "
   ]
  },
  {
   "cell_type": "code",
   "execution_count": 179,
   "id": "2e2fc779",
   "metadata": {},
   "outputs": [
    {
     "data": {
      "text/plain": [
       "['futures and careers',\n",
       " 'boyen haddin consulting and technol...',\n",
       " 'kavya staffing solutions',\n",
       " 'ara resources private limited',\n",
       " 'ashutosh sabhashankar chaturvedi hi...',\n",
       " 'divya interprises',\n",
       " 'deuglo infosystem private limited',\n",
       " 'deuglo infosystem private limited',\n",
       " 'deuglo infosystem private limited',\n",
       " 'deuglo infosystem private limited']"
      ]
     },
     "execution_count": 179,
     "metadata": {},
     "output_type": "execute_result"
    }
   ],
   "source": [
    "#company_name\n",
    "\n",
    "company_name = []\n",
    "\n",
    "\n",
    "\n",
    "job_tags = driver.find_elements(By.XPATH,'//div[@class=\"jobCard_jobCard_cName__mYnow\"]')\n",
    "for i in job_tags[0:10]:\n",
    "    jobs_data = i.text\n",
    "    company_name.append(jobs_data)\n",
    "    \n",
    "company_name  "
   ]
  },
  {
   "cell_type": "code",
   "execution_count": 180,
   "id": "804e2a96",
   "metadata": {},
   "outputs": [
    {
     "data": {
      "text/plain": [
       "['2 to 4 Yrs',\n",
       " '3 to 6 Yrs',\n",
       " '0 to 4 Yrs',\n",
       " '2 to 5 Yrs',\n",
       " '7 to 12 Yrs',\n",
       " '0 to 4 Yrs',\n",
       " '1 to 2 Yrs',\n",
       " '1 to 2 Yrs',\n",
       " '1 to 2 Yrs',\n",
       " '1 to 2 Yrs']"
      ]
     },
     "execution_count": 180,
     "metadata": {},
     "output_type": "execute_result"
    }
   ],
   "source": [
    "#experience\n",
    "\n",
    "experience_required = []\n",
    "\n",
    "\n",
    "\n",
    "job_tags = driver.find_elements(By.XPATH,'//div[@class=\" jobCard_jobCard_lists_item__YxRkV jobCard_jobIcon__3FB1t\"]')\n",
    "for i in job_tags[0:10]:\n",
    "    jobs_data = i.text\n",
    "    experience_required.append(jobs_data)\n",
    "    \n",
    "experience_required"
   ]
  },
  {
   "cell_type": "code",
   "execution_count": 181,
   "id": "289c58a8",
   "metadata": {},
   "outputs": [
    {
     "data": {
      "text/html": [
       "<div>\n",
       "<style scoped>\n",
       "    .dataframe tbody tr th:only-of-type {\n",
       "        vertical-align: middle;\n",
       "    }\n",
       "\n",
       "    .dataframe tbody tr th {\n",
       "        vertical-align: top;\n",
       "    }\n",
       "\n",
       "    .dataframe thead th {\n",
       "        text-align: right;\n",
       "    }\n",
       "</style>\n",
       "<table border=\"1\" class=\"dataframe\">\n",
       "  <thead>\n",
       "    <tr style=\"text-align: right;\">\n",
       "      <th></th>\n",
       "      <th>all_jobs</th>\n",
       "      <th>job_location</th>\n",
       "      <th>company_name</th>\n",
       "      <th>experience_required</th>\n",
       "    </tr>\n",
       "  </thead>\n",
       "  <tbody>\n",
       "    <tr>\n",
       "      <th>0</th>\n",
       "      <td>Project Coordinator (Data Analyst)</td>\n",
       "      <td>Bangalore</td>\n",
       "      <td>futures and careers</td>\n",
       "      <td>2 to 4 Yrs</td>\n",
       "    </tr>\n",
       "    <tr>\n",
       "      <th>1</th>\n",
       "      <td>Data Analyst - Java/Python</td>\n",
       "      <td>Bangalore</td>\n",
       "      <td>boyen haddin consulting and technol...</td>\n",
       "      <td>3 to 6 Yrs</td>\n",
       "    </tr>\n",
       "    <tr>\n",
       "      <th>2</th>\n",
       "      <td>Hiring For Data Analyst</td>\n",
       "      <td>Bangalore\\n+14</td>\n",
       "      <td>kavya staffing solutions</td>\n",
       "      <td>0 to 4 Yrs</td>\n",
       "    </tr>\n",
       "    <tr>\n",
       "      <th>3</th>\n",
       "      <td>Senior Data Analyst</td>\n",
       "      <td>Bangalore</td>\n",
       "      <td>ara resources private limited</td>\n",
       "      <td>2 to 5 Yrs</td>\n",
       "    </tr>\n",
       "    <tr>\n",
       "      <th>4</th>\n",
       "      <td>Data Analyst</td>\n",
       "      <td>Bangalore\\n+9</td>\n",
       "      <td>ashutosh sabhashankar chaturvedi hi...</td>\n",
       "      <td>7 to 12 Yrs</td>\n",
       "    </tr>\n",
       "    <tr>\n",
       "      <th>5</th>\n",
       "      <td>Data Analyst Urgent Recruiment</td>\n",
       "      <td>Bangalore\\n+14</td>\n",
       "      <td>divya interprises</td>\n",
       "      <td>0 to 4 Yrs</td>\n",
       "    </tr>\n",
       "    <tr>\n",
       "      <th>6</th>\n",
       "      <td>Apply Now a Data Analyst</td>\n",
       "      <td>Bangalore</td>\n",
       "      <td>deuglo infosystem private limited</td>\n",
       "      <td>1 to 2 Yrs</td>\n",
       "    </tr>\n",
       "    <tr>\n",
       "      <th>7</th>\n",
       "      <td>Apply Now Data Analyst</td>\n",
       "      <td>Bangalore</td>\n",
       "      <td>deuglo infosystem private limited</td>\n",
       "      <td>1 to 2 Yrs</td>\n",
       "    </tr>\n",
       "    <tr>\n",
       "      <th>8</th>\n",
       "      <td>Needed for Data Analyst</td>\n",
       "      <td>Bangalore</td>\n",
       "      <td>deuglo infosystem private limited</td>\n",
       "      <td>1 to 2 Yrs</td>\n",
       "    </tr>\n",
       "    <tr>\n",
       "      <th>9</th>\n",
       "      <td>Urgently need a Data Analyst</td>\n",
       "      <td>Bangalore</td>\n",
       "      <td>deuglo infosystem private limited</td>\n",
       "      <td>1 to 2 Yrs</td>\n",
       "    </tr>\n",
       "  </tbody>\n",
       "</table>\n",
       "</div>"
      ],
      "text/plain": [
       "                             all_jobs    job_location  \\\n",
       "0  Project Coordinator (Data Analyst)       Bangalore   \n",
       "1          Data Analyst - Java/Python       Bangalore   \n",
       "2             Hiring For Data Analyst  Bangalore\\n+14   \n",
       "3                 Senior Data Analyst       Bangalore   \n",
       "4                        Data Analyst   Bangalore\\n+9   \n",
       "5      Data Analyst Urgent Recruiment  Bangalore\\n+14   \n",
       "6            Apply Now a Data Analyst       Bangalore   \n",
       "7              Apply Now Data Analyst       Bangalore   \n",
       "8             Needed for Data Analyst       Bangalore   \n",
       "9        Urgently need a Data Analyst       Bangalore   \n",
       "\n",
       "                             company_name experience_required  \n",
       "0                     futures and careers          2 to 4 Yrs  \n",
       "1  boyen haddin consulting and technol...          3 to 6 Yrs  \n",
       "2                kavya staffing solutions          0 to 4 Yrs  \n",
       "3           ara resources private limited          2 to 5 Yrs  \n",
       "4  ashutosh sabhashankar chaturvedi hi...         7 to 12 Yrs  \n",
       "5                       divya interprises          0 to 4 Yrs  \n",
       "6       deuglo infosystem private limited          1 to 2 Yrs  \n",
       "7       deuglo infosystem private limited          1 to 2 Yrs  \n",
       "8       deuglo infosystem private limited          1 to 2 Yrs  \n",
       "9       deuglo infosystem private limited          1 to 2 Yrs  "
      ]
     },
     "execution_count": 181,
     "metadata": {},
     "output_type": "execute_result"
    }
   ],
   "source": [
    "# DATAFRAME\n",
    "df = pd.DataFrame({\"all_jobs\":jobs,\"job_location\":job_location,\"company_name\":company_name,'experience_required':experience_required})\n",
    "df"
   ]
  },
  {
   "cell_type": "code",
   "execution_count": null,
   "id": "259c47e4",
   "metadata": {},
   "outputs": [],
   "source": []
  },
  {
   "cell_type": "markdown",
   "id": "50cf1576",
   "metadata": {},
   "source": [
    "# ANS.2"
   ]
  },
  {
   "cell_type": "code",
   "execution_count": 182,
   "id": "d8eed477",
   "metadata": {},
   "outputs": [],
   "source": [
    "driver = webdriver.Chrome()"
   ]
  },
  {
   "cell_type": "code",
   "execution_count": 183,
   "id": "3d86bc72",
   "metadata": {},
   "outputs": [],
   "source": [
    "driver.get(\"https://www.shine.com/new/job-search\")"
   ]
  },
  {
   "cell_type": "code",
   "execution_count": 184,
   "id": "a9f43aa5",
   "metadata": {},
   "outputs": [],
   "source": [
    "Job_title_Skills =driver.find_element(By.CLASS_NAME,\"form-control\")\n",
    "Job_title_Skills.send_keys('Data Scientist')"
   ]
  },
  {
   "cell_type": "code",
   "execution_count": 185,
   "id": "b926f3d6",
   "metadata": {},
   "outputs": [],
   "source": [
    "location=driver.find_element(By.XPATH,\"/html/body/div[1]/div[1]/div/div/div[1]/div[1]/div/div[2]/div/div/form/div/div[1]/ul/li[2]/div/input\")\n",
    "location.send_keys('Bangalore')"
   ]
  },
  {
   "cell_type": "code",
   "execution_count": 186,
   "id": "8d5737d2",
   "metadata": {},
   "outputs": [],
   "source": [
    "search=driver.find_element(By.XPATH,\"/html/body/div[1]/div[1]/div/div/div[1]/div[1]/div/div[2]/div/div/form/div/div[2]/div/button\")\n",
    "search.click()"
   ]
  },
  {
   "cell_type": "code",
   "execution_count": 187,
   "id": "1eb76df4",
   "metadata": {},
   "outputs": [
    {
     "data": {
      "text/plain": [
       "['Hiring For Data Scientist',\n",
       " 'Hiring For Data Scientist',\n",
       " 'Data Scientist',\n",
       " 'Data Scientist Urgent Recruitment',\n",
       " 'Required for Data Scientist',\n",
       " 'Urgently need Data Scientist',\n",
       " 'Data scientist Bangalore',\n",
       " 'Data Scientist',\n",
       " 'Hiring For Data Scientist',\n",
       " 'Needed for the post Data Scientist']"
      ]
     },
     "execution_count": 187,
     "metadata": {},
     "output_type": "execute_result"
    }
   ],
   "source": [
    "jobs = []\n",
    "job_tags = driver.find_elements(By.XPATH,'//h2[@itemprop=\"name\"]')\n",
    "for i in job_tags[0:10]:\n",
    "    jobs_data = i.text\n",
    "    jobs.append(jobs_data)\n",
    "    \n",
    "jobs    "
   ]
  },
  {
   "cell_type": "code",
   "execution_count": 188,
   "id": "e07c6640",
   "metadata": {},
   "outputs": [
    {
     "data": {
      "text/plain": [
       "['Bangalore\\n+17',\n",
       " 'Bangalore\\n+17',\n",
       " 'Bangalore',\n",
       " 'Bangalore\\n+14',\n",
       " 'Bangalore',\n",
       " 'Bangalore\\n+8',\n",
       " 'Bangalore',\n",
       " 'Bangalore',\n",
       " 'Bangalore\\n+15',\n",
       " 'Bangalore\\n+8']"
      ]
     },
     "execution_count": 188,
     "metadata": {},
     "output_type": "execute_result"
    }
   ],
   "source": [
    "job_location = []\n",
    "\n",
    "\n",
    "\n",
    "job_tags = driver.find_elements(By.XPATH,'//div[@class=\" jobCard_jobCard_lists_item__YxRkV jobCard_locationIcon__zrWt2\"]')\n",
    "for i in job_tags[0:10]:\n",
    "    jobs_data = i.text\n",
    "    job_location.append(jobs_data)\n",
    "    \n",
    "job_location "
   ]
  },
  {
   "cell_type": "code",
   "execution_count": 189,
   "id": "c4b20bb9",
   "metadata": {},
   "outputs": [
    {
     "data": {
      "text/plain": [
       "['kavya staffing solutions',\n",
       " 'kavya staffing solutions',\n",
       " 'skyleaf consultants',\n",
       " 'divya interprises',\n",
       " 'deuglo infosystem private limited',\n",
       " 'deuglo infosystem private limited',\n",
       " 'seven geomax consulting private lim...',\n",
       " 'employberry consultants hiring for ...',\n",
       " 'niharika enterprises',\n",
       " 'deuglo infosystem private limited']"
      ]
     },
     "execution_count": 189,
     "metadata": {},
     "output_type": "execute_result"
    }
   ],
   "source": [
    "company_name = []\n",
    "\n",
    "\n",
    "\n",
    "job_tags = driver.find_elements(By.XPATH,'//div[@class=\"jobCard_jobCard_cName__mYnow\"]')\n",
    "for i in job_tags[0:10]:\n",
    "    jobs_data = i.text\n",
    "    company_name.append(jobs_data)\n",
    "    \n",
    "company_name  "
   ]
  },
  {
   "cell_type": "code",
   "execution_count": 190,
   "id": "801c655c",
   "metadata": {},
   "outputs": [
    {
     "data": {
      "text/plain": [
       "['0 to 4 Yrs',\n",
       " '0 to 4 Yrs',\n",
       " '5 to 10 Yrs',\n",
       " '0 to 4 Yrs',\n",
       " '4 to 6 Yrs',\n",
       " '4 to 6 Yrs',\n",
       " '6 to 9 Yrs',\n",
       " '3 to 6 Yrs',\n",
       " '0 to 4 Yrs',\n",
       " '4 to 6 Yrs']"
      ]
     },
     "execution_count": 190,
     "metadata": {},
     "output_type": "execute_result"
    }
   ],
   "source": [
    "experience_required = []\n",
    "\n",
    "\n",
    "\n",
    "job_tags = driver.find_elements(By.XPATH,'//div[@class=\" jobCard_jobCard_lists_item__YxRkV jobCard_jobIcon__3FB1t\"]')\n",
    "for i in job_tags[0:10]:\n",
    "    jobs_data = i.text\n",
    "    experience_required.append(jobs_data)\n",
    "    \n",
    "experience_required"
   ]
  },
  {
   "cell_type": "code",
   "execution_count": 191,
   "id": "53f21ec4",
   "metadata": {},
   "outputs": [
    {
     "data": {
      "text/html": [
       "<div>\n",
       "<style scoped>\n",
       "    .dataframe tbody tr th:only-of-type {\n",
       "        vertical-align: middle;\n",
       "    }\n",
       "\n",
       "    .dataframe tbody tr th {\n",
       "        vertical-align: top;\n",
       "    }\n",
       "\n",
       "    .dataframe thead th {\n",
       "        text-align: right;\n",
       "    }\n",
       "</style>\n",
       "<table border=\"1\" class=\"dataframe\">\n",
       "  <thead>\n",
       "    <tr style=\"text-align: right;\">\n",
       "      <th></th>\n",
       "      <th>all_jobs</th>\n",
       "      <th>job_location</th>\n",
       "      <th>company_name</th>\n",
       "      <th>experience_required</th>\n",
       "    </tr>\n",
       "  </thead>\n",
       "  <tbody>\n",
       "    <tr>\n",
       "      <th>0</th>\n",
       "      <td>Hiring For Data Scientist</td>\n",
       "      <td>Bangalore\\n+17</td>\n",
       "      <td>kavya staffing solutions</td>\n",
       "      <td>0 to 4 Yrs</td>\n",
       "    </tr>\n",
       "    <tr>\n",
       "      <th>1</th>\n",
       "      <td>Hiring For Data Scientist</td>\n",
       "      <td>Bangalore\\n+17</td>\n",
       "      <td>kavya staffing solutions</td>\n",
       "      <td>0 to 4 Yrs</td>\n",
       "    </tr>\n",
       "    <tr>\n",
       "      <th>2</th>\n",
       "      <td>Data Scientist</td>\n",
       "      <td>Bangalore</td>\n",
       "      <td>skyleaf consultants</td>\n",
       "      <td>5 to 10 Yrs</td>\n",
       "    </tr>\n",
       "    <tr>\n",
       "      <th>3</th>\n",
       "      <td>Data Scientist Urgent Recruitment</td>\n",
       "      <td>Bangalore\\n+14</td>\n",
       "      <td>divya interprises</td>\n",
       "      <td>0 to 4 Yrs</td>\n",
       "    </tr>\n",
       "    <tr>\n",
       "      <th>4</th>\n",
       "      <td>Required for Data Scientist</td>\n",
       "      <td>Bangalore</td>\n",
       "      <td>deuglo infosystem private limited</td>\n",
       "      <td>4 to 6 Yrs</td>\n",
       "    </tr>\n",
       "    <tr>\n",
       "      <th>5</th>\n",
       "      <td>Urgently need Data Scientist</td>\n",
       "      <td>Bangalore\\n+8</td>\n",
       "      <td>deuglo infosystem private limited</td>\n",
       "      <td>4 to 6 Yrs</td>\n",
       "    </tr>\n",
       "    <tr>\n",
       "      <th>6</th>\n",
       "      <td>Data scientist Bangalore</td>\n",
       "      <td>Bangalore</td>\n",
       "      <td>seven geomax consulting private lim...</td>\n",
       "      <td>6 to 9 Yrs</td>\n",
       "    </tr>\n",
       "    <tr>\n",
       "      <th>7</th>\n",
       "      <td>Data Scientist</td>\n",
       "      <td>Bangalore</td>\n",
       "      <td>employberry consultants hiring for ...</td>\n",
       "      <td>3 to 6 Yrs</td>\n",
       "    </tr>\n",
       "    <tr>\n",
       "      <th>8</th>\n",
       "      <td>Hiring For Data Scientist</td>\n",
       "      <td>Bangalore\\n+15</td>\n",
       "      <td>niharika enterprises</td>\n",
       "      <td>0 to 4 Yrs</td>\n",
       "    </tr>\n",
       "    <tr>\n",
       "      <th>9</th>\n",
       "      <td>Needed for the post Data Scientist</td>\n",
       "      <td>Bangalore\\n+8</td>\n",
       "      <td>deuglo infosystem private limited</td>\n",
       "      <td>4 to 6 Yrs</td>\n",
       "    </tr>\n",
       "  </tbody>\n",
       "</table>\n",
       "</div>"
      ],
      "text/plain": [
       "                             all_jobs    job_location  \\\n",
       "0           Hiring For Data Scientist  Bangalore\\n+17   \n",
       "1           Hiring For Data Scientist  Bangalore\\n+17   \n",
       "2                      Data Scientist       Bangalore   \n",
       "3   Data Scientist Urgent Recruitment  Bangalore\\n+14   \n",
       "4         Required for Data Scientist       Bangalore   \n",
       "5        Urgently need Data Scientist   Bangalore\\n+8   \n",
       "6            Data scientist Bangalore       Bangalore   \n",
       "7                      Data Scientist       Bangalore   \n",
       "8           Hiring For Data Scientist  Bangalore\\n+15   \n",
       "9  Needed for the post Data Scientist   Bangalore\\n+8   \n",
       "\n",
       "                             company_name experience_required  \n",
       "0                kavya staffing solutions          0 to 4 Yrs  \n",
       "1                kavya staffing solutions          0 to 4 Yrs  \n",
       "2                     skyleaf consultants         5 to 10 Yrs  \n",
       "3                       divya interprises          0 to 4 Yrs  \n",
       "4       deuglo infosystem private limited          4 to 6 Yrs  \n",
       "5       deuglo infosystem private limited          4 to 6 Yrs  \n",
       "6  seven geomax consulting private lim...          6 to 9 Yrs  \n",
       "7  employberry consultants hiring for ...          3 to 6 Yrs  \n",
       "8                    niharika enterprises          0 to 4 Yrs  \n",
       "9       deuglo infosystem private limited          4 to 6 Yrs  "
      ]
     },
     "execution_count": 191,
     "metadata": {},
     "output_type": "execute_result"
    }
   ],
   "source": [
    "df = pd.DataFrame({\"all_jobs\":jobs,\"job_location\":job_location,\"company_name\":company_name,'experience_required':experience_required})\n",
    "df"
   ]
  },
  {
   "cell_type": "markdown",
   "id": "2238e31c",
   "metadata": {},
   "source": [
    "# ANS.3"
   ]
  },
  {
   "cell_type": "code",
   "execution_count": 192,
   "id": "a89728e3",
   "metadata": {},
   "outputs": [],
   "source": [
    "driver = webdriver.Chrome()"
   ]
  },
  {
   "cell_type": "code",
   "execution_count": 193,
   "id": "36706842",
   "metadata": {},
   "outputs": [],
   "source": [
    "driver.get(\"https://www.shine.com/new/job-search\")"
   ]
  },
  {
   "cell_type": "code",
   "execution_count": 197,
   "id": "12d683bf",
   "metadata": {},
   "outputs": [],
   "source": [
    "Job_title_Skills =driver.find_element(By.CLASS_NAME,\"form-control\")\n",
    "Job_title_Skills.send_keys('Data Scientist')"
   ]
  },
  {
   "cell_type": "code",
   "execution_count": 198,
   "id": "07ec355f",
   "metadata": {},
   "outputs": [],
   "source": [
    "location=driver.find_element(By.XPATH,\"/html/body/div[1]/div[1]/div/div/div[1]/div[1]/div/div[2]/div/div/form/div/div[1]/ul/li[2]/div/input\")\n",
    "location.send_keys('Delhi/NCR')"
   ]
  },
  {
   "cell_type": "code",
   "execution_count": 200,
   "id": "c4cd4bdb",
   "metadata": {},
   "outputs": [],
   "source": [
    "search=driver.find_element(By.XPATH,\"/html/body/div[1]/div[1]/div/div/div[1]/div[1]/div/div[2]/div/div/form/div/div[2]/div/button\")\n",
    "search.click()"
   ]
  },
  {
   "cell_type": "code",
   "execution_count": 204,
   "id": "87837bf9",
   "metadata": {},
   "outputs": [],
   "source": [
    "\n",
    "#click on salary tab\n",
    "\n",
    "salary_filter = driver.find_element(By.XPATH, \"/html/body/div[1]/div[1]/div[4]/div/div[1]/div/div[2]/div/ul/li[3]/button\")\n",
    "ActionChains(driver).move_to_element(salary_filter).click().perform()\n"
   ]
  },
  {
   "cell_type": "code",
   "execution_count": 205,
   "id": "5358e0cb",
   "metadata": {},
   "outputs": [],
   "source": [
    "# WRITE SALARY\n",
    "\n",
    "salary =driver.find_element(By.CLASS_NAME,\"form-control\")\n",
    "salary.send_keys('3-6 lakhs')"
   ]
  },
  {
   "cell_type": "code",
   "execution_count": 206,
   "id": "4b6fc435",
   "metadata": {},
   "outputs": [],
   "source": [
    "# Click for result \n",
    "Result=driver.find_element(By.XPATH,\"/html/body/div[1]/div[1]/div[4]/div/div[1]/div/div[2]/div[2]/div/div/div/div[4]/button[2]\")\n",
    "Result.click()"
   ]
  },
  {
   "cell_type": "code",
   "execution_count": 207,
   "id": "0bfeb565",
   "metadata": {},
   "outputs": [
    {
     "data": {
      "text/plain": [
       "['Data Scientist Recruitment',\n",
       " 'Hiring For Data Scientist',\n",
       " 'Hiring For Data Scientist',\n",
       " 'Hiring for Data Scientist - mumbai',\n",
       " 'Hiring For Data Scientist',\n",
       " 'Data Scientist',\n",
       " 'Data Scientist - Business Intelligence',\n",
       " 'Data Scientist',\n",
       " 'Data Scientist Management Consulting - Mumbai',\n",
       " 'Data Scientist - Spark/Python/Redshift']"
      ]
     },
     "execution_count": 207,
     "metadata": {},
     "output_type": "execute_result"
    }
   ],
   "source": [
    "jobs = []\n",
    "job_tags = driver.find_elements(By.XPATH,'//h2[@itemprop=\"name\"]')\n",
    "for i in job_tags[0:10]:\n",
    "    jobs_data = i.text\n",
    "    jobs.append(jobs_data)\n",
    "    \n",
    "jobs    "
   ]
  },
  {
   "cell_type": "code",
   "execution_count": 208,
   "id": "4f0737c4",
   "metadata": {},
   "outputs": [
    {
     "data": {
      "text/plain": [
       "['Canada\\n+17',\n",
       " 'Canada\\n+17',\n",
       " 'Canada\\n+17',\n",
       " 'Mumbai City',\n",
       " 'Canada\\n+17',\n",
       " 'Mumbai City',\n",
       " 'Pune',\n",
       " 'Bangalore',\n",
       " 'Mumbai City',\n",
       " 'Mumbai City\\n+4']"
      ]
     },
     "execution_count": 208,
     "metadata": {},
     "output_type": "execute_result"
    }
   ],
   "source": [
    "job_location = []\n",
    "\n",
    "\n",
    "\n",
    "job_tags = driver.find_elements(By.XPATH,'//div[@class=\" jobCard_jobCard_lists_item__YxRkV jobCard_locationIcon__zrWt2\"]')\n",
    "for i in job_tags[0:10]:\n",
    "    jobs_data = i.text\n",
    "    job_location.append(jobs_data)\n",
    "    \n",
    "job_location "
   ]
  },
  {
   "cell_type": "code",
   "execution_count": 209,
   "id": "7c9f2896",
   "metadata": {},
   "outputs": [
    {
     "data": {
      "text/plain": [
       "['kavya staffing solutions',\n",
       " 'kavya staffing solutions',\n",
       " 'kavya staffing solutions',\n",
       " 'topgear consultants private limited',\n",
       " 'kavya staffing solutions',\n",
       " 'topgear consultants private limited',\n",
       " 'boyen haddin consulting and technol...',\n",
       " 'skyleaf consultants',\n",
       " 'morpheus human consulting pvt ltd',\n",
       " 'boyen haddin consulting and technol...']"
      ]
     },
     "execution_count": 209,
     "metadata": {},
     "output_type": "execute_result"
    }
   ],
   "source": [
    "company_name = []\n",
    "\n",
    "\n",
    "\n",
    "job_tags = driver.find_elements(By.XPATH,'//div[@class=\"jobCard_jobCard_cName__mYnow\"]')\n",
    "for i in job_tags[0:10]:\n",
    "    jobs_data = i.text\n",
    "    company_name.append(jobs_data)\n",
    "    \n",
    "company_name  "
   ]
  },
  {
   "cell_type": "code",
   "execution_count": 210,
   "id": "32f840b8",
   "metadata": {},
   "outputs": [
    {
     "data": {
      "text/plain": [
       "['0 to 4 Yrs',\n",
       " '0 to 4 Yrs',\n",
       " '0 to 4 Yrs',\n",
       " '3 to 8 Yrs',\n",
       " '0 to 4 Yrs',\n",
       " '3 to 8 Yrs',\n",
       " '3 to 6 Yrs',\n",
       " '5 to 10 Yrs',\n",
       " '2 to 4 Yrs',\n",
       " '5 to 9 Yrs']"
      ]
     },
     "execution_count": 210,
     "metadata": {},
     "output_type": "execute_result"
    }
   ],
   "source": [
    "experience_required = []\n",
    "\n",
    "\n",
    "\n",
    "job_tags = driver.find_elements(By.XPATH,'//div[@class=\" jobCard_jobCard_lists_item__YxRkV jobCard_jobIcon__3FB1t\"]')\n",
    "for i in job_tags[0:10]:\n",
    "    jobs_data = i.text\n",
    "    experience_required.append(jobs_data)\n",
    "    \n",
    "experience_required"
   ]
  },
  {
   "cell_type": "code",
   "execution_count": 211,
   "id": "c124eee7",
   "metadata": {},
   "outputs": [
    {
     "data": {
      "text/html": [
       "<div>\n",
       "<style scoped>\n",
       "    .dataframe tbody tr th:only-of-type {\n",
       "        vertical-align: middle;\n",
       "    }\n",
       "\n",
       "    .dataframe tbody tr th {\n",
       "        vertical-align: top;\n",
       "    }\n",
       "\n",
       "    .dataframe thead th {\n",
       "        text-align: right;\n",
       "    }\n",
       "</style>\n",
       "<table border=\"1\" class=\"dataframe\">\n",
       "  <thead>\n",
       "    <tr style=\"text-align: right;\">\n",
       "      <th></th>\n",
       "      <th>all_jobs</th>\n",
       "      <th>job_location</th>\n",
       "      <th>company_name</th>\n",
       "      <th>experience_required</th>\n",
       "    </tr>\n",
       "  </thead>\n",
       "  <tbody>\n",
       "    <tr>\n",
       "      <th>0</th>\n",
       "      <td>Data Scientist Recruitment</td>\n",
       "      <td>Canada\\n+17</td>\n",
       "      <td>kavya staffing solutions</td>\n",
       "      <td>0 to 4 Yrs</td>\n",
       "    </tr>\n",
       "    <tr>\n",
       "      <th>1</th>\n",
       "      <td>Hiring For Data Scientist</td>\n",
       "      <td>Canada\\n+17</td>\n",
       "      <td>kavya staffing solutions</td>\n",
       "      <td>0 to 4 Yrs</td>\n",
       "    </tr>\n",
       "    <tr>\n",
       "      <th>2</th>\n",
       "      <td>Hiring For Data Scientist</td>\n",
       "      <td>Canada\\n+17</td>\n",
       "      <td>kavya staffing solutions</td>\n",
       "      <td>0 to 4 Yrs</td>\n",
       "    </tr>\n",
       "    <tr>\n",
       "      <th>3</th>\n",
       "      <td>Hiring for Data Scientist - mumbai</td>\n",
       "      <td>Mumbai City</td>\n",
       "      <td>topgear consultants private limited</td>\n",
       "      <td>3 to 8 Yrs</td>\n",
       "    </tr>\n",
       "    <tr>\n",
       "      <th>4</th>\n",
       "      <td>Hiring For Data Scientist</td>\n",
       "      <td>Canada\\n+17</td>\n",
       "      <td>kavya staffing solutions</td>\n",
       "      <td>0 to 4 Yrs</td>\n",
       "    </tr>\n",
       "    <tr>\n",
       "      <th>5</th>\n",
       "      <td>Data Scientist</td>\n",
       "      <td>Mumbai City</td>\n",
       "      <td>topgear consultants private limited</td>\n",
       "      <td>3 to 8 Yrs</td>\n",
       "    </tr>\n",
       "    <tr>\n",
       "      <th>6</th>\n",
       "      <td>Data Scientist - Business Intelligence</td>\n",
       "      <td>Pune</td>\n",
       "      <td>boyen haddin consulting and technol...</td>\n",
       "      <td>3 to 6 Yrs</td>\n",
       "    </tr>\n",
       "    <tr>\n",
       "      <th>7</th>\n",
       "      <td>Data Scientist</td>\n",
       "      <td>Bangalore</td>\n",
       "      <td>skyleaf consultants</td>\n",
       "      <td>5 to 10 Yrs</td>\n",
       "    </tr>\n",
       "    <tr>\n",
       "      <th>8</th>\n",
       "      <td>Data Scientist Management Consulting - Mumbai</td>\n",
       "      <td>Mumbai City</td>\n",
       "      <td>morpheus human consulting pvt ltd</td>\n",
       "      <td>2 to 4 Yrs</td>\n",
       "    </tr>\n",
       "    <tr>\n",
       "      <th>9</th>\n",
       "      <td>Data Scientist - Spark/Python/Redshift</td>\n",
       "      <td>Mumbai City\\n+4</td>\n",
       "      <td>boyen haddin consulting and technol...</td>\n",
       "      <td>5 to 9 Yrs</td>\n",
       "    </tr>\n",
       "  </tbody>\n",
       "</table>\n",
       "</div>"
      ],
      "text/plain": [
       "                                        all_jobs     job_location  \\\n",
       "0                     Data Scientist Recruitment      Canada\\n+17   \n",
       "1                      Hiring For Data Scientist      Canada\\n+17   \n",
       "2                      Hiring For Data Scientist      Canada\\n+17   \n",
       "3             Hiring for Data Scientist - mumbai      Mumbai City   \n",
       "4                      Hiring For Data Scientist      Canada\\n+17   \n",
       "5                                 Data Scientist      Mumbai City   \n",
       "6         Data Scientist - Business Intelligence             Pune   \n",
       "7                                 Data Scientist        Bangalore   \n",
       "8  Data Scientist Management Consulting - Mumbai      Mumbai City   \n",
       "9         Data Scientist - Spark/Python/Redshift  Mumbai City\\n+4   \n",
       "\n",
       "                             company_name experience_required  \n",
       "0                kavya staffing solutions          0 to 4 Yrs  \n",
       "1                kavya staffing solutions          0 to 4 Yrs  \n",
       "2                kavya staffing solutions          0 to 4 Yrs  \n",
       "3     topgear consultants private limited          3 to 8 Yrs  \n",
       "4                kavya staffing solutions          0 to 4 Yrs  \n",
       "5     topgear consultants private limited          3 to 8 Yrs  \n",
       "6  boyen haddin consulting and technol...          3 to 6 Yrs  \n",
       "7                     skyleaf consultants         5 to 10 Yrs  \n",
       "8       morpheus human consulting pvt ltd          2 to 4 Yrs  \n",
       "9  boyen haddin consulting and technol...          5 to 9 Yrs  "
      ]
     },
     "execution_count": 211,
     "metadata": {},
     "output_type": "execute_result"
    }
   ],
   "source": [
    "df = pd.DataFrame({\"all_jobs\":jobs,\"job_location\":job_location,\"company_name\":company_name,'experience_required':experience_required})\n",
    "df"
   ]
  },
  {
   "cell_type": "code",
   "execution_count": null,
   "id": "642f4a5f",
   "metadata": {},
   "outputs": [],
   "source": []
  },
  {
   "cell_type": "markdown",
   "id": "9c348b5c",
   "metadata": {},
   "source": [
    "# ANS.4"
   ]
  },
  {
   "cell_type": "code",
   "execution_count": 212,
   "id": "726b5a4e",
   "metadata": {},
   "outputs": [],
   "source": [
    "driver = webdriver.Chrome()"
   ]
  },
  {
   "cell_type": "code",
   "execution_count": 213,
   "id": "efabc0c3",
   "metadata": {},
   "outputs": [],
   "source": [
    "driver.get(\"https://www.flipkart.com/\")"
   ]
  },
  {
   "cell_type": "code",
   "execution_count": 51,
   "id": "97fa2d62",
   "metadata": {},
   "outputs": [],
   "source": [
    "search_input = driver.find_element(By.CLASS_NAME,\"Pke_EE\")\n",
    "search_input.send_keys(\"sunglasses\")\n"
   ]
  },
  {
   "cell_type": "code",
   "execution_count": 53,
   "id": "4e53f2ab",
   "metadata": {},
   "outputs": [],
   "source": [
    "# Find and click the search icon\n",
    "search_icon = driver.find_element(By.CLASS_NAME, \"_2iLD__\")\n",
    "search_icon.click()"
   ]
  },
  {
   "cell_type": "code",
   "execution_count": 74,
   "id": "f6875ffe",
   "metadata": {},
   "outputs": [],
   "source": [
    "brand =[]\n",
    "start =0\n",
    "end =2\n",
    "for page in range(start,end):\n",
    "    abc=driver.find_elements(By.XPATH,'//a[@class=\"IRpwTa\"]')\n",
    "    for i in abc:\n",
    "        brand.append(i.text)\n",
    "        \n",
    "    next_button =  driver.find_element(By.XPATH,'//a[@class=\"_1LKTO3\"]')\n",
    "    next_button.click()\n",
    "    time.sleep(3)\n",
    "    "
   ]
  },
  {
   "cell_type": "code",
   "execution_count": 78,
   "id": "d79cc059",
   "metadata": {},
   "outputs": [
    {
     "data": {
      "text/plain": [
       "74"
      ]
     },
     "execution_count": 78,
     "metadata": {},
     "output_type": "execute_result"
    }
   ],
   "source": [
    "len(brand)"
   ]
  },
  {
   "cell_type": "code",
   "execution_count": 72,
   "id": "00fde482",
   "metadata": {},
   "outputs": [],
   "source": [
    "discount_price =[]\n",
    "start =0\n",
    "end =2\n",
    "for page in range(start,end):\n",
    "    abc=driver.find_elements(By.XPATH,'//div[@class=\"_30jeq3\"]')\n",
    "    for i in abc:\n",
    "        discount_price.append(i.text)\n",
    "        \n",
    "    next_button =  driver.find_element(By.XPATH,'//a[@class=\"_1LKTO3\"]')\n",
    "    next_button.click()\n",
    "    time.sleep(3)\n",
    "    "
   ]
  },
  {
   "cell_type": "code",
   "execution_count": 77,
   "id": "42f2d0a4",
   "metadata": {},
   "outputs": [
    {
     "data": {
      "text/plain": [
       "80"
      ]
     },
     "execution_count": 77,
     "metadata": {},
     "output_type": "execute_result"
    }
   ],
   "source": [
    "len(discount_price)"
   ]
  },
  {
   "cell_type": "code",
   "execution_count": 75,
   "id": "34fffebf",
   "metadata": {},
   "outputs": [],
   "source": [
    "discount =[]\n",
    "start =0\n",
    "end =2\n",
    "for page in range(start,end):\n",
    "    abc=driver.find_elements(By.XPATH,'//div[@class=\"_3Ay6Sb\"]')\n",
    "    for i in abc:\n",
    "        discount.append(i.text)\n",
    "        \n",
    "    next_button =  driver.find_element(By.XPATH,'//a[@class=\"_1LKTO3\"]')\n",
    "    next_button.click()\n",
    "    time.sleep(3)"
   ]
  },
  {
   "cell_type": "code",
   "execution_count": 76,
   "id": "2c60a993",
   "metadata": {},
   "outputs": [
    {
     "data": {
      "text/plain": [
       "77"
      ]
     },
     "execution_count": 76,
     "metadata": {},
     "output_type": "execute_result"
    }
   ],
   "source": [
    "len(discount)"
   ]
  },
  {
   "cell_type": "code",
   "execution_count": 79,
   "id": "811e5dc1",
   "metadata": {},
   "outputs": [],
   "source": [
    "#df = pd.DataFrame({'Brand':brand,'Discount_price':discount_price,'Discount':discount})\n",
    "#df"
   ]
  },
  {
   "cell_type": "code",
   "execution_count": null,
   "id": "29620a83",
   "metadata": {},
   "outputs": [],
   "source": []
  },
  {
   "cell_type": "markdown",
   "id": "2f0a22b2",
   "metadata": {},
   "source": [
    "# ANS.5"
   ]
  },
  {
   "cell_type": "code",
   "execution_count": 80,
   "id": "0a05a95f",
   "metadata": {},
   "outputs": [],
   "source": [
    "driver = webdriver.Chrome()"
   ]
  },
  {
   "cell_type": "code",
   "execution_count": 81,
   "id": "91c4eaed",
   "metadata": {},
   "outputs": [],
   "source": [
    "driver.get('https://www.flipkart.com/apple-iphone-11-black-64-gb/product- reviews/itm4e5041ba101fd?pid=MOBFWQ6BXGJCEYNY&lid=LSTMOBFWQ6BXGJCEYNYZXSHRJ&market place=FLIPKART')"
   ]
  },
  {
   "cell_type": "markdown",
   "id": "ca1da109",
   "metadata": {},
   "source": [
    "***Unfortunately the page you are looking for has been moved or deleted***"
   ]
  },
  {
   "cell_type": "markdown",
   "id": "bb6a393d",
   "metadata": {},
   "source": [
    "***This page has been deleted***"
   ]
  },
  {
   "cell_type": "code",
   "execution_count": null,
   "id": "babfb339",
   "metadata": {},
   "outputs": [],
   "source": []
  },
  {
   "cell_type": "markdown",
   "id": "2f3aec78",
   "metadata": {},
   "source": [
    "# ANS.6"
   ]
  },
  {
   "cell_type": "code",
   "execution_count": 7,
   "id": "fcc67ab3",
   "metadata": {},
   "outputs": [],
   "source": [
    "driver = webdriver.Chrome()"
   ]
  },
  {
   "cell_type": "code",
   "execution_count": 8,
   "id": "c64da94d",
   "metadata": {},
   "outputs": [],
   "source": [
    "driver.get(\"https://www.flipkart.com/\")"
   ]
  },
  {
   "cell_type": "code",
   "execution_count": 11,
   "id": "3ca43e0f",
   "metadata": {},
   "outputs": [],
   "source": [
    "search_input = driver.find_element(By.CLASS_NAME,\"_3704LK\")\n",
    "search_input.send_keys(\"sneakers\")"
   ]
  },
  {
   "cell_type": "code",
   "execution_count": 13,
   "id": "55e24a98",
   "metadata": {},
   "outputs": [],
   "source": [
    "# Find and click the search icon\n",
    "search_icon = driver.find_element(By.CLASS_NAME, \"L0Z3Pu\")\n",
    "search_icon.click()"
   ]
  },
  {
   "cell_type": "code",
   "execution_count": 16,
   "id": "8f2c42ef",
   "metadata": {},
   "outputs": [],
   "source": [
    "brand =[]\n",
    "start =0\n",
    "end =3\n",
    "for page in range(start,end):\n",
    "    abc=driver.find_elements(By.XPATH,'//div[@class=\"_2WkVRV\"]')\n",
    "    abc=abc[0:100]\n",
    "    for i in abc:\n",
    "        brand.append(i.text)\n",
    "        \n",
    "    next_button =  driver.find_element(By.XPATH,'//a[@class=\"_1LKTO3\"]')\n",
    "    next_button.click()\n",
    "    time.sleep(3)"
   ]
  },
  {
   "cell_type": "code",
   "execution_count": 17,
   "id": "f2ecac97",
   "metadata": {},
   "outputs": [
    {
     "data": {
      "text/plain": [
       "120"
      ]
     },
     "execution_count": 17,
     "metadata": {},
     "output_type": "execute_result"
    }
   ],
   "source": [
    "len(brand)"
   ]
  },
  {
   "cell_type": "code",
   "execution_count": 18,
   "id": "62b7662f",
   "metadata": {},
   "outputs": [],
   "source": [
    "Product_Description =[]\n",
    "start =0\n",
    "end =3\n",
    "for page in range(start,end):\n",
    "    abc=driver.find_elements(By.XPATH,'//a[@class=\"IRpwTa\"]')\n",
    "    for i in abc[0:100]:\n",
    "        Product_Description.append(i.text)\n",
    "        \n",
    "    next_button =  driver.find_element(By.XPATH,'//a[@class=\"_1LKTO3\"]')\n",
    "    next_button.click()\n",
    "    time.sleep(3)"
   ]
  },
  {
   "cell_type": "code",
   "execution_count": 100,
   "id": "7d70d2a0",
   "metadata": {},
   "outputs": [
    {
     "data": {
      "text/plain": [
       "113"
      ]
     },
     "execution_count": 100,
     "metadata": {},
     "output_type": "execute_result"
    }
   ],
   "source": [
    "len(Product_Description)"
   ]
  },
  {
   "cell_type": "code",
   "execution_count": 103,
   "id": "a9672db2",
   "metadata": {},
   "outputs": [],
   "source": [
    "Price =[]\n",
    "start =0\n",
    "end =4\n",
    "for page in range(start,end):\n",
    "    abc=driver.find_elements(By.XPATH,'//div[@class=\"_30jeq3\"]')\n",
    "    for i in abc[0:100]:\n",
    "        Price.append(i.text)\n",
    "        \n",
    "    next_button =  driver.find_element(By.XPATH,'//a[@class=\"_1LKTO3\"]')\n",
    "    next_button.click()\n",
    "    time.sleep(3)"
   ]
  },
  {
   "cell_type": "code",
   "execution_count": 105,
   "id": "d8aade40",
   "metadata": {},
   "outputs": [
    {
     "data": {
      "text/plain": [
       "80"
      ]
     },
     "execution_count": 105,
     "metadata": {},
     "output_type": "execute_result"
    }
   ],
   "source": [
    "len(price)"
   ]
  },
  {
   "cell_type": "code",
   "execution_count": null,
   "id": "1d2e5a86",
   "metadata": {},
   "outputs": [],
   "source": []
  },
  {
   "cell_type": "code",
   "execution_count": null,
   "id": "4f8aa106",
   "metadata": {},
   "outputs": [],
   "source": []
  },
  {
   "cell_type": "markdown",
   "id": "1b541097",
   "metadata": {},
   "source": [
    "# ANS.7"
   ]
  },
  {
   "cell_type": "code",
   "execution_count": 106,
   "id": "f7007f31",
   "metadata": {},
   "outputs": [],
   "source": [
    "driver = webdriver.Chrome()"
   ]
  },
  {
   "cell_type": "code",
   "execution_count": 107,
   "id": "a1c8fcd6",
   "metadata": {},
   "outputs": [],
   "source": [
    "driver.get(\"https://www.amazon.in/\")"
   ]
  },
  {
   "cell_type": "code",
   "execution_count": 112,
   "id": "413c811e",
   "metadata": {},
   "outputs": [],
   "source": [
    "search_input = driver.find_element(By.ID, \"twotabsearchtextbox\")\n",
    "search_input.send_keys(\"Laptop\")"
   ]
  },
  {
   "cell_type": "code",
   "execution_count": 113,
   "id": "5343378c",
   "metadata": {},
   "outputs": [],
   "source": [
    "search_icon = driver.find_element(By.ID, \"nav-search-submit-button\")\n",
    "search_icon.click()\n"
   ]
  },
  {
   "cell_type": "code",
   "execution_count": 121,
   "id": "80150553",
   "metadata": {},
   "outputs": [
    {
     "data": {
      "text/plain": [
       "['Acer Aspire Lite 11th Gen Intel Core i5-1155G7 Thin and Light Laptop (16GB RAM/512GB SSD/Intel Iris Xe Graphics, Win 11 Home) AL15-51, 39.62cm (15.6\") Full HD Display, Metal Body, Steel Gray, 1.59 Kg',\n",
       " 'HP Chromebook X360 Intel Celeron N4020 14 inch(35.6 cm) Micro-Edge, Touchscreen, 2-in-1 Laptop (4GB RAM/64GB eMMC/Chrome OS/Intel UHD Graphics,1.49Kg), 14a-ca0506TU',\n",
       " 'JioBook 11 (2023) NB1112MM(BLU) (Mediatek 8788 Octa-core 2 GHz/ARM Mali G72 MP3 @800 MHz/29.5cms 60 Hz/Thin and Light Laptop/ 4 GB LPDDR4/ 64 GB eMMC/JioOS 4G LTE, Dual Band Wi-Fi/Blue/ 990 GMS)',\n",
       " 'Acer Aspire Lite 11th Gen Intel Core i3 Premium Metal Laptop (8GB RAM/512GB SSD/Windows 11 Home) AL15-51, 39.62cm (15.6\") Full HD Display, Metal Body, Steel Gray, 1.59 Kg',\n",
       " 'HP Chromebook 15a Intel Celeron N4500 15.6 inch (39.6cm) HD,Anti-Glare, Micro-Edge Laptop(4GB RAM/128 GB eMMC/Intel UHD Graphics/Google Assistant/Chrome 64/Numeric Keypad/Dual Speaker) 15a- na0012TU',\n",
       " 'Dell 14 Laptop, Intel Core i3-1115G4/8GB/512GB/14.0\"(35.56cm) FHD Display, TÜV Rheinland Certified Comfortview Reduce Harmful Blue Light Emissions/Win 11+MSO\\'21/15 Month McAfee/Carbon Black/1.48kg',\n",
       " 'HP Pavilion Gaming 11th Gen Intel Core i5 15.6\"(39.6cm) FHD Gaming Laptop (8GB RAM/512GB SSD/RTX 3050 4GB Graphics/144 Hz/B&O/Windows 10 Home/MS Office/2.23Kg), 15-dk2012TX, Black',\n",
       " 'HP Laptop 15s, 12th Gen Intel Core i5-1235U, 15.6-inch (39.6 cm), FHD, 8GB DDR4, 512GB SSD, Intel Iris Xe Graphics, Backlit KB, Thin & Light (Win 11, MSO 2021, Silver, 1.69 kg), fq5111TU',\n",
       " '',\n",
       " '']"
      ]
     },
     "execution_count": 121,
     "metadata": {},
     "output_type": "execute_result"
    }
   ],
   "source": [
    "Title = []\n",
    "\n",
    "\n",
    "\n",
    "Title_tags = driver.find_elements(By.XPATH,'//a[@class=\"a-link-normal s-underline-text s-underline-link-text s-link-style a-text-normal\"]')\n",
    "for i in Title_tags[0:10]:\n",
    "    Title_data = i.text\n",
    "    Title.append(Title_data)\n",
    "    \n",
    "Title  "
   ]
  },
  {
   "cell_type": "code",
   "execution_count": 120,
   "id": "fdfba49a",
   "metadata": {},
   "outputs": [
    {
     "data": {
      "text/plain": [
       "['3.3', '3.9', '2.3', '3.9', '2.1', '4.0', '4.1', '4.0', '', '']"
      ]
     },
     "execution_count": 120,
     "metadata": {},
     "output_type": "execute_result"
    }
   ],
   "source": [
    "Ratings = []\n",
    "\n",
    "\n",
    "\n",
    "Ratings_tags = driver.find_elements(By.XPATH,'//span[@class=\"a-size-base puis-bold-weight-text\"]')\n",
    "for i in Ratings_tags[0:10]:\n",
    "    Ratings_data = i.text\n",
    "    Ratings.append(Ratings_data)\n",
    "    \n",
    "Ratings "
   ]
  },
  {
   "cell_type": "code",
   "execution_count": 123,
   "id": "7143c927",
   "metadata": {},
   "outputs": [
    {
     "data": {
      "text/plain": [
       "['50,999',\n",
       " '52,990',\n",
       " '37,003',\n",
       " '41,990',\n",
       " '18,990',\n",
       " '16,499',\n",
       " '31,999',\n",
       " '17,990',\n",
       " '37,490',\n",
       " '64,990']"
      ]
     },
     "execution_count": 123,
     "metadata": {},
     "output_type": "execute_result"
    }
   ],
   "source": [
    "Price = []\n",
    "\n",
    "\n",
    "\n",
    "Price_tags = driver.find_elements(By.XPATH,'//span[@class=\"a-price-whole\"]')\n",
    "for i in Price_tags[0:10]:\n",
    "    Price_data = i.text\n",
    "    Price.append(Price_data)\n",
    "    \n",
    "Price"
   ]
  },
  {
   "cell_type": "code",
   "execution_count": null,
   "id": "ec676d0a",
   "metadata": {},
   "outputs": [],
   "source": []
  },
  {
   "cell_type": "markdown",
   "id": "6cae1475",
   "metadata": {},
   "source": [
    "# ANS.8"
   ]
  },
  {
   "cell_type": "code",
   "execution_count": 127,
   "id": "6bbf86d6",
   "metadata": {},
   "outputs": [],
   "source": [
    "driver = webdriver.Chrome()"
   ]
  },
  {
   "cell_type": "code",
   "execution_count": 129,
   "id": "6492779d",
   "metadata": {},
   "outputs": [],
   "source": [
    "driver.get(\"https://www.azquotes.com/\")"
   ]
  },
  {
   "cell_type": "code",
   "execution_count": 131,
   "id": "1affe77c",
   "metadata": {},
   "outputs": [],
   "source": [
    "#Click on Top Quotes\n",
    "\n",
    "search=driver.find_element(By.XPATH,'/html/body/div[1]/div[1]/div[1]/div/div[3]/ul/li[5]/a')\n",
    "search.click()"
   ]
  },
  {
   "cell_type": "code",
   "execution_count": 132,
   "id": "438305d9",
   "metadata": {},
   "outputs": [
    {
     "data": {
      "text/plain": [
       "['The essence of strategy is choosing what not to do.',\n",
       " 'One cannot and must not try to erase the past merely because it does not fit the present.',\n",
       " 'Patriotism means to stand by the country. It does not mean to stand by the president.',\n",
       " 'Death is something inevitable. When a man has done what he considers to be his duty to his people and his country, he can rest in peace. I believe I have made that effort and that is, therefore, why I will sleep for the eternity.',\n",
       " 'You have to love a nation that celebrates its independence every July 4, not with a parade of guns, tanks, and soldiers who file by the White House in a show of strength and muscle, but with family picnics where kids throw Frisbees, the potato salad gets iffy, and the flies die from happiness. You may think you have overeaten, but it is patriotism.',\n",
       " 'Be more concerned with your character than your reputation, because your character is what you really are, while your reputation is merely what others think you are.',\n",
       " 'Weak people revenge. Strong people forgive. Intelligent People Ignore.',\n",
       " \"A mind is like a parachute. It doesn't work if it is not open.\",\n",
       " 'Never be afraid to raise your voice for honesty and truth and compassion against injustice and lying and greed. If people all over the world...would do this, it would change the earth.',\n",
       " 'There are three kinds of men. The one that learns by reading. The few who learn by observation. The rest of them have to pee on the electric fence for themselves.']"
      ]
     },
     "execution_count": 132,
     "metadata": {},
     "output_type": "execute_result"
    }
   ],
   "source": [
    "Quote = []\n",
    "\n",
    "\n",
    "\n",
    "Quote_tags = driver.find_elements(By.XPATH,'//a[@class=\"title\"]')\n",
    "for i in Quote_tags[0:10]:\n",
    "    Quote_data = i.text\n",
    "    Quote.append(Quote_data)\n",
    "    \n",
    "Quote"
   ]
  },
  {
   "cell_type": "code",
   "execution_count": 133,
   "id": "4341f670",
   "metadata": {},
   "outputs": [
    {
     "data": {
      "text/plain": [
       "['Michael Porter',\n",
       " 'Golda Meir',\n",
       " 'Theodore Roosevelt',\n",
       " 'Nelson Mandela',\n",
       " 'Erma Bombeck',\n",
       " 'John Wooden',\n",
       " 'Albert Einstein',\n",
       " 'Frank Zappa',\n",
       " 'William Faulkner',\n",
       " 'Will Rogers']"
      ]
     },
     "execution_count": 133,
     "metadata": {},
     "output_type": "execute_result"
    }
   ],
   "source": [
    "Author = []\n",
    "\n",
    "\n",
    "\n",
    "Author_tags = driver.find_elements(By.XPATH,'//div[@class=\"author\"]')\n",
    "for i in Author_tags[0:10]:\n",
    "    Author_data = i.text\n",
    "    Author.append(Author_data)\n",
    "    \n",
    "Author  "
   ]
  },
  {
   "cell_type": "code",
   "execution_count": 134,
   "id": "f86545e3",
   "metadata": {
    "scrolled": true
   },
   "outputs": [
    {
     "data": {
      "text/plain": [
       "['Essence, Deep Thought, Transcendentalism',\n",
       " 'Inspiration, Past, Trying',\n",
       " 'Country, Peace, War',\n",
       " 'Inspirational, Motivational, Death',\n",
       " '4th Of July, Food, Patriotic',\n",
       " 'Inspirational, Success, Basketball',\n",
       " 'Strong, Revenge, Intelligent',\n",
       " 'Inspirational, Teacher, Religious',\n",
       " 'Truth, Honesty, Lying',\n",
       " 'Funny, Reading, Learning']"
      ]
     },
     "execution_count": 134,
     "metadata": {},
     "output_type": "execute_result"
    }
   ],
   "source": [
    "Type_Of_Quotes = []\n",
    "\n",
    "\n",
    "\n",
    "Quotes_tags = driver.find_elements(By.XPATH,'//div[@class=\"tags\"]')\n",
    "for i in Quotes_tags[0:10]:\n",
    "    Quotes_data = i.text\n",
    "    Type_Of_Quotes.append(Quotes_data)\n",
    "    \n",
    "Type_Of_Quotes"
   ]
  },
  {
   "cell_type": "code",
   "execution_count": null,
   "id": "ba8793fc",
   "metadata": {},
   "outputs": [],
   "source": []
  },
  {
   "cell_type": "markdown",
   "id": "2f54bdd9",
   "metadata": {},
   "source": [
    "# ANS.9"
   ]
  },
  {
   "cell_type": "code",
   "execution_count": 135,
   "id": "c4a24f93",
   "metadata": {},
   "outputs": [],
   "source": [
    "driver = webdriver.Chrome()"
   ]
  },
  {
   "cell_type": "code",
   "execution_count": 136,
   "id": "d6c4d131",
   "metadata": {},
   "outputs": [],
   "source": [
    "driver.get(\"https://www.jagranjosh.com/\")"
   ]
  },
  {
   "cell_type": "code",
   "execution_count": 137,
   "id": "b0687854",
   "metadata": {},
   "outputs": [],
   "source": [
    "#click on the GK option\n",
    "search=driver.find_element(By.XPATH,'/html/body/div/header/nav/div/div/div[3]/ul/li[3]/a')\n",
    "search.click()"
   ]
  },
  {
   "cell_type": "code",
   "execution_count": 138,
   "id": "a08bbf04",
   "metadata": {},
   "outputs": [],
   "source": [
    "#click on the List of all Prime Ministers of India\n",
    "\n",
    "Prime_Ministers=driver.find_element(By.XPATH,'/html/body/div[1]/div/div/div[2]/div/div[10]/div/div/ul/li[2]/a')\n",
    "Prime_Ministers.click()"
   ]
  },
  {
   "cell_type": "code",
   "execution_count": 143,
   "id": "981d4931",
   "metadata": {},
   "outputs": [
    {
     "data": {
      "text/plain": [
       "['Jawahar Lal Nehru']"
      ]
     },
     "execution_count": 143,
     "metadata": {},
     "output_type": "execute_result"
    }
   ],
   "source": [
    "PM_Name = []\n",
    "\n",
    "\n",
    "\n",
    "pm_tags = driver.find_elements(By.XPATH,'//*[@id=\"itemdiv\"]/div[4]/span/div[3]/table/tbody/tr[2]/td[2]/p/strong/a')\n",
    "for i in pm_tags[0:10]:\n",
    "    pm_data = i.text\n",
    "    PM_Name.append(pm_data)\n",
    "\n",
    "PM_Name    "
   ]
  },
  {
   "cell_type": "code",
   "execution_count": 145,
   "id": "faf42445",
   "metadata": {},
   "outputs": [],
   "source": [
    "table = driver.find_element(By.CLASS_NAME, \"table-box\")\n",
    "rows = table.find_elements(By.TAG_NAME, \"tr\")[1:]\n",
    "\n",
    "data = []\n",
    "for row in rows:\n",
    "    columns = row.find_elements(By.TAG_NAME, \"td\")\n",
    "    name = columns[0].text.strip()\n",
    "    born_dead = columns[1].text.strip()\n",
    "    term_of_office = columns[2].text.strip()\n",
    "    remarks = columns[3].text.strip()\n",
    "\n",
    "    data.append([name, born_dead, term_of_office, remarks])"
   ]
  },
  {
   "cell_type": "code",
   "execution_count": 148,
   "id": "2472ecab",
   "metadata": {},
   "outputs": [
    {
     "data": {
      "text/html": [
       "<div>\n",
       "<style scoped>\n",
       "    .dataframe tbody tr th:only-of-type {\n",
       "        vertical-align: middle;\n",
       "    }\n",
       "\n",
       "    .dataframe tbody tr th {\n",
       "        vertical-align: top;\n",
       "    }\n",
       "\n",
       "    .dataframe thead th {\n",
       "        text-align: right;\n",
       "    }\n",
       "</style>\n",
       "<table border=\"1\" class=\"dataframe\">\n",
       "  <thead>\n",
       "    <tr style=\"text-align: right;\">\n",
       "      <th></th>\n",
       "      <th>Name</th>\n",
       "      <th>Born-Dead</th>\n",
       "      <th>Term of Office</th>\n",
       "      <th>Remarks</th>\n",
       "    </tr>\n",
       "  </thead>\n",
       "  <tbody>\n",
       "    <tr>\n",
       "      <th>0</th>\n",
       "      <td>1.</td>\n",
       "      <td>Jawahar Lal Nehru</td>\n",
       "      <td>(1889–1964)</td>\n",
       "      <td>15 August 1947 to 27 May 1964\\n16 years, 286 days</td>\n",
       "    </tr>\n",
       "    <tr>\n",
       "      <th>1</th>\n",
       "      <td>2.</td>\n",
       "      <td>Gulzarilal Nanda (Acting)</td>\n",
       "      <td>(1898-1998)</td>\n",
       "      <td>27 May 1964 to 9 June 1964,\\n13 days</td>\n",
       "    </tr>\n",
       "    <tr>\n",
       "      <th>2</th>\n",
       "      <td>3.</td>\n",
       "      <td>Lal Bahadur Shastri</td>\n",
       "      <td>(1904–1966)</td>\n",
       "      <td>9 June 1964 to 11 January 1966\\n1 year, 216 days</td>\n",
       "    </tr>\n",
       "    <tr>\n",
       "      <th>3</th>\n",
       "      <td>4.</td>\n",
       "      <td>Gulzari Lal Nanda  (Acting)</td>\n",
       "      <td>(1898-1998)</td>\n",
       "      <td>11 January 1966 to 24 January 1966\\n13 days</td>\n",
       "    </tr>\n",
       "    <tr>\n",
       "      <th>4</th>\n",
       "      <td>5.</td>\n",
       "      <td>Indira Gandhi</td>\n",
       "      <td>(1917–1984)</td>\n",
       "      <td>24 January 1966 to 24 March 1977\\n11 years, 59...</td>\n",
       "    </tr>\n",
       "    <tr>\n",
       "      <th>5</th>\n",
       "      <td>6.</td>\n",
       "      <td>Morarji Desai</td>\n",
       "      <td>(1896–1995)</td>\n",
       "      <td>24 March 1977 to  28 July 1979 \\n2 year, 126 days</td>\n",
       "    </tr>\n",
       "    <tr>\n",
       "      <th>6</th>\n",
       "      <td>7.</td>\n",
       "      <td>Charan Singh</td>\n",
       "      <td>(1902–1987)</td>\n",
       "      <td>28 July 1979 to 14 January 1980\\n170 days</td>\n",
       "    </tr>\n",
       "    <tr>\n",
       "      <th>7</th>\n",
       "      <td>8.</td>\n",
       "      <td>Indira Gandhi</td>\n",
       "      <td>(1917–1984)</td>\n",
       "      <td>14 January 1980 to 31 October 1984\\n4 years, 2...</td>\n",
       "    </tr>\n",
       "    <tr>\n",
       "      <th>8</th>\n",
       "      <td>9.</td>\n",
       "      <td>Rajiv Gandhi</td>\n",
       "      <td>(1944–1991)</td>\n",
       "      <td>31 October 1984 to 2 December 1989\\n5 years, 3...</td>\n",
       "    </tr>\n",
       "    <tr>\n",
       "      <th>9</th>\n",
       "      <td>10.</td>\n",
       "      <td>V. P. Singh</td>\n",
       "      <td>(1931–2008)</td>\n",
       "      <td>2 December 1989 to 10 November 1990\\n343 days</td>\n",
       "    </tr>\n",
       "    <tr>\n",
       "      <th>10</th>\n",
       "      <td>11.</td>\n",
       "      <td>Chandra Shekhar</td>\n",
       "      <td>(1927–2007)</td>\n",
       "      <td>10 November 1990 to 21 June 1991\\n223 days</td>\n",
       "    </tr>\n",
       "    <tr>\n",
       "      <th>11</th>\n",
       "      <td>12.</td>\n",
       "      <td>P. V. Narasimha Rao</td>\n",
       "      <td>(1921–2004)</td>\n",
       "      <td>21 June 1991 to 16 May 1996\\n4 years, 330 days</td>\n",
       "    </tr>\n",
       "    <tr>\n",
       "      <th>12</th>\n",
       "      <td>13.</td>\n",
       "      <td>Atal Bihari Vajpayee</td>\n",
       "      <td>(1924- 2018)</td>\n",
       "      <td>16 May 1996 to 1 June 1996\\n16 days</td>\n",
       "    </tr>\n",
       "    <tr>\n",
       "      <th>13</th>\n",
       "      <td>14.</td>\n",
       "      <td>H. D. Deve Gowda</td>\n",
       "      <td>(born 1933)</td>\n",
       "      <td>1 June 1996 to 21 April 1997\\n324 days</td>\n",
       "    </tr>\n",
       "    <tr>\n",
       "      <th>14</th>\n",
       "      <td>15.</td>\n",
       "      <td>Inder Kumar Gujral</td>\n",
       "      <td>(1919–2012)</td>\n",
       "      <td>21 April 1997 to 19 March 1998 \\n332 days</td>\n",
       "    </tr>\n",
       "    <tr>\n",
       "      <th>15</th>\n",
       "      <td>16.</td>\n",
       "      <td>Atal Bihari Vajpayee</td>\n",
       "      <td>(1924-2018)</td>\n",
       "      <td>19 March 1998 to 22 May 2004 \\n6 years, 64 days</td>\n",
       "    </tr>\n",
       "    <tr>\n",
       "      <th>16</th>\n",
       "      <td>17.</td>\n",
       "      <td>Manmohan Singh</td>\n",
       "      <td>(born 1932)</td>\n",
       "      <td>22 May 2004 to 26 May 2014   \\n10 years, 4 days</td>\n",
       "    </tr>\n",
       "    <tr>\n",
       "      <th>17</th>\n",
       "      <td>18.</td>\n",
       "      <td>Narendra Modi</td>\n",
       "      <td>(born 1950)</td>\n",
       "      <td>26 May 2014 - 2019</td>\n",
       "    </tr>\n",
       "    <tr>\n",
       "      <th>18</th>\n",
       "      <td>19.</td>\n",
       "      <td>Narendra Modi</td>\n",
       "      <td>(born 1950)</td>\n",
       "      <td>30 May 2019- Incumbent</td>\n",
       "    </tr>\n",
       "  </tbody>\n",
       "</table>\n",
       "</div>"
      ],
      "text/plain": [
       "   Name                    Born-Dead Term of Office  \\\n",
       "0    1.            Jawahar Lal Nehru    (1889–1964)   \n",
       "1    2.    Gulzarilal Nanda (Acting)    (1898-1998)   \n",
       "2    3.          Lal Bahadur Shastri    (1904–1966)   \n",
       "3    4.  Gulzari Lal Nanda  (Acting)    (1898-1998)   \n",
       "4    5.                Indira Gandhi    (1917–1984)   \n",
       "5    6.                Morarji Desai    (1896–1995)   \n",
       "6    7.                 Charan Singh    (1902–1987)   \n",
       "7    8.                Indira Gandhi    (1917–1984)   \n",
       "8    9.                 Rajiv Gandhi    (1944–1991)   \n",
       "9   10.                  V. P. Singh    (1931–2008)   \n",
       "10  11.              Chandra Shekhar    (1927–2007)   \n",
       "11  12.          P. V. Narasimha Rao    (1921–2004)   \n",
       "12  13.         Atal Bihari Vajpayee   (1924- 2018)   \n",
       "13  14.             H. D. Deve Gowda    (born 1933)   \n",
       "14  15.           Inder Kumar Gujral    (1919–2012)   \n",
       "15  16.         Atal Bihari Vajpayee    (1924-2018)   \n",
       "16  17.               Manmohan Singh    (born 1932)   \n",
       "17  18.                Narendra Modi    (born 1950)   \n",
       "18  19.                Narendra Modi    (born 1950)   \n",
       "\n",
       "                                              Remarks  \n",
       "0   15 August 1947 to 27 May 1964\\n16 years, 286 days  \n",
       "1                27 May 1964 to 9 June 1964,\\n13 days  \n",
       "2    9 June 1964 to 11 January 1966\\n1 year, 216 days  \n",
       "3         11 January 1966 to 24 January 1966\\n13 days  \n",
       "4   24 January 1966 to 24 March 1977\\n11 years, 59...  \n",
       "5   24 March 1977 to  28 July 1979 \\n2 year, 126 days  \n",
       "6           28 July 1979 to 14 January 1980\\n170 days  \n",
       "7   14 January 1980 to 31 October 1984\\n4 years, 2...  \n",
       "8   31 October 1984 to 2 December 1989\\n5 years, 3...  \n",
       "9       2 December 1989 to 10 November 1990\\n343 days  \n",
       "10         10 November 1990 to 21 June 1991\\n223 days  \n",
       "11     21 June 1991 to 16 May 1996\\n4 years, 330 days  \n",
       "12                16 May 1996 to 1 June 1996\\n16 days  \n",
       "13             1 June 1996 to 21 April 1997\\n324 days  \n",
       "14          21 April 1997 to 19 March 1998 \\n332 days  \n",
       "15    19 March 1998 to 22 May 2004 \\n6 years, 64 days  \n",
       "16    22 May 2004 to 26 May 2014   \\n10 years, 4 days  \n",
       "17                                 26 May 2014 - 2019  \n",
       "18                             30 May 2019- Incumbent  "
      ]
     },
     "execution_count": 148,
     "metadata": {},
     "output_type": "execute_result"
    }
   ],
   "source": [
    "df = pd.DataFrame(data, columns=[\"Name\", \"Born-Dead\", \"Term of Office\", \"Remarks\"])\n",
    "df"
   ]
  },
  {
   "cell_type": "code",
   "execution_count": null,
   "id": "bf7f3bd2",
   "metadata": {},
   "outputs": [],
   "source": []
  },
  {
   "cell_type": "markdown",
   "id": "cd4ab292",
   "metadata": {},
   "source": [
    "# ANS.10"
   ]
  },
  {
   "cell_type": "code",
   "execution_count": 162,
   "id": "649f9f67",
   "metadata": {},
   "outputs": [],
   "source": [
    "driver = webdriver.Chrome()"
   ]
  },
  {
   "cell_type": "code",
   "execution_count": 163,
   "id": "4e5a8891",
   "metadata": {},
   "outputs": [],
   "source": [
    "driver.get(\"https://www.motor1.com/\")"
   ]
  },
  {
   "cell_type": "code",
   "execution_count": 164,
   "id": "668f4e73",
   "metadata": {},
   "outputs": [],
   "source": [
    "#SEARCH\n",
    "search_input = driver.find_element(By.XPATH, '/html/body/div[10]/div[2]/div/div/div[3]/div/div/div/form/input')\n",
    "search_input.send_keys(\"50 most expensive cars\")"
   ]
  },
  {
   "cell_type": "code",
   "execution_count": 165,
   "id": "1c392fd1",
   "metadata": {},
   "outputs": [],
   "source": [
    "#CLICK ON SEARCH ICON\n",
    "search_icon = driver.find_element(By.XPATH, '/html/body/div[10]/div[2]/div/div/div[3]/div/div/div/form/button[1]')\n",
    "search_icon.click()"
   ]
  },
  {
   "cell_type": "code",
   "execution_count": 166,
   "id": "8f1f4630",
   "metadata": {},
   "outputs": [],
   "source": [
    "#click on 50 most expensive cars in the world..\n",
    "most_expensive = driver.find_element(By.XPATH, '/html/body/div[10]/div[9]/div/div[1]/div/div/div[2]/div/div[1]/h3/a')\n",
    "most_expensive.click()"
   ]
  },
  {
   "cell_type": "code",
   "execution_count": 167,
   "id": "defc053b",
   "metadata": {},
   "outputs": [
    {
     "data": {
      "text/plain": [
       "['Aston Martin Valour',\n",
       " 'McLaren Elva',\n",
       " 'Czinger 21C',\n",
       " 'Ferrari Monza',\n",
       " 'Gordon Murray T.33',\n",
       " 'Koenigsegg Gemera',\n",
       " 'Zenvo TSR-S',\n",
       " 'Hennessey Venom F5',\n",
       " 'Bentley Bacalar',\n",
       " 'Hispano Suiza Carmen Boulogne',\n",
       " 'Bentley Mulliner Batur',\n",
       " 'Deus Vayanne',\n",
       " 'SSC Tuatara',\n",
       " 'Lotus Evija',\n",
       " 'Aston Martin Vulcan',\n",
       " 'Delage D12',\n",
       " 'Ferrari Daytona SP3',\n",
       " 'McLaren Speedtail',\n",
       " 'Rimac Nevera',\n",
       " 'Pagani Utopia',\n",
       " 'Pininfarina Battista',\n",
       " 'Gordon Murray T.50',\n",
       " 'Lamborghini Countach',\n",
       " 'Mercedes-AMG Project One',\n",
       " 'Zenvo Aurora',\n",
       " 'Aston Martin Victor',\n",
       " 'Hennessey Venom F5 Roadster',\n",
       " 'Koenigsegg Jesko',\n",
       " 'Aston Martin Valkyrie',\n",
       " 'W Motors Lykan Hypersport',\n",
       " 'McLaren Solus',\n",
       " 'Lamborghini Sian',\n",
       " 'Koenigsegg CC850',\n",
       " 'Bugatti Chiron Super Sport 300+',\n",
       " 'Lamborghini Veneno',\n",
       " 'Bugatti Bolide',\n",
       " 'Pininfarina B95 Speedster',\n",
       " 'Bugatti Mistral',\n",
       " 'Pagani Huayra Imola',\n",
       " 'Bugatti Divo',\n",
       " 'SP Automotive Chaos',\n",
       " 'Pagani Codalunga',\n",
       " '777 Hypercar',\n",
       " 'Mercedes-Maybach Exelero',\n",
       " 'Bugatti Centodieci',\n",
       " 'Bugatti Chiron Profilée',\n",
       " 'Rolls-Royce Sweptail',\n",
       " 'Bugatti La Voiture Noire',\n",
       " 'Rolls-Royce Boat Tail*',\n",
       " 'Rolls-Royce La Rose Noire Droptail']"
      ]
     },
     "execution_count": 167,
     "metadata": {},
     "output_type": "execute_result"
    }
   ],
   "source": [
    "# 50 cars scrap\n",
    "\n",
    "CAR_NAME = []\n",
    "\n",
    "\n",
    "\n",
    "car_tags = driver.find_elements(By.XPATH,'//h3[@class=\"subheader\"]')\n",
    "for i in car_tags[0:50]:\n",
    "    car_data = i.text\n",
    "    CAR_NAME.append(car_data)\n",
    "    \n",
    "CAR_NAME"
   ]
  },
  {
   "cell_type": "code",
   "execution_count": 169,
   "id": "cc2c0662",
   "metadata": {},
   "outputs": [
    {
     "data": {
      "text/plain": [
       "[]"
      ]
     },
     "execution_count": 169,
     "metadata": {},
     "output_type": "execute_result"
    }
   ],
   "source": [
    "CAR_price = []\n",
    "\n",
    "\n",
    "\n",
    "car_tags = driver.find_elements(By.CLASS_NAME,'p')\n",
    "for i in car_tags[0:50]:\n",
    "    car_data = i.text\n",
    "    CAR_price.append(car_data)\n",
    "    \n",
    "CAR_price"
   ]
  },
  {
   "cell_type": "code",
   "execution_count": null,
   "id": "8ac8b3ce",
   "metadata": {},
   "outputs": [],
   "source": []
  }
 ],
 "metadata": {
  "kernelspec": {
   "display_name": "Python 3 (ipykernel)",
   "language": "python",
   "name": "python3"
  },
  "language_info": {
   "codemirror_mode": {
    "name": "ipython",
    "version": 3
   },
   "file_extension": ".py",
   "mimetype": "text/x-python",
   "name": "python",
   "nbconvert_exporter": "python",
   "pygments_lexer": "ipython3",
   "version": "3.9.13"
  }
 },
 "nbformat": 4,
 "nbformat_minor": 5
}
